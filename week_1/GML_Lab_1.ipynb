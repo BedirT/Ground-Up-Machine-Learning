{
  "nbformat": 4,
  "nbformat_minor": 0,
  "metadata": {
    "colab": {
      "provenance": []
    },
    "kernelspec": {
      "name": "python3",
      "display_name": "Python 3"
    },
    "language_info": {
      "name": "python"
    }
  },
  "cells": [
    {
      "cell_type": "markdown",
      "source": [
        "# Part 1: Exploratory Data Analysis (EDA)"
      ],
      "metadata": {
        "id": "PDCh5-UZ80XD"
      }
    },
    {
      "cell_type": "markdown",
      "source": [
        "##Load the Dataset"
      ],
      "metadata": {
        "id": "_WMG0Fvc87V5"
      }
    },
    {
      "cell_type": "code",
      "source": [
        "# Load the dataset using pandas and display the first few rows to understand its structure."
      ],
      "metadata": {
        "id": "YZGNAVE19FXy"
      },
      "execution_count": null,
      "outputs": []
    },
    {
      "cell_type": "markdown",
      "source": [
        "## Data Visualization"
      ],
      "metadata": {
        "id": "uk0wSQdv89wU"
      }
    },
    {
      "cell_type": "code",
      "source": [
        "# Visualize the distribution of each feature in the dataset using histograms or boxplots.\n",
        "# Create scatter plots to explore the relationships between features and the target variable, AnnualSpending.\n",
        "# Hint: Use matplotlib for visualization."
      ],
      "metadata": {
        "id": "vhJ2vNUK9Fwb"
      },
      "execution_count": null,
      "outputs": []
    },
    {
      "cell_type": "markdown",
      "source": [
        "## Correlation Analysis"
      ],
      "metadata": {
        "id": "wBHbwK1N8901"
      }
    },
    {
      "cell_type": "code",
      "source": [
        "# Calculate and visualize the correlation matrix to understand the relationships between features.\n",
        "# Hint: Heatmaps can be useful for displaying the correlation matrix, look at matplotlib!"
      ],
      "metadata": {
        "id": "xsLyGwvb9GCB"
      },
      "execution_count": null,
      "outputs": []
    },
    {
      "cell_type": "markdown",
      "source": [
        "# Part 2: Model Experimentation"
      ],
      "metadata": {
        "id": "JYYRHbKL896R"
      }
    },
    {
      "cell_type": "markdown",
      "source": [
        "## Data Preprocessing"
      ],
      "metadata": {
        "id": "dosOKLc889-U"
      }
    },
    {
      "cell_type": "code",
      "source": [
        "# Split the data.\n",
        "# Hint: Use train_test_split from sklearn.model_selection or do it yourself!"
      ],
      "metadata": {
        "id": "XxT0ALh59lIx"
      },
      "execution_count": null,
      "outputs": []
    },
    {
      "cell_type": "markdown",
      "source": [
        "## Train a Linear Regression Model"
      ],
      "metadata": {
        "id": "MHNn5W0f9dGQ"
      }
    },
    {
      "cell_type": "code",
      "source": [
        "# Use LinearRegression from sklearn.linear_model to train a model on the training set.\n",
        "# Predict the AnnualSpending for the test set."
      ],
      "metadata": {
        "id": "V0SjQaXt9lpk"
      },
      "execution_count": null,
      "outputs": []
    },
    {
      "cell_type": "markdown",
      "source": [
        "## Model Evaluation"
      ],
      "metadata": {
        "id": "Tyy5Rq489dI_"
      }
    },
    {
      "cell_type": "code",
      "source": [
        "# Evaluate your model's performance using the Mean Squared Error (MSE) metric.\n",
        "# Hint: Use mean_squared_error from sklearn.metrics."
      ],
      "metadata": {
        "id": "QyK8PJP99mmt"
      },
      "execution_count": null,
      "outputs": []
    },
    {
      "cell_type": "markdown",
      "source": [
        "## Experiment with Different Models"
      ],
      "metadata": {
        "id": "lKzKFWqW-LgQ"
      }
    },
    {
      "cell_type": "code",
      "source": [
        "# Use some other models from sklearn library. Google away!"
      ],
      "metadata": {
        "id": "uBtUhMLf-ORV"
      },
      "execution_count": null,
      "outputs": []
    },
    {
      "cell_type": "markdown",
      "source": [
        "# Part 3: Feature Engineering"
      ],
      "metadata": {
        "id": "3dp3mKiH9dLc"
      }
    },
    {
      "cell_type": "markdown",
      "source": [
        "## Create New Features"
      ],
      "metadata": {
        "id": "jUAjCLyd9dQT"
      }
    },
    {
      "cell_type": "code",
      "source": [
        "# Based on your EDA, create new features that might improve the model's performance.\n",
        "# For example, consider combining features or transforming them (e.g., logarithmic scale)."
      ],
      "metadata": {
        "id": "ajnBBHXz9pKL"
      },
      "execution_count": null,
      "outputs": []
    },
    {
      "cell_type": "markdown",
      "source": [
        "## Re-train Your Model"
      ],
      "metadata": {
        "id": "ufIbgIlI9pRc"
      }
    },
    {
      "cell_type": "code",
      "source": [
        "# Include your new features in the model, train it again, and evaluate its performance.\n",
        "# Compare the performance with the initial model and document any improvements."
      ],
      "metadata": {
        "id": "yxd_BycF9pbw"
      },
      "execution_count": null,
      "outputs": []
    },
    {
      "cell_type": "markdown",
      "source": [
        "# Report\n",
        "\n",
        "Write down your findings, and report what you think!"
      ],
      "metadata": {
        "id": "MDyFWG-u9yV_"
      }
    }
  ]
}
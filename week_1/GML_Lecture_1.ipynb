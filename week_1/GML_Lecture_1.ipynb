{
  "cells": [
    {
      "cell_type": "markdown",
      "metadata": {
        "id": "w9IrkXAreDlt"
      },
      "source": [
        "# GML - Week 1: Introduction to ML & Supervised Learning - Regression"
      ]
    },
    {
      "cell_type": "markdown",
      "metadata": {
        "id": "D4GI6wELqPiQ"
      },
      "source": [
        "## Lecture Outline\n"
      ]
    },
    {
      "cell_type": "markdown",
      "metadata": {
        "id": "EqL5vfq2qYh-"
      },
      "source": [
        "1. **Introduction to Machine Learning and Its Evolution**\n",
        "   - **History and Evolution of AI and Machine Learning:** Quick overview, from perceptrons to deep learning.\n",
        "   - **Distinction between ML/AI/DS/DL:** Clarifying the terms Artificial Intelligence (AI), Machine Learning (ML), Deep Learning (DL), and Data Science (DS), and how they relate to each other.\n",
        "   - **Types of ML:** Explaining the different Machine Learning methods: Supervised Learning, Unsupervised Learning and Reinforcement Learning.\n",
        "2. **Introduction to the Tools We will Utilize**\n",
        "   - **Interactive Notebook:** Showing how we are making use of interactive python notebooks, and why are they a good choice for us, and how to use them.\n",
        "   - **Python:** Very quick and brief reminder of some python components.\n",
        "   - **Numpy:** Mentioning the basic functions of numpy and how to use it.\n",
        "   - **Pandas:** Tad bit of this as well!\n",
        "3. **Understanding Data in Machine Learning**\n",
        "   - **Features and Targets:** Introduction to the concepts of features (independent variables) and targets (dependent variables).\n",
        "   - **Data Visualization:** Demonstrating the use of plots to explore relationships in data.\n",
        "4. **Fundamentals of Supervised Learning: Regression**\n",
        "   - **Introduction to Supervised Learning:** Basic introduction to what supervised learning is, and specifically regression.\n",
        "   - **Real-world examples:** Discussing some real world scenarios and how regression is used in the real world.\n",
        "   - **Classification vs. Regression:** Highlighting the differences, focusing on the predictive nature of regression for continuous outcomes.\n",
        "   - **Linear Regression Basics:** Introduction to the simplest form of predictive modeling.\n",
        "   - **Loss Functions:** Discussion on different ways to measure model accuracy, emphasizing Mean Squared Error (MSE) and Mean Absolute Error (MAE) for their simplicity and interpretability.\n",
        "   - **Overfitting and Underfitting:** Concepts of overfitting and underfitting covered. How model complexity effects overfitting and underfitting.\n",
        "   - **Train-Test-Val Split:** Importance of splitting data into training, test and validation sets to evaluate model performance realistically."
      ]
    },
    {
      "cell_type": "markdown",
      "metadata": {
        "id": "xZFz7renqTN7"
      },
      "source": [
        "\n",
        "## Coding Challenge for the week"
      ]
    },
    {
      "cell_type": "markdown",
      "metadata": {
        "id": "zLNqBkXtqdpr"
      },
      "source": [
        "**Task(s):**\n",
        "- Ground up coding of the linear regression model and all the bits and pieces we discussed in class using only python and numpy.\n",
        "- Using this model you built to train a regression model for a dataset you select. Use https://www.kaggle.com/datasets to find a dataset and a question you want to answer! You can always ask in Discord to see if your question is viable or you need help finding a dataset.\n",
        "- Then using your model and some data cleaning answer your question.\n",
        "- Follow all the concepts you learned in class (and maybe even more) to solidify what we learned!\n",
        "- Plot twist: This will be a group project! Please split into groups of 2. Everyones submission will be separate but your pair will be the person you discuss your methodology questions etc. if you want you can even work on it completely together but this is still your own assignment (individual), so submissions are separately done (do not code together please) and everyone needs their own dataset.\n",
        "- I will individually go over your report/code and provide a comprehensive feedback before next class (after hand-in)"
      ]
    },
    {
      "cell_type": "markdown",
      "metadata": {
        "id": "uKMyRXd-qVKp"
      },
      "source": [
        "\n",
        "Note: Please ask any questions you have in class immideatly, we are a small classroom so we can use this to our advantage like this."
      ]
    },
    {
      "cell_type": "markdown",
      "metadata": {
        "id": "PhgjQ_e3qfXj"
      },
      "source": [
        "## Let's Start The Lecture!"
      ]
    },
    {
      "cell_type": "markdown",
      "metadata": {
        "id": "3i98TXSouz4u"
      },
      "source": [
        "# Introduction to Machine Learning and Its Evolution"
      ]
    },
    {
      "cell_type": "markdown",
      "metadata": {
        "id": "B3EjHNjgwJhJ"
      },
      "source": [
        "## History of AI and Machine Learning"
      ]
    },
    {
      "cell_type": "markdown",
      "metadata": {
        "id": "pWsu8u0ywNLS"
      },
      "source": [
        "### Condensed Timeline of AI and ML\n",
        "\n",
        "1. **1950 - The Turing Test:** Alan Turing proposes a test for machine intelligence, foundational to AI's conceptual beginnings.\n",
        "\n",
        "2. **1956 - Dartmouth Conference:** The term \"Artificial Intelligence\" is coined, marking the field's official inception.\n",
        "\n",
        "3. **1980s - Expert Systems:** The development and success of expert systems bring a renewed interest in AI.\n",
        "\n",
        "4. **1986 - Backpropagation Popularized:** Essential for training deep neural networks, reigniting interest in neural network research.\n",
        "\n",
        "5. **1997 - Deep Blue Beats Kasparov:** IBM's Deep Blue defeats the world chess champion, a significant demonstration of AI's potential.\n",
        "\n",
        "6. **2012 - AlexNet Wins ImageNet:** This victory in image recognition benchmarks marks the rise of deep learning in AI.\n",
        "\n",
        "7. **2017 - AlphaGo Beats Lee Sedol:** DeepMind's AlphaGo defeats a world champion in Go, showcasing advanced AI capabilities.\n",
        "\n",
        "8. **2020s - AI Ethics and Governance:** Growing focus on the ethical use of AI and the establishment of guidelines for responsible AI development.\n",
        "\n",
        "9. **Generative AI**: ChatGPT and variants are everywhere thanks to Large Language Models built with Deep Neural Networks.\n",
        "\n",
        "This condensed timeline captures the essence of AI and ML evolution, highlighting groundbreaking achievements and shifts in the field's focus.\n",
        "\n",
        "![](https://miro.medium.com/v2/resize:fit:1400/0*CNg8cTrrrZmZmFII)\n",
        "\n",
        "### ML In Real-World?\n",
        "\n",
        "![](https://www.aiiottalk.com/wp-content/uploads/2021/12/Real-World-Applications-Of-Machine-Learning-1200x815.jpg)\n",
        "\n",
        "![](https://helios-i.mashable.com/imagery/articles/063u7bFm0LTiAGuk9oNP3fU/hero-image.fill.size_1248x702.v1611614184.jpg)\n",
        "\n",
        "![](https://miro.medium.com/v2/resize:fit:679/1*pyDWEf7qautBRq3lcw5xew.gif)\n",
        "\n",
        "![]()"
      ]
    },
    {
      "cell_type": "markdown",
      "metadata": {
        "id": "NhiXhVXOqofh"
      },
      "source": [
        "## Distinction between AI/ML/DL/DS"
      ]
    },
    {
      "cell_type": "markdown",
      "metadata": {
        "id": "dOnJorTSs3sG"
      },
      "source": [
        "![ml_vs_ai](https://studyopedia.com/wp-content/uploads/2022/12/Data-Science-VS-Machine-Learning-VS-Artificial-Intelligence-vs-Deep-Learning-Studyopedia-1024x432.png)\n",
        "\n",
        "- **Example of AI that is not ML:** Rule based systems (called expert systems). It doesn't learn from new data; all logic must be manually encoded by experts. Example below"
      ]
    },
    {
      "cell_type": "code",
      "execution_count": 75,
      "metadata": {
        "colab": {
          "base_uri": "https://localhost:8080/"
        },
        "id": "d2NTy7zRuNJW",
        "outputId": "26d52d49-b12c-4006-c274-92de6d6d4b2d"
      },
      "outputs": [
        {
          "name": "stdout",
          "output_type": "stream",
          "text": [
            "Lack of water and possible nutrient deficiency.\n"
          ]
        }
      ],
      "source": [
        "def diagnose_plant(wilted_leaves, yellow_leaves, stunted_growth):\n",
        "    if wilted_leaves and yellow_leaves:\n",
        "        return \"Lack of water and possible nutrient deficiency.\"\n",
        "    elif wilted_leaves and not yellow_leaves:\n",
        "        return \"Lack of water.\"\n",
        "    elif not wilted_leaves and yellow_leaves:\n",
        "        return \"Nutrient deficiency.\"\n",
        "    elif stunted_growth:\n",
        "        return \"Check root system for issues.\"\n",
        "    else:\n",
        "        return \"Plant is healthy.\"\n",
        "\n",
        "# Example diagnosis\n",
        "print(diagnose_plant(wilted_leaves=True, yellow_leaves=True, stunted_growth=False))"
      ]
    },
    {
      "cell_type": "markdown",
      "metadata": {
        "id": "YZ6wpfWCrv3B"
      },
      "source": [
        "## Types of ML"
      ]
    },
    {
      "cell_type": "markdown",
      "metadata": {
        "id": "4NUlqEwpriYC"
      },
      "source": [
        "![ML Types Diagram](https://media.licdn.com/dms/image/C4D12AQFrOEl0nRQaow/article-inline_image-shrink_1000_1488/0/1552660934729?e=1713398400&v=beta&t=immRxG_ZhM9tQSkrXG6ww0YJkOLImviFRrS7t46ExUs)\n",
        "\n",
        "![](https://programmerhumor.io/wp-content/uploads/2023/01/programmerhumor-io-python-memes-programming-memes-3ad40a8c986ebf2-758x757.jpg)\n",
        "\n",
        "Imagine we're teaching a computer to learn, just like how you might learn a new subject.\n",
        "\n",
        "### Supervised Learning\n",
        "\n",
        "- Learning with a tutor.\n",
        "- Tutor gives you bunch of questions (data) along with their answers (labels).\n",
        "- You must study these questions and the answers well so that you can answer a question that you didn't see before.\n",
        "- You can use what you've learned to come up with the right answer.\n",
        "\n",
        "Examples:\n",
        "\n",
        "- Predicting the price of a house based on its features (size, location, etc.).\n",
        "- Determining if an email is spam or not.\n",
        "- Predicting the object in the image.\n",
        "- Determining if someone has a desease or not.\n",
        "\n",
        "### Unsupervised Learning\n",
        "\n",
        "- You are given a pile of toy blocks.\n",
        "- You are asked to group them in a meaningful way.\n",
        "- When you are given a new block, you determine which pile it goes based on its features like color, shape etc.\n",
        "\n",
        "Examples:\n",
        "\n",
        "- Grouping customers based on purchasing behavior without knowing in advance any categories of shoppers.\n",
        "- Determining which words are similar to each other.\n",
        "\n",
        "### Reinforcement Learning\n",
        "\n",
        "- A dog is learning to sit.\n",
        "- Dog has no idea what sitting as a concept is.\n",
        "- Every time your dog successfully sits you give him a treat (reward).\n",
        "- Over time your dog learn that if he sits when you ask him to he will enjoy a treat.\n",
        "\n",
        "Examples:\n",
        "\n",
        "- Learning to play chess by trial and error.\n",
        "- A robot trying to navigate a maze.\n",
        "\n",
        "**In summary, in Supervised Learning, we learn from examples with known answers. In Unsupervised Learning, we explore data to find structure or patterns on our own. And in Reinforcement Learning, we learn through trial and error, using feedback from our actions to make better decisions.**\n"
      ]
    },
    {
      "cell_type": "code",
      "execution_count": 76,
      "metadata": {
        "colab": {
          "base_uri": "https://localhost:8080/",
          "height": 472
        },
        "id": "C1W7agQ57olI",
        "outputId": "5395cf16-5351-4823-aa0a-3e202a41c817"
      },
      "outputs": [
        {
          "data": {
            "image/png": "[encoded data removed]",
            "text/plain": [
              "<Figure size 640x480 with 1 Axes>"
            ]
          },
          "metadata": {},
          "output_type": "display_data"
        }
      ],
      "source": [
        "import matplotlib.pyplot as plt\n",
        "import numpy as np\n",
        "from sklearn.linear_model import LinearRegression\n",
        "\n",
        "# Generate some random data\n",
        "np.random.seed(0)\n",
        "X = 2.5 * np.random.randn(100) + 1.5   # Array of 100 values with mean = 1.5, stddev = 2.5\n",
        "Y = 2 + 0.3 * X + np.random.randn(100) # Actual equation is Y = 2 + 0.3X + noise\n",
        "\n",
        "# Fit the regression model\n",
        "model = LinearRegression().fit(X.reshape(-1, 1), Y)\n",
        "\n",
        "# Predictions\n",
        "predictions = model.predict(X.reshape(-1, 1))\n",
        "\n",
        "# Plotting\n",
        "plt.scatter(X, Y, color='blue', label='Data points')\n",
        "plt.plot(X, predictions, color='red', label='Linear regression line')\n",
        "plt.title('Linear Regression Example')\n",
        "plt.xlabel('X')\n",
        "plt.ylabel('Y')\n",
        "plt.legend()\n",
        "plt.show()"
      ]
    },
    {
      "cell_type": "markdown",
      "metadata": {
        "id": "IKVZsCURFBC8"
      },
      "source": [
        "# Introcudtion to the Tools We will Utilize"
      ]
    },
    {
      "cell_type": "markdown",
      "metadata": {
        "id": "17p5R_ftFDCp"
      },
      "source": [
        "## Interactive Notebook\n",
        "\n",
        "This is pretty much it :)\n",
        "\n",
        "Benefits:\n",
        "- Sequential running\n",
        "- Partial execution\n",
        "- Text blocks\n",
        "- Great for learning and rapid experimentation"
      ]
    },
    {
      "cell_type": "markdown",
      "metadata": {
        "id": "v29eCdYCFHO0"
      },
      "source": [
        "## Python (Rapid Reminder)"
      ]
    },
    {
      "cell_type": "code",
      "execution_count": 77,
      "metadata": {
        "colab": {
          "base_uri": "https://localhost:8080/"
        },
        "id": "QCvUH0zUGJZW",
        "outputId": "b508aa88-5bc8-43e2-b480-5eee5290703f"
      },
      "outputs": [
        {
          "name": "stdout",
          "output_type": "stream",
          "text": [
            "Sum: 15\n"
          ]
        }
      ],
      "source": [
        "# Python Basics\n",
        "\n",
        "# Variables\n",
        "x = 10\n",
        "y = 5\n",
        "\n",
        "# Basic arithmetic operations\n",
        "sum = x + y\n",
        "print(\"Sum:\", sum)"
      ]
    },
    {
      "cell_type": "code",
      "execution_count": 78,
      "metadata": {
        "id": "_WVY15yEGYY-"
      },
      "outputs": [],
      "source": [
        "# Lists\n",
        "numbers = [1, 2, 3, 4, 5]"
      ]
    },
    {
      "cell_type": "code",
      "execution_count": 79,
      "metadata": {
        "colab": {
          "base_uri": "https://localhost:8080/"
        },
        "id": "Jkgoqma0GZc_",
        "outputId": "ef594d42-ca11-4954-d6c9-abc7896696d6"
      },
      "outputs": [
        {
          "name": "stdout",
          "output_type": "stream",
          "text": [
            "1\n",
            "2\n",
            "3\n",
            "4\n",
            "5\n"
          ]
        }
      ],
      "source": [
        "# Loops\n",
        "for number in numbers:\n",
        "    print(number)"
      ]
    },
    {
      "cell_type": "code",
      "execution_count": 80,
      "metadata": {
        "colab": {
          "base_uri": "https://localhost:8080/"
        },
        "id": "aoitoVfhGekJ",
        "outputId": "c59b7fa6-3913-4549-c0a8-c24b66a216ab"
      },
      "outputs": [
        {
          "name": "stdout",
          "output_type": "stream",
          "text": [
            "Hello, World!\n"
          ]
        }
      ],
      "source": [
        "# Functions\n",
        "def greet(name):\n",
        "    return f\"Hello, {name}!\"\n",
        "\n",
        "# Calling a function\n",
        "print(greet(\"World\"))"
      ]
    },
    {
      "cell_type": "markdown",
      "metadata": {
        "id": "l39848o-GkOf"
      },
      "source": [
        "## Numpy Basics"
      ]
    },
    {
      "cell_type": "code",
      "execution_count": 81,
      "metadata": {
        "colab": {
          "base_uri": "https://localhost:8080/"
        },
        "id": "mG8wJoXHGPua",
        "outputId": "1d7ba73d-a7af-4299-afd0-4597b02614b7"
      },
      "outputs": [
        {
          "name": "stdout",
          "output_type": "stream",
          "text": [
            "Array a: [1 2 3]\n"
          ]
        }
      ],
      "source": [
        "# Importing NumPy\n",
        "import numpy as np\n",
        "\n",
        "# Creating arrays\n",
        "a = np.array([1, 2, 3])\n",
        "print(\"Array a:\", a)"
      ]
    },
    {
      "cell_type": "code",
      "execution_count": 82,
      "metadata": {
        "colab": {
          "base_uri": "https://localhost:8080/"
        },
        "id": "D9Dawi6pGi3_",
        "outputId": "4d06fb7b-51f6-402b-831b-7893f00e3c66"
      },
      "outputs": [
        {
          "name": "stdout",
          "output_type": "stream",
          "text": [
            "Sum of a and b: [5 7 9]\n"
          ]
        }
      ],
      "source": [
        "# Array operations\n",
        "b = np.array([4, 5, 6])\n",
        "sum = a + b\n",
        "print(\"Sum of a and b:\", sum)"
      ]
    },
    {
      "cell_type": "code",
      "execution_count": 83,
      "metadata": {
        "colab": {
          "base_uri": "https://localhost:8080/"
        },
        "id": "EW5DrMzJGodF",
        "outputId": "0eacacd2-f864-41c4-ac9a-a29ff85391ed"
      },
      "outputs": [
        {
          "name": "stdout",
          "output_type": "stream",
          "text": [
            "Matrix:\n",
            " [[1 2 3]\n",
            " [4 5 6]]\n"
          ]
        }
      ],
      "source": [
        "# Multi-dimensional arrays\n",
        "matrix = np.array([[1, 2, 3], [4, 5, 6]])\n",
        "print(\"Matrix:\\n\", matrix)"
      ]
    },
    {
      "cell_type": "code",
      "execution_count": 84,
      "metadata": {
        "colab": {
          "base_uri": "https://localhost:8080/"
        },
        "id": "RkU8ka__A_MC",
        "outputId": "9ef44cb5-859e-477d-e147-d7eb711b8e53"
      },
      "outputs": [
        {
          "data": {
            "text/plain": [
              "(2, 3)"
            ]
          },
          "execution_count": 84,
          "metadata": {},
          "output_type": "execute_result"
        }
      ],
      "source": [
        "matrix.shape"
      ]
    },
    {
      "cell_type": "code",
      "execution_count": 85,
      "metadata": {
        "colab": {
          "base_uri": "https://localhost:8080/"
        },
        "id": "T3bjL82IGqvS",
        "outputId": "4adfce5c-7c57-45c0-f580-af0320d479f5"
      },
      "outputs": [
        {
          "name": "stdout",
          "output_type": "stream",
          "text": [
            "First row: [1 2 3]\n",
            "Element in first row, second column: 2\n"
          ]
        }
      ],
      "source": [
        "# Accessing elements\n",
        "print(\"First row:\", matrix[0])\n",
        "print(\"Element in first row, second column:\", matrix[0, 1])"
      ]
    },
    {
      "cell_type": "code",
      "execution_count": 86,
      "metadata": {
        "colab": {
          "base_uri": "https://localhost:8080/"
        },
        "id": "mccojv5DGsFq",
        "outputId": "a044ebf5-3741-424f-9a72-b84becbc4b65"
      },
      "outputs": [
        {
          "name": "stdout",
          "output_type": "stream",
          "text": [
            "Mean of all elements in matrix: 3.5\n",
            "Standard deviation: 1.707825127659933\n"
          ]
        }
      ],
      "source": [
        "# Basic statistics\n",
        "print(\"Mean of all elements in matrix:\", np.mean(matrix))\n",
        "print(\"Standard deviation:\", np.std(matrix))"
      ]
    },
    {
      "cell_type": "code",
      "execution_count": 87,
      "metadata": {
        "colab": {
          "base_uri": "https://localhost:8080/"
        },
        "id": "-NzV3Vp7GyD1",
        "outputId": "75e6b755-a1d8-4fb5-b20b-2bcf5e971a31"
      },
      "outputs": [
        {
          "name": "stdout",
          "output_type": "stream",
          "text": [
            "Reshaped matrix:\n",
            " [[1 2]\n",
            " [3 4]\n",
            " [5 6]]\n"
          ]
        }
      ],
      "source": [
        "# Reshaping arrays\n",
        "reshaped = matrix.reshape((3, 2))\n",
        "print(\"Reshaped matrix:\\n\", reshaped)"
      ]
    },
    {
      "cell_type": "code",
      "execution_count": 88,
      "metadata": {
        "colab": {
          "base_uri": "https://localhost:8080/",
          "height": 472
        },
        "id": "WgFDQJ0oG0UW",
        "outputId": "9d909be2-e52e-4193-b13c-036c6943d96a"
      },
      "outputs": [
        {
          "data": {
            "image/png": "[encoded data removed]",
            "text/plain": [
              "<Figure size 640x480 with 1 Axes>"
            ]
          },
          "metadata": {},
          "output_type": "display_data"
        }
      ],
      "source": [
        "# Plotting with Matplotlib and NumPy\n",
        "import matplotlib.pyplot as plt\n",
        "\n",
        "x = np.linspace(0, 10, 100) # 100 points from 0 to 10\n",
        "y = np.sin(x)\n",
        "\n",
        "plt.plot(x, y)\n",
        "plt.title(\"Sine Wave\")\n",
        "plt.xlabel(\"X\")\n",
        "plt.ylabel(\"sin(X)\")\n",
        "plt.show()"
      ]
    },
    {
      "cell_type": "code",
      "execution_count": null,
      "metadata": {
        "id": "SedohvQbA71R"
      },
      "outputs": [],
      "source": []
    },
    {
      "cell_type": "markdown",
      "metadata": {
        "id": "F1V7UEJy_TeH"
      },
      "source": [
        "## Pandas"
      ]
    },
    {
      "cell_type": "code",
      "execution_count": 89,
      "metadata": {
        "colab": {
          "base_uri": "https://localhost:8080/",
          "height": 206
        },
        "id": "_4BmnMsr_VGM",
        "outputId": "93a3d5f3-7ec9-403d-885e-bb159f89709f"
      },
      "outputs": [
        {
          "data": {
            "text/html": [
              "<div>\n",
              "<style scoped>\n",
              "    .dataframe tbody tr th:only-of-type {\n",
              "        vertical-align: middle;\n",
              "    }\n",
              "\n",
              "    .dataframe tbody tr th {\n",
              "        vertical-align: top;\n",
              "    }\n",
              "\n",
              "    .dataframe thead th {\n",
              "        text-align: right;\n",
              "    }\n",
              "</style>\n",
              "<table border=\"1\" class=\"dataframe\">\n",
              "  <thead>\n",
              "    <tr style=\"text-align: right;\">\n",
              "      <th></th>\n",
              "      <th>Name</th>\n",
              "      <th>Age</th>\n",
              "      <th>City</th>\n",
              "    </tr>\n",
              "  </thead>\n",
              "  <tbody>\n",
              "    <tr>\n",
              "      <th>0</th>\n",
              "      <td>Alice</td>\n",
              "      <td>24</td>\n",
              "      <td>New York</td>\n",
              "    </tr>\n",
              "    <tr>\n",
              "      <th>1</th>\n",
              "      <td>Bob</td>\n",
              "      <td>30</td>\n",
              "      <td>Los Angeles</td>\n",
              "    </tr>\n",
              "    <tr>\n",
              "      <th>2</th>\n",
              "      <td>Charlie</td>\n",
              "      <td>35</td>\n",
              "      <td>Chicago</td>\n",
              "    </tr>\n",
              "    <tr>\n",
              "      <th>3</th>\n",
              "      <td>David</td>\n",
              "      <td>40</td>\n",
              "      <td>Houston</td>\n",
              "    </tr>\n",
              "    <tr>\n",
              "      <th>4</th>\n",
              "      <td>Eva</td>\n",
              "      <td>28</td>\n",
              "      <td>Phoenix</td>\n",
              "    </tr>\n",
              "  </tbody>\n",
              "</table>\n",
              "</div>"
            ],
            "text/plain": [
              "      Name  Age         City\n",
              "0    Alice   24     New York\n",
              "1      Bob   30  Los Angeles\n",
              "2  Charlie   35      Chicago\n",
              "3    David   40      Houston\n",
              "4      Eva   28      Phoenix"
            ]
          },
          "execution_count": 89,
          "metadata": {},
          "output_type": "execute_result"
        }
      ],
      "source": [
        "# Importing Pandas\n",
        "import pandas as pd\n",
        "\n",
        "# Creating a DataFrame from a dictionary\n",
        "data = {\n",
        "    'Name': ['Alice', 'Bob', 'Charlie', 'David', 'Eva'],\n",
        "    'Age': [24, 30, 35, 40, 28],\n",
        "    'City': ['New York', 'Los Angeles', 'Chicago', 'Houston', 'Phoenix']\n",
        "}\n",
        "df = pd.DataFrame(data)\n",
        "df.head()"
      ]
    },
    {
      "cell_type": "code",
      "execution_count": 90,
      "metadata": {
        "colab": {
          "base_uri": "https://localhost:8080/"
        },
        "id": "9-Fm5ejC_ZBx",
        "outputId": "79c2d7ef-2843-44b6-95d7-87079136df0c"
      },
      "outputs": [
        {
          "name": "stdout",
          "output_type": "stream",
          "text": [
            "\n",
            "Names column:\n",
            "0      Alice\n",
            "1        Bob\n",
            "2    Charlie\n",
            "3      David\n",
            "4        Eva\n",
            "Name: Name, dtype: object\n"
          ]
        }
      ],
      "source": [
        "# Accessing columns\n",
        "print(\"\\nNames column:\")\n",
        "print(df['Name'])"
      ]
    },
    {
      "cell_type": "code",
      "execution_count": 91,
      "metadata": {
        "colab": {
          "base_uri": "https://localhost:8080/"
        },
        "id": "Oj3Qd1mo_dFy",
        "outputId": "a0ef361b-c631-4f83-ab94-3bfa72926b24"
      },
      "outputs": [
        {
          "name": "stdout",
          "output_type": "stream",
          "text": [
            "Average age: 31.4\n"
          ]
        }
      ],
      "source": [
        "# Basic operations\n",
        "print(\"Average age:\", df['Age'].mean())"
      ]
    },
    {
      "cell_type": "code",
      "execution_count": 92,
      "metadata": {
        "colab": {
          "base_uri": "https://localhost:8080/"
        },
        "id": "TqMuZX3b_fi5",
        "outputId": "e00063be-82aa-4c16-db51-7f00be0c8465"
      },
      "outputs": [
        {
          "name": "stdout",
          "output_type": "stream",
          "text": [
            "\n",
            "Rows 1 to 3 using loc and iloc:\n",
            "      Name  Age         City\n",
            "1      Bob   30  Los Angeles\n",
            "2  Charlie   35      Chicago\n",
            "3    David   40      Houston\n",
            "\n",
            "      Name  Age         City\n",
            "1      Bob   30  Los Angeles\n",
            "2  Charlie   35      Chicago\n",
            "3    David   40      Houston\n"
          ]
        }
      ],
      "source": [
        "# Accessing rows with loc and iloc\n",
        "print(\"\\nRows 1 to 3 using loc and iloc:\")\n",
        "print(df.loc[1:3]) # includes 3\n",
        "print()\n",
        "print(df.iloc[1:4])"
      ]
    },
    {
      "cell_type": "code",
      "execution_count": 93,
      "metadata": {
        "colab": {
          "base_uri": "https://localhost:8080/"
        },
        "id": "qB-CgXN4_pxH",
        "outputId": "bec28e82-a047-482a-89ce-018f3e6569c2"
      },
      "outputs": [
        {
          "name": "stdout",
          "output_type": "stream",
          "text": [
            "\n",
            "People older than 30:\n",
            "      Name  Age     City\n",
            "2  Charlie   35  Chicago\n",
            "3    David   40  Houston\n"
          ]
        }
      ],
      "source": [
        "# Filtering data\n",
        "print(\"\\nPeople older than 30:\")\n",
        "print(df[df['Age'] > 30])"
      ]
    },
    {
      "cell_type": "code",
      "execution_count": 94,
      "metadata": {
        "id": "4nbpYzHm_5ZR"
      },
      "outputs": [],
      "source": [
        "# Reading data from a file (Example: CSV file)\n",
        "# filepath = 'path/to/your/data.csv'\n",
        "# data_from_csv = pd.read_csv(filepath)\n",
        "# data_from_csv.head()"
      ]
    },
    {
      "cell_type": "code",
      "execution_count": 95,
      "metadata": {
        "colab": {
          "base_uri": "https://localhost:8080/"
        },
        "id": "LdsDQMbD_-ta",
        "outputId": "3ceec35b-bec6-488c-d0c2-e7937017085b"
      },
      "outputs": [
        {
          "name": "stdout",
          "output_type": "stream",
          "text": [
            "\n",
            "Data description:\n",
            "             Age\n",
            "count   5.000000\n",
            "mean   31.400000\n",
            "std     6.228965\n",
            "min    24.000000\n",
            "25%    28.000000\n",
            "50%    30.000000\n",
            "75%    35.000000\n",
            "max    40.000000\n"
          ]
        }
      ],
      "source": [
        "# Basic Data Exploration\n",
        "print(\"\\nData description:\")\n",
        "print(df.describe())"
      ]
    },
    {
      "cell_type": "code",
      "execution_count": 96,
      "metadata": {
        "colab": {
          "base_uri": "https://localhost:8080/"
        },
        "id": "U-GNsiIAAAY1",
        "outputId": "2d0a3b39-b1a9-4106-dec0-6cbcdf6b314a"
      },
      "outputs": [
        {
          "name": "stdout",
          "output_type": "stream",
          "text": [
            "\n",
            "DataFrame with a missing value:\n",
            "      Name   Age         City\n",
            "0    Alice  24.0     New York\n",
            "1      Bob  30.0  Los Angeles\n",
            "2  Charlie   NaN      Chicago\n",
            "3    David  40.0      Houston\n",
            "4      Eva  28.0      Phoenix\n"
          ]
        }
      ],
      "source": [
        "# Handling missing data\n",
        "df_with_missing = df.copy()\n",
        "df_with_missing.loc[2, 'Age'] = None  # Introduce a missing value\n",
        "\n",
        "print(\"\\nDataFrame with a missing value:\")\n",
        "print(df_with_missing)"
      ]
    },
    {
      "cell_type": "code",
      "execution_count": 97,
      "metadata": {
        "colab": {
          "base_uri": "https://localhost:8080/"
        },
        "id": "q2cl9jdbAB5L",
        "outputId": "06b97b4e-c761-4b68-d502-76ee0a6217d4"
      },
      "outputs": [
        {
          "name": "stdout",
          "output_type": "stream",
          "text": [
            "\n",
            "DataFrame after filling missing values with the mean:\n",
            "      Name   Age         City\n",
            "0    Alice  24.0     New York\n",
            "1      Bob  30.0  Los Angeles\n",
            "2  Charlie  30.5      Chicago\n",
            "3    David  40.0      Houston\n",
            "4      Eva  28.0      Phoenix\n"
          ]
        },
        {
          "name": "stderr",
          "output_type": "stream",
          "text": [
            "/tmp/ipykernel_3921/584834297.py:2: FutureWarning: A value is trying to be set on a copy of a DataFrame or Series through chained assignment using an inplace method.\n",
            "The behavior will change in pandas 3.0. This inplace method will never work because the intermediate object on which we are setting values always behaves as a copy.\n",
            "\n",
            "For example, when doing 'df[col].method(value, inplace=True)', try using 'df.method({col: value}, inplace=True)' or df[col] = df[col].method(value) instead, to perform the operation inplace on the original object.\n",
            "\n",
            "\n",
            "  df_with_missing['Age'].fillna(df_with_missing['Age'].mean(), inplace=True)\n"
          ]
        }
      ],
      "source": [
        "print(\"\\nDataFrame after filling missing values with the mean:\")\n",
        "df_with_missing['Age'].fillna(df_with_missing['Age'].mean(), inplace=True)\n",
        "print(df_with_missing)"
      ]
    },
    {
      "cell_type": "markdown",
      "metadata": {
        "id": "_sOmciVUHT4s"
      },
      "source": [
        "# Understanding Data in Machine Learning"
      ]
    },
    {
      "cell_type": "markdown",
      "metadata": {
        "id": "gixmeEJDJD6m"
      },
      "source": [
        "## Features and Targets"
      ]
    },
    {
      "cell_type": "markdown",
      "metadata": {
        "id": "5X5J3SVPJEGc"
      },
      "source": [
        "**Definition of Features:**\n",
        "\n",
        "- Features are the input variables used by models to make predictions.\n",
        "- They are the \"questions\" the model uses to learn and make inferences.\n",
        "- In a dataset, features are typically the columns except for the target variable.\n",
        "\n",
        "**Look at the table displayed below and determine which ones are features** (a little easy :) )"
      ]
    },
    {
      "cell_type": "code",
      "execution_count": 98,
      "metadata": {
        "colab": {
          "base_uri": "https://localhost:8080/",
          "height": 206
        },
        "id": "J4mqHmwqJ9rw",
        "outputId": "805188bf-e76d-4450-b64e-7131afdd5ee3"
      },
      "outputs": [
        {
          "data": {
            "text/html": [
              "<div>\n",
              "<style scoped>\n",
              "    .dataframe tbody tr th:only-of-type {\n",
              "        vertical-align: middle;\n",
              "    }\n",
              "\n",
              "    .dataframe tbody tr th {\n",
              "        vertical-align: top;\n",
              "    }\n",
              "\n",
              "    .dataframe thead th {\n",
              "        text-align: right;\n",
              "    }\n",
              "</style>\n",
              "<table border=\"1\" class=\"dataframe\">\n",
              "  <thead>\n",
              "    <tr style=\"text-align: right;\">\n",
              "      <th></th>\n",
              "      <th>sepal length (cm)</th>\n",
              "      <th>sepal width (cm)</th>\n",
              "      <th>petal length (cm)</th>\n",
              "      <th>petal width (cm)</th>\n",
              "      <th>species</th>\n",
              "    </tr>\n",
              "  </thead>\n",
              "  <tbody>\n",
              "    <tr>\n",
              "      <th>0</th>\n",
              "      <td>5.1</td>\n",
              "      <td>3.5</td>\n",
              "      <td>1.4</td>\n",
              "      <td>0.2</td>\n",
              "      <td>setosa</td>\n",
              "    </tr>\n",
              "    <tr>\n",
              "      <th>1</th>\n",
              "      <td>4.9</td>\n",
              "      <td>3.0</td>\n",
              "      <td>1.4</td>\n",
              "      <td>0.2</td>\n",
              "      <td>setosa</td>\n",
              "    </tr>\n",
              "    <tr>\n",
              "      <th>2</th>\n",
              "      <td>4.7</td>\n",
              "      <td>3.2</td>\n",
              "      <td>1.3</td>\n",
              "      <td>0.2</td>\n",
              "      <td>setosa</td>\n",
              "    </tr>\n",
              "    <tr>\n",
              "      <th>3</th>\n",
              "      <td>4.6</td>\n",
              "      <td>3.1</td>\n",
              "      <td>1.5</td>\n",
              "      <td>0.2</td>\n",
              "      <td>setosa</td>\n",
              "    </tr>\n",
              "    <tr>\n",
              "      <th>4</th>\n",
              "      <td>5.0</td>\n",
              "      <td>3.6</td>\n",
              "      <td>1.4</td>\n",
              "      <td>0.2</td>\n",
              "      <td>setosa</td>\n",
              "    </tr>\n",
              "  </tbody>\n",
              "</table>\n",
              "</div>"
            ],
            "text/plain": [
              "   sepal length (cm)  sepal width (cm)  petal length (cm)  petal width (cm)  \\\n",
              "0                5.1               3.5                1.4               0.2   \n",
              "1                4.9               3.0                1.4               0.2   \n",
              "2                4.7               3.2                1.3               0.2   \n",
              "3                4.6               3.1                1.5               0.2   \n",
              "4                5.0               3.6                1.4               0.2   \n",
              "\n",
              "  species  \n",
              "0  setosa  \n",
              "1  setosa  \n",
              "2  setosa  \n",
              "3  setosa  \n",
              "4  setosa  "
            ]
          },
          "execution_count": 98,
          "metadata": {},
          "output_type": "execute_result"
        }
      ],
      "source": [
        "from sklearn.datasets import load_iris\n",
        "import pandas as pd\n",
        "\n",
        "# Load the Iris dataset\n",
        "iris = load_iris()\n",
        "\n",
        "# Convert to a DataFrame for easier manipulation and understanding\n",
        "iris_df = pd.DataFrame(data=iris.data, columns=iris.feature_names)\n",
        "iris_df['target'] = iris.target\n",
        "iris_df['species'] = iris_df['target'].map({0: 'setosa', 1: 'versicolor', 2: 'virginica'})\n",
        "iris_df.drop(columns=['target'], inplace=True)\n",
        "\n",
        "# Display the first few rows of the dataframe\n",
        "iris_df.head()"
      ]
    },
    {
      "cell_type": "markdown",
      "metadata": {
        "id": "0Fk8QymWKC3Y"
      },
      "source": [
        "\n",
        "**Definition of Targets:**\n",
        "\n",
        "- The target is the output variable the model is trying to predict.\n",
        "- It's the \"answer\" to the problem you're trying to solve.\n",
        "\n",
        "**Which one in the data above is the target?**\n",
        "\n",
        "- The choice of features can significantly impact the performance of a machine learning model. Good features can improve accuracy, while irrelevant features can reduce it.\n",
        "- There are different types of targets and they determine the type of ML problem we are dealing with:\n",
        "  - Continuous for regression tasks\n",
        "  - Categorical for classification tasks\n",
        "\n",
        "Examples:\n",
        "- Case Study 1: Housing Prices Prediction (Regression)\n",
        "  - Features: Square footage, number of bedrooms, age of the house, etc.\n",
        "  - Target: Price of the house.\n",
        "  - **Question Time:** How a model could use these features to estimate the house price?\n",
        "- Case Study 2: Email Spam Detection (Classification)\n",
        "  - Features: Frequency of certain words, email length, sender's address, etc.\n",
        "  - Target: Spam or Not Spam (categorical).\n",
        "  - Same question here.\n",
        "\n",
        "For the section on features and targets, it's important to convey these concepts clearly as they are foundational to understanding how machine learning models work. This section should include definitions, examples, and interactive exercises to solidify the students' understanding. Here's an outline of what could be included:\n",
        "\n",
        "### Features and Targets: Understanding the Building Blocks of Machine Learning\n",
        "\n",
        "#### Introduction to Features and Targets\n",
        "\n",
        "- **Definition of Features:**\n",
        "  - Features are the input variables used by models to make predictions. They are the \"questions\" the model uses to learn and make inferences. In a dataset, features are typically the columns except for the target variable.\n",
        "  - **Interactive Example:** Display a simple dataset (e.g., a table with rows as data points and columns as variables) and identify the features.\n",
        "\n",
        "- **Definition of Targets:**\n",
        "  - The target is the output variable the model is trying to predict. It's the \"answer\" to the problem you're trying to solve.\n",
        "  - **Interactive Example:** Using the same dataset, point out the target variable.\n",
        "\n",
        "#### Importance of Features and Targets in Machine Learning\n",
        "\n",
        "- Explain how the choice of features can significantly impact the performance of a machine learning model. Good features can improve accuracy, while irrelevant features can reduce it.\n",
        "- Highlight the different types of targets (continuous for regression tasks and categorical for classification tasks) and how they determine the type of machine learning problem (supervised learning) and the models that can be applied.\n",
        "\n",
        "#### Practical Examples\n",
        "\n",
        "- **Case Study 1: Housing Prices Prediction (Regression)**\n",
        "  - **Features:** Square footage, number of bedrooms, age of the house, etc.\n",
        "  - **Target:** Price of the house.\n",
        "\n",
        "- **Case Study 2: Email Spam Detection (Classification)**\n",
        "  - **Features:** Frequency of certain words, email length, sender's address, etc.\n",
        "  - **Target:** Spam or Not Spam (categorical)."
      ]
    },
    {
      "cell_type": "markdown",
      "metadata": {
        "id": "onVteiObJLg_"
      },
      "source": [
        "## Data Visualization"
      ]
    },
    {
      "cell_type": "code",
      "execution_count": 99,
      "metadata": {
        "colab": {
          "base_uri": "https://localhost:8080/",
          "height": 472
        },
        "id": "hXxzqMeAiMNo",
        "outputId": "3e0c4591-497c-49c6-fbb0-6ff84e6bc9bd"
      },
      "outputs": [
        {
          "data": {
            "image/png": "[encoded data removed]",
            "text/plain": [
              "<Figure size 640x480 with 1 Axes>"
            ]
          },
          "metadata": {},
          "output_type": "display_data"
        }
      ],
      "source": [
        "# A simple plot line chart with matplotlib\n",
        "\n",
        "import matplotlib.pyplot as plt\n",
        "\n",
        "# Sample data\n",
        "months = ['January', 'February', 'March', 'April', 'May', 'June']\n",
        "temperature = [4, 5, 8, 15, 20, 22]\n",
        "\n",
        "# Creating a line plot\n",
        "plt.plot(months, temperature)\n",
        "plt.title('Average Monthly Temperature')\n",
        "plt.xlabel('Month')\n",
        "plt.ylabel('Temperature (°C)')\n",
        "plt.show()"
      ]
    },
    {
      "cell_type": "code",
      "execution_count": 100,
      "metadata": {
        "colab": {
          "base_uri": "https://localhost:8080/",
          "height": 472
        },
        "id": "6h54C0hMiVyg",
        "outputId": "7a6a76f3-be2c-4464-9b96-e8aea3a0c6cf"
      },
      "outputs": [
        {
          "data": {
            "image/png": "[encoded data removed]",
            "text/plain": [
              "<Figure size 640x480 with 1 Axes>"
            ]
          },
          "metadata": {},
          "output_type": "display_data"
        }
      ],
      "source": [
        "# Visualizing data with histograms\n",
        "\n",
        "import numpy as np\n",
        "\n",
        "# Generating random data\n",
        "data = np.random.normal(loc=0, scale=1, size=1000)\n",
        "\n",
        "# Creating a histogram\n",
        "plt.hist(data, bins=30)\n",
        "plt.title('Normal Distribution of Data')\n",
        "plt.xlabel('Value')\n",
        "plt.ylabel('Frequency')\n",
        "plt.show()"
      ]
    },
    {
      "cell_type": "code",
      "execution_count": 101,
      "metadata": {
        "colab": {
          "base_uri": "https://localhost:8080/",
          "height": 472
        },
        "id": "S8JsHUIYil-o",
        "outputId": "6354af7d-d2f4-459a-9edf-05981cca928b"
      },
      "outputs": [
        {
          "data": {
            "image/png": "[encoded data removed]",
            "text/plain": [
              "<Figure size 640x480 with 1 Axes>"
            ]
          },
          "metadata": {},
          "output_type": "display_data"
        }
      ],
      "source": [
        "# Scatter plot!\n",
        "\n",
        "# More sample data\n",
        "weight = [55, 60, 65, 62, 67, 73, 77, 80]\n",
        "height = [160, 165, 167, 165, 170, 175, 180, 182]\n",
        "\n",
        "# Creating a scatter plot\n",
        "plt.scatter(weight, height)\n",
        "plt.title('Height vs. Weight')\n",
        "plt.xlabel('Weight (kg)')\n",
        "plt.ylabel('Height (cm)')\n",
        "plt.show()"
      ]
    },
    {
      "cell_type": "markdown",
      "metadata": {
        "id": "u788L7v8i9w7"
      },
      "source": [
        "### Some Real World Examples\n",
        "\n",
        "Using IRIS dataset"
      ]
    },
    {
      "cell_type": "code",
      "execution_count": 102,
      "metadata": {
        "cellView": "form",
        "colab": {
          "base_uri": "https://localhost:8080/",
          "height": 449
        },
        "id": "DyRIOa9HLa-v",
        "outputId": "397802ba-011d-4caa-f17d-673a3524094e"
      },
      "outputs": [
        {
          "data": {
            "image/png": "[encoded data removed]",
            "text/plain": [
              "<Figure size 640x480 with 1 Axes>"
            ]
          },
          "metadata": {},
          "output_type": "display_data"
        }
      ],
      "source": [
        "# @title petal length (cm) vs petal width (cm)\n",
        "\n",
        "from matplotlib import pyplot as plt\n",
        "iris_df.plot(kind='scatter', x='petal length (cm)', y='petal width (cm)', s=32, alpha=.8)\n",
        "plt.gca().spines[['top', 'right',]].set_visible(False)"
      ]
    },
    {
      "cell_type": "code",
      "execution_count": 103,
      "metadata": {
        "cellView": "form",
        "colab": {
          "base_uri": "https://localhost:8080/",
          "height": 444
        },
        "id": "oM317xBRLlQA",
        "outputId": "e900f7fe-b17c-4bb6-a98e-fbadb44cc98c"
      },
      "outputs": [
        {
          "name": "stderr",
          "output_type": "stream",
          "text": [
            "/tmp/ipykernel_3921/2428689930.py:7: FutureWarning: \n",
            "\n",
            "Passing `palette` without assigning `hue` is deprecated and will be removed in v0.14.0. Assign the `y` variable to `hue` and set `legend=False` for the same effect.\n",
            "\n",
            "  sns.violinplot(iris_df, x='sepal length (cm)', y='species', inner='stick', palette='Dark2')\n"
          ]
        },
        {
          "data": {
            "image/png": "[encoded data removed]",
            "text/plain": [
              "<Figure size 1200x360 with 1 Axes>"
            ]
          },
          "metadata": {},
          "output_type": "display_data"
        }
      ],
      "source": [
        "# @title species vs sepal length (cm)\n",
        "\n",
        "from matplotlib import pyplot as plt\n",
        "import seaborn as sns\n",
        "figsize = (12, 1.2 * len(iris_df['species'].unique()))\n",
        "plt.figure(figsize=figsize)\n",
        "sns.violinplot(iris_df, x='sepal length (cm)', y='species', inner='stick', palette='Dark2')\n",
        "sns.despine(top=True, right=True, bottom=True, left=True)"
      ]
    },
    {
      "cell_type": "markdown",
      "metadata": {
        "id": "eSsZiE2LjHYX"
      },
      "source": [
        "# Fundamentals of Supervised Learning: Regression\n",
        "\n",
        "- Introduction to Supervised Learning: Basic introduction to what supervised learning is, and specifically regression.\n",
        "- Real-world examples: Discussing some real world scenarios and how regression is used in the real world.\n",
        "- Classification vs. Regression: Highlighting the differences, focusing on the predictive nature of regression for continuous outcomes.\n",
        "- Linear Regression Basics: Introduction to the simplest form of predictive modeling.\n",
        "- Loss Functions: Discussion on different ways to measure model accuracy, emphasizing Mean Squared Error (MSE) and Mean Absolute Error (MAE) for their simplicity and interpretability.\n",
        "- Overfitting and Underfitting: Concepts of overfitting and underfitting covered. How model complexity effects overfitting and underfitting."
      ]
    },
    {
      "cell_type": "markdown",
      "metadata": {
        "id": "0O6JYcuojJu9"
      },
      "source": [
        "## Introduction to Supervised Learning"
      ]
    },
    {
      "cell_type": "markdown",
      "metadata": {
        "id": "FI86llIAjVgZ"
      },
      "source": [
        "![](https://spotintelligence.com/wp-content/uploads/2023/05/regression-vs-classification.jpg)\n",
        "\n",
        "There are two types of SL:\n",
        "- Regression\n",
        "- Classification"
      ]
    },
    {
      "cell_type": "markdown",
      "metadata": {
        "id": "c0F2gbGfkK08"
      },
      "source": [
        "### We will be learning regression now! Example: Predicting Exam Scores"
      ]
    },
    {
      "cell_type": "code",
      "execution_count": 104,
      "metadata": {
        "id": "vnLUr9bAkVn8"
      },
      "outputs": [],
      "source": [
        "# Let's make our data ready.\n",
        "\n",
        "import numpy as np\n",
        "\n",
        "# Hours studied\n",
        "X = np.array([[1], [2], [3], [4], [5]])\n",
        "# or we can just do this instead:\n",
        "X = np.array([1, 2, 3, 4, 5]).reshape((5, 1))\n",
        "\n",
        "# Exam scores\n",
        "Y = np.array([55, 70, 90, 95, 100])  # Targets"
      ]
    },
    {
      "cell_type": "code",
      "execution_count": 105,
      "metadata": {
        "colab": {
          "base_uri": "https://localhost:8080/",
          "height": 472
        },
        "id": "9_r_M_BokHXB",
        "outputId": "07c89aea-ec0d-4a8e-f34f-6f2de02cd07f"
      },
      "outputs": [
        {
          "data": {
            "image/png": "[encoded data removed]",
            "text/plain": [
              "<Figure size 640x480 with 1 Axes>"
            ]
          },
          "metadata": {},
          "output_type": "display_data"
        }
      ],
      "source": [
        "import matplotlib.pyplot as plt\n",
        "\n",
        "# Let's plot our data\n",
        "plt.scatter(X, Y, color='blue', label='Data points')\n",
        "plt.xlabel('Hours Studied')\n",
        "plt.ylabel('Exam Score')\n",
        "plt.title('Study Hours vs Exam Score')\n",
        "plt.legend()\n",
        "plt.show()"
      ]
    },
    {
      "cell_type": "code",
      "execution_count": 106,
      "metadata": {
        "colab": {
          "base_uri": "https://localhost:8080/",
          "height": 472
        },
        "id": "744GXG44kfGH",
        "outputId": "f54d366e-8b13-40f3-a067-72317b00e19e"
      },
      "outputs": [
        {
          "data": {
            "image/png": "[encoded data removed]",
            "text/plain": [
              "<Figure size 640x480 with 1 Axes>"
            ]
          },
          "metadata": {},
          "output_type": "display_data"
        }
      ],
      "source": [
        "from sklearn.linear_model import LinearRegression\n",
        "\n",
        "# Create and train the model\n",
        "model = LinearRegression()\n",
        "model.fit(X, Y)\n",
        "\n",
        "# Make predictions\n",
        "predictions = model.predict(X)\n",
        "\n",
        "# Plotting the regression line\n",
        "plt.scatter(X, Y, color='blue', label='Data points')\n",
        "plt.plot(X, predictions, color='red', label='Prediction')\n",
        "plt.xlabel('Hours Studied')\n",
        "plt.ylabel('Exam Score')\n",
        "plt.title('Predicted Exam Score vs. Actual Score')\n",
        "plt.legend()\n",
        "plt.show()"
      ]
    },
    {
      "cell_type": "markdown",
      "metadata": {
        "id": "lIJpblLalfRd"
      },
      "source": [
        "#### What did we see?\n",
        "- Our model learned the relationship between hours studied and exam scores.\n",
        "- With this model, if you tell me how long you studied, I can predict your exam score."
      ]
    },
    {
      "cell_type": "markdown",
      "metadata": {
        "id": "i08T_-ovlm8D"
      },
      "source": [
        "### Supervised Learning is Everywhere\n",
        "\n",
        "- Spam detection in emails: Inputs are features of emails; output is spam or not spam.\n",
        "- Medical diagnoses: Inputs are patient symptoms; output is the diagnosis.\n",
        "- **Everyone-> give us one example of a supervised learning you see around you - or know of**"
      ]
    },
    {
      "cell_type": "markdown",
      "metadata": {
        "id": "u1AtnStLmRwE"
      },
      "source": [
        "## Regression vs Classification"
      ]
    },
    {
      "cell_type": "markdown",
      "metadata": {
        "id": "X1e44RvcmVVj"
      },
      "source": [
        "### Regression\n",
        "\n",
        "- Purpose: Predicts a continuous value.\n",
        "- Example: Let's say we want to predict the temperature for tomorrow based on historical data. The temperature can be 22.5°C, 30.2°C, or any value within a range, making it a perfect task for regression."
      ]
    },
    {
      "cell_type": "code",
      "execution_count": 107,
      "metadata": {
        "colab": {
          "base_uri": "https://localhost:8080/"
        },
        "id": "xeejUvhQk-Np",
        "outputId": "165f1e76-8b0f-4bfc-f217-f921b55157ed"
      },
      "outputs": [
        {
          "data": {
            "image/png": "[encoded data removed]",
            "text/plain": [
              "<Figure size 640x480 with 1 Axes>"
            ]
          },
          "metadata": {},
          "output_type": "display_data"
        }
      ],
      "source": [
        "import numpy as np\n",
        "import matplotlib.pyplot as plt\n",
        "from sklearn.linear_model import LinearRegression\n",
        "\n",
        "# Fake weather data: days vs temperature\n",
        "X = np.array([1, 2, 3, 4, 5]).reshape(-1, 1)  # Days\n",
        "Y = np.array([20, 22, 19, 24, 26])  # Temperature\n",
        "\n",
        "# Linear Regression Model\n",
        "model = LinearRegression()\n",
        "model.fit(X, Y)\n",
        "\n",
        "# Predict and plot\n",
        "plt.scatter(X, Y, color='blue', label='Actual temperature')\n",
        "plt.plot(X, model.predict(X), color='red', label='Predicted temperature')\n",
        "plt.xlabel('Day')\n",
        "plt.ylabel('Temperature (°C)')\n",
        "plt.title('Temperature Prediction')\n",
        "plt.legend()\n",
        "plt.show()"
      ]
    },
    {
      "cell_type": "markdown",
      "metadata": {
        "id": "mC3CNTQzmhHm"
      },
      "source": [
        "- **Key Point:** We're dealing with a spectrum of outcomes—any temperature value within a range."
      ]
    },
    {
      "cell_type": "markdown",
      "metadata": {
        "id": "FQw67auSmrSo"
      },
      "source": [
        "### Classification\n",
        "\n",
        "- Purpose: Categorizes inputs into two or more classes.\n",
        "- Example: Imagine we're building a model to determine who has cancer or not."
      ]
    },
    {
      "cell_type": "code",
      "execution_count": 108,
      "metadata": {
        "colab": {
          "base_uri": "https://localhost:8080/"
        },
        "id": "zrs7KuXPmcvZ",
        "outputId": "1224af2f-0f84-44a4-9488-8510c31db6ec"
      },
      "outputs": [
        {
          "data": {
            "image/png": "[encoded data removed]",
            "text/plain": [
              "<Figure size 640x480 with 1 Axes>"
            ]
          },
          "metadata": {},
          "output_type": "display_data"
        }
      ],
      "source": [
        "import numpy as np\n",
        "import matplotlib.pyplot as plt\n",
        "from sklearn.linear_model import LogisticRegression\n",
        "\n",
        "# Hours studied\n",
        "X = np.array([1, 2, 4, 6, 8]).reshape(-1, 1)  # Features\n",
        "# Exam outcomes (0: fail, 1: pass)\n",
        "Y = np.array([0, 0, 1, 1, 1])  # Targets\n",
        "\n",
        "# Create and train the logistic regression model\n",
        "model = LogisticRegression()\n",
        "model.fit(X, Y)\n",
        "\n",
        "# Making predictions\n",
        "# Generating a sequence of hours to predict outcomes\n",
        "X_test = np.linspace(0, 10, 300).reshape(-1, 1)\n",
        "predictions = model.predict(X_test)\n",
        "\n",
        "# Plotting the prediction\n",
        "plt.scatter(X, Y, color='blue', label='Original data')\n",
        "plt.plot(X_test, predictions, color='red', label='Classification line')\n",
        "plt.xlabel('Hours Studied')\n",
        "plt.ylabel('Pass/Fail')\n",
        "plt.title('Logistic Regression for Classification')\n",
        "plt.legend()\n",
        "plt.show()"
      ]
    },
    {
      "cell_type": "markdown",
      "metadata": {
        "id": "eWIT_PrNnapu"
      },
      "source": [
        "- **Key Point:** Here, the outcomes are discrete categories (spam or not spam).\n",
        "\n",
        "### So, what's the big difference?\n",
        "\n",
        "- Regression is about predicting a quantity — how much, how many, what degree.\n",
        "- Classification is about selecting a category — which one, yes or no, A or B.\n",
        "\n",
        "**Together:**\n",
        "Let's all think of one task and decide whether its a classification or regression"
      ]
    },
    {
      "cell_type": "markdown",
      "metadata": {
        "id": "nPTlJ-i2oG1O"
      },
      "source": [
        "## Linear Regression"
      ]
    },
    {
      "cell_type": "markdown",
      "metadata": {
        "id": "3Jj2hd7ioISC"
      },
      "source": [
        "![](https://thedatascientist.com/wp-content/uploads/2023/07/linear_regression.png)\n",
        "\n",
        "- One of the simplest and most commonly used techniques in machine learning for predictive analysis.\n",
        "- The goal is to model the relationship between the features and the target by fitting a **linear equation** to observed data.\n",
        "\n",
        "$$y = mx + b$$\n",
        "\n",
        "- $y$: target\n",
        "- $x$: feature\n",
        "- $m$: slope; indicating the effect size of $x$ on $y$.\n",
        "- $b$: y-intercept; representing the value of $y$ when $x$ is $0$.\n",
        "\n",
        "Play with the slider below for effect of $m$ and $b$"
      ]
    },
    {
      "cell_type": "code",
      "execution_count": 109,
      "metadata": {
        "cellView": "form",
        "colab": {
          "base_uri": "https://localhost:8080/",
          "height": 481,
          "referenced_widgets": [
            "34b8bf63b97047d19003437518445879",
            "c9233efe4f6b4559979a492252c2c081",
            "7d0484ff4575498686fc580c03c1eaac",
            "b8cd90e610ac4c3da9200c924bd909f5",
            "a4ef2594775645dcb57c2980bd1568f6",
            "6ffa466f40a544c783f6dc3df4b2cc55",
            "93742e660d8c472cb21e8e2d67ad10f4",
            "012aade77cd84939ba0865c50d945697",
            "d96b8022b44d4900a53dc1d345435a10",
            "b3125d0498e24692b661ece5ffe81d0b"
          ]
        },
        "id": "9GO_rHmrnAP9",
        "outputId": "5c049212-882c-4ea5-fc0d-d7db8dd0b532"
      },
      "outputs": [
        {
          "data": {
            "application/vnd.jupyter.widget-view+json": {
              "model_id": "f6f090c41ef04adabc88dd8dde298e40",
              "version_major": 2,
              "version_minor": 0
            },
            "text/plain": [
              "interactive(children=(FloatSlider(value=2.0, description='m', max=5.0, min=-5.0), FloatSlider(value=-5.0, desc…"
            ]
          },
          "execution_count": 109,
          "metadata": {},
          "output_type": "execute_result"
        }
      ],
      "source": [
        "#@title Slider For linear equation\n",
        "# Import required libraries for interactive widgets\n",
        "from ipywidgets import interactive\n",
        "import ipywidgets as widgets\n",
        "\n",
        "# Define a function to plot the line for different values of m and b\n",
        "def plot_line(m, b):\n",
        "    x = np.linspace(-10, 10, 100)\n",
        "    y = m * x + b\n",
        "\n",
        "    plt.figure(figsize=(6, 4))\n",
        "    plt.plot(x, y, '-r', label='y=mx+b')\n",
        "    plt.title('Interactive Line: y = mx + b')\n",
        "    plt.xlabel('x')\n",
        "    plt.ylabel('y')\n",
        "    plt.axhline(0, color='black',linewidth=0.5)\n",
        "    plt.axvline(0, color='black',linewidth=0.5)\n",
        "    plt.grid(color = 'gray', linestyle = '--', linewidth = 0.5)\n",
        "    plt.ylim(-30, 30)\n",
        "    plt.legend()\n",
        "    plt.show()\n",
        "\n",
        "# Create interactive widgets for m and b\n",
        "interactive_plot = interactive(plot_line, m=widgets.FloatSlider(value=2, min=-5, max=5, step=0.1), b=widgets.FloatSlider(value=-5, min=-10, max=10, step=0.5))\n",
        "output = interactive_plot.children[-1]\n",
        "output.layout.height = '400px'\n",
        "interactive_plot"
      ]
    },
    {
      "cell_type": "markdown",
      "metadata": {
        "id": "tOtvwkEDqjV1"
      },
      "source": [
        "For ML this equation can expand to multiple features:\n",
        "\n",
        "$y = \\beta_0 + \\beta_1x_1 + \\beta_2x_2 + ... + \\beta_nx_n + \\epsilon$\n",
        "\n",
        "- $y$ is the target variable.\n",
        "- $x_1, x_2, ..., x_n$ are the feature variables.\n",
        "- $\\beta_0$ is the intercept term.\n",
        "- $\\beta_1, \\beta_2, ..., \\beta_n$ are the coefficients of the features, **indicating the impact of each feature on the target variable.**\n",
        "- $\\epsilon$ represents the error term, the difference between the predicted and actual values."
      ]
    },
    {
      "cell_type": "markdown",
      "metadata": {
        "id": "1WIAYpMQrO60"
      },
      "source": [
        "### How It Works\n",
        "- Linear regression works by adjusting the coefficients $\\beta$ to minimize the error between the predicted values and the actual values in the training data. This process is known as fitting the model to the data.\n",
        "\n",
        "**We will come back to this with an example**\n",
        "\n",
        "But first, what do we mean by **\"minimizing the error\"** - Ideas? Thought?"
      ]
    },
    {
      "cell_type": "markdown",
      "metadata": {
        "id": "WFASCgLEr-Rp"
      },
      "source": [
        "**Ordinary Least Squares (OLS) method** minimizes the sum of the squared differences between the observed values and the values predicted by the linear model.\n",
        "\n",
        "See it in action below!\n",
        "\n",
        "**Let's see who can find the best features**"
      ]
    },
    {
      "cell_type": "code",
      "execution_count": 110,
      "metadata": {
        "cellView": "form",
        "colab": {
          "base_uri": "https://localhost:8080/",
          "height": 681,
          "referenced_widgets": [
            "eda0c3df002a4ee78509f86153627f2c",
            "a57f47b4bbed42c690ee5d495f4c58eb",
            "dfd0460376644af585b38a49fe56bebc",
            "f4fb986b49534627a66f3fe1803ee7ed",
            "d8a2e8397b5643299375d072187938d4",
            "390bab8ed6eb46b6819a86f34a547a92",
            "126d50afe7904a4cb805b17b1772f14d",
            "d26fce2106844c9191ad01d4b7abf542",
            "957624ef6da1467f8f5137371bdddd2a",
            "c65264261a3d448984a70e63e8d6a653"
          ]
        },
        "id": "2sMJM2Y7rmD5",
        "outputId": "d500a42f-fddb-4ca4-89f6-49075b959862"
      },
      "outputs": [
        {
          "data": {
            "application/vnd.jupyter.widget-view+json": {
              "model_id": "144ab5d8956a4821a0d300abf4b30fdd",
              "version_major": 2,
              "version_minor": 0
            },
            "text/plain": [
              "interactive(children=(FloatSlider(value=10.0, description='m', max=30.0, min=-10.0), IntSlider(value=0, descri…"
            ]
          },
          "metadata": {},
          "output_type": "display_data"
        }
      ],
      "source": [
        "#@title Interactive Way to Find Best Features\n",
        "\n",
        "import numpy as np\n",
        "import matplotlib.pyplot as plt\n",
        "from ipywidgets import interactive, VBox, HBox, Label\n",
        "\n",
        "# Sample data\n",
        "X = np.array([1, 2, 4, 6, 8])  # Hours studied\n",
        "Y = np.array([55, 70, 90, 95, 100])  # Exam scores\n",
        "\n",
        "# Function to calculate MSE\n",
        "def calculate_mse(X, Y, m, b):\n",
        "    predictions = m * X + b\n",
        "    mse = np.mean((Y - predictions) ** 2)\n",
        "    return mse\n",
        "\n",
        "# Function to plot regression line, error lines, and display MSE\n",
        "def plot_regression_with_error(m, b):\n",
        "    plt.figure(figsize=(8, 6))\n",
        "\n",
        "    # Plot data points\n",
        "    plt.scatter(X, Y, color='blue', label='Data Points')\n",
        "\n",
        "    # Plot regression line\n",
        "    x_values = np.linspace(min(X), max(X), 100)\n",
        "    y_values = m * x_values + b\n",
        "    plt.plot(x_values, y_values, color='red', label='Regression Line')\n",
        "\n",
        "    # Plot error lines\n",
        "    y_pred = m * X + b\n",
        "    for xi, yi, ypi in zip(X, Y, y_pred):\n",
        "        plt.plot([xi, xi], [yi, ypi], color='green', linestyle='--')\n",
        "\n",
        "    # Calculate and print MSE\n",
        "    mse = calculate_mse(X, Y, m, b)\n",
        "    plt.title(f'Linear Regression: Manual Fit | MSE: {mse:.2f}')\n",
        "\n",
        "    plt.xlabel('Hours Studied')\n",
        "    plt.ylabel('Exam Score')\n",
        "    plt.legend()\n",
        "    plt.show()\n",
        "\n",
        "# Create interactive widget for slope (m) and intercept (b) adjustments\n",
        "interactive_plot = interactive(plot_regression_with_error, m=(-10.0, 30.0, 0.1), b=(-100, 100, 1))\n",
        "output = interactive_plot.children[-1]\n",
        "output.layout.height = '600px'\n",
        "\n",
        "display(interactive_plot)"
      ]
    },
    {
      "cell_type": "markdown",
      "metadata": {
        "id": "PZGVGmVPsMs9"
      },
      "source": [
        "### Key Takeaways\n",
        "- Linear regression is used for predicting continuous outcomes.\n",
        "- The relationship between the feature(s) and the target is assumed to be linear.\n",
        "- Finding the best-fit line involves minimizing the difference between the predicted values and the actual values in the dataset."
      ]
    },
    {
      "cell_type": "markdown",
      "metadata": {
        "id": "M2Qnl3ERt382"
      },
      "source": [
        "## Loss Functions in ML"
      ]
    },
    {
      "cell_type": "markdown",
      "metadata": {
        "id": "XAVFc1y7t7UF"
      },
      "source": [
        "- In ML, particularly in SL, a loss function, or cost function, is a crucial concept.\n",
        "- A method to evaluate how well your algorithm models your dataset.\n",
        "- It tells us \"how bad\" the model's predictions are compared to the actual truth.\n",
        "- Above we used an error function, **can you guys tell me which part was it?**\n",
        "\n",
        "**Why do we use loss functions? Don't overthing just answer :)**"
      ]
    },
    {
      "cell_type": "markdown",
      "metadata": {
        "id": "X6QX6gc8uwGh"
      },
      "source": [
        "### Some common loss functions"
      ]
    },
    {
      "cell_type": "markdown",
      "metadata": {
        "id": "H6FScwUQu0VP"
      },
      "source": [
        "#### Mean Squared Error\n",
        "\n",
        "The average of the squared differences between predicted and actual values.\n",
        "\n",
        "$$MSE = \\frac{1}{n} \\sum_{i=1}^{n} (y_i - \\hat{y}_i)^2$$\n",
        "\n",
        "- $y_i$: Actual value\n",
        "- $\\hat{y}_i$: Predicted value\n",
        "- $n$: Number of Observations -> How many data points we are looking at..\n",
        "- Higher weight to larger errors due to squaring each term -> more useful when large errors are particularly undesirable\n",
        "\n",
        "**One of your homeworks is to implement this from scratch :)**"
      ]
    },
    {
      "cell_type": "markdown",
      "metadata": {
        "id": "mdw08Zy6vmhX"
      },
      "source": [
        "\n",
        "\n",
        "#### Mean Absolute Error (MAE)\n",
        "\n",
        "The average of the absolute differences between predicted and actual values\n",
        "\n",
        "$$MAE = \\frac{1}{n} \\sum_{i=1}^{n} |y_i - \\hat{y}_i|$$\n",
        "\n",
        "- Unlike MSE, MAE provides a linear score that penalizes large errors less than MSE. This can make it more robust to outliers than MSE.\n",
        "> \"Robust\" is the ability to perform good even when having noisy data (wrong data)"
      ]
    },
    {
      "cell_type": "code",
      "execution_count": 111,
      "metadata": {
        "colab": {
          "base_uri": "https://localhost:8080/"
        },
        "id": "J506j4dewBaR",
        "outputId": "1d401233-08f0-4f22-b301-4e6ac19667ed"
      },
      "outputs": [
        {
          "name": "stdout",
          "output_type": "stream",
          "text": [
            "Mean Squared Error: 220.0\n",
            "Mean Absolute Error: 14.0\n"
          ]
        }
      ],
      "source": [
        "from sklearn.metrics import mean_squared_error, mean_absolute_error\n",
        "\n",
        "# Actual and predicted values\n",
        "actual = [100, 200, 300, 400, 500]\n",
        "predicted = [110, 210, 310, 380, 480]\n",
        "\n",
        "# Calculate MSE\n",
        "mse = mean_squared_error(actual, predicted)\n",
        "print(f\"Mean Squared Error: {mse}\")\n",
        "\n",
        "# Calculate MAE\n",
        "mae = mean_absolute_error(actual, predicted)\n",
        "print(f\"Mean Absolute Error: {mae}\")"
      ]
    },
    {
      "cell_type": "markdown",
      "metadata": {
        "id": "Plitqf3Wxg9M"
      },
      "source": [
        "## Overfitting and Underfitting"
      ]
    },
    {
      "cell_type": "markdown",
      "metadata": {
        "id": "3niyL2OsxiCR"
      },
      "source": [
        "- Obstacles to achieving a model that generalizes well to new data\n",
        "\n",
        "![](https://miro.medium.com/v2/resize:fit:1125/1*_7OPgojau8hkiPUiHoGK_w.png)\n",
        "\n",
        "#### Overfitting\n",
        "\n",
        "- **What is Overfitting?**\n",
        "  - Learned the data way too well and making specific prediction - No generalization.\n",
        "\n",
        "- **Why Does Overfitting Happen?**\n",
        "  - Too complex a model with too many parameters.\n",
        "  - Training the model for too long.\n",
        "  - Having too little training data.\n",
        "\n",
        "- **Signs of Overfitting:**\n",
        "  - The model performs exceptionally well on the training data but poorly on the test data or on new, unseen data.\n",
        "\n",
        "- **Mitigating Overfitting:**\n",
        "  - Simplify the model by reducing the number of parameters.\n",
        "  - Collect more training data.\n",
        "  - Use techniques like cross-validation (LATER)\n",
        "  - Apply regularization techniques (ALSO LATER)\n",
        "\n",
        "#### Underfitting\n",
        "\n",
        "- **What is Underfitting?**\n",
        "  - Doesn't learn enough from the training data, patterns are not recognized yet.\n",
        "\n",
        "- **Why Does Underfitting Happen?**\n",
        "  - Having too simple a model.\n",
        "  - Not training the model long enough.\n",
        "\n",
        "- **Signs of Underfitting:**\n",
        "  - The model performs poorly on both the training data and new data.\n",
        "\n",
        "- **Mitigating Underfitting:**\n",
        "  - Increasing the model complexity.\n",
        "  - Training the model for longer.\n",
        "  - Reducing the strength of regularization.\n",
        "  - Adding more features to the model if possible.\n",
        "\n",
        "**BALANCE IS THE KEY**"
      ]
    },
    {
      "cell_type": "code",
      "execution_count": 112,
      "metadata": {
        "cellView": "form",
        "colab": {
          "base_uri": "https://localhost:8080/",
          "height": 617,
          "referenced_widgets": [
            "d01b39d103c34c5c86311aca2c8799d1",
            "263e5931517a4234823ced73c4ccae51",
            "95226830d54545d2a014b3673b3dbca9",
            "70c9705fea7047108d081822fbbb4727",
            "ae65b87eb1bf4f1abae98c745e0207b7",
            "b9a29eb8d8da49fc97dcd826592562d2",
            "02f05936899c407eab2370ff71e2a321"
          ]
        },
        "id": "odyh1JPesWCU",
        "outputId": "66842aac-5cc2-4016-cd53-6ab6104ac0c6"
      },
      "outputs": [
        {
          "data": {
            "application/vnd.jupyter.widget-view+json": {
              "model_id": "a54e7c35041948958297ad85958ebe75",
              "version_major": 2,
              "version_minor": 0
            },
            "text/plain": [
              "interactive(children=(IntSlider(value=1, description='Degree:', max=30, min=1), Output()), _dom_classes=('widg…"
            ]
          },
          "metadata": {},
          "output_type": "display_data"
        }
      ],
      "source": [
        "#@title Overfitting/Underfitting Interactive Example\n",
        "import numpy as np\n",
        "import matplotlib.pyplot as plt\n",
        "from sklearn.model_selection import train_test_split\n",
        "from sklearn.metrics import mean_squared_error\n",
        "from sklearn.pipeline import make_pipeline\n",
        "from sklearn.linear_model import LinearRegression\n",
        "from sklearn.preprocessing import PolynomialFeatures\n",
        "import ipywidgets as widgets\n",
        "from ipywidgets import interact\n",
        "\n",
        "# Generate synthetic data\n",
        "np.random.seed(42)  # For reproducibility\n",
        "x = np.linspace(-3, 3, 100)\n",
        "y = 0.5 * x**3 - x**2 + x + np.random.normal(0, 3, size=x.shape)\n",
        "x = x[:, np.newaxis]\n",
        "\n",
        "# Splitting the dataset\n",
        "X_train, X_test, y_train, y_test = train_test_split(x, y, test_size=0.2, random_state=42)\n",
        "\n",
        "def plot_data_and_model_complexity(degree=2):\n",
        "    # Fit a polynomial regression model\n",
        "    model = make_pipeline(PolynomialFeatures(degree=degree), LinearRegression())\n",
        "    model.fit(X_train, y_train)\n",
        "\n",
        "    # Predictions for a smooth curve\n",
        "    x_fit = np.linspace(-3, 3, 100)[:, np.newaxis]\n",
        "    y_pred = model.predict(x_fit)\n",
        "\n",
        "    # Calculating MSE for train and test sets\n",
        "    mse_train = mean_squared_error(y_train, model.predict(X_train))\n",
        "    mse_test = mean_squared_error(y_test, model.predict(X_test))\n",
        "\n",
        "    # Plotting\n",
        "    plt.figure(figsize=(10, 6))\n",
        "    plt.scatter(X_train, y_train, color='blue', label='Training data', alpha=0.6)\n",
        "    plt.scatter(X_test, y_test, color='green', label='Test data', alpha=0.6)\n",
        "    plt.plot(x_fit, y_pred, color='red', label=f'Model degree {degree}')\n",
        "    plt.title(f'Model Complexity Degree: {degree}\\nTrain MSE: {mse_train:.2f}, Test MSE: {mse_test:.2f}')\n",
        "    plt.xlabel('Feature Value')\n",
        "    plt.ylabel('Target Value')\n",
        "    plt.legend()\n",
        "    plt.show()\n",
        "\n",
        "# Widget to adjust the degree of the polynomial model\n",
        "degree_slider = widgets.IntSlider(value=1, min=1, max=30, step=1, description='Degree:', continuous_update=True)\n",
        "\n",
        "# Interactive visualization\n",
        "interact(plot_data_and_model_complexity, degree=degree_slider);\n"
      ]
    },
    {
      "cell_type": "markdown",
      "metadata": {
        "id": "JoxpcJ6o2-uu"
      },
      "source": [
        "# Train/Test/Validation Split\n"
      ]
    },
    {
      "cell_type": "markdown",
      "metadata": {
        "id": "_bPKpxXt3hGF"
      },
      "source": [
        "![](https://assets-global.website-files.com/5d7b77b063a9066d83e1209c/613ec5b6c3da5313e1abcc47_UeKfm9v6E9QobwFfG3ud_20Q82QoqI8W6kXQnDm_QBnOVyQXCNmwjWtMI5vD9du4cjovnpzSYBbIDHdSU-57H1Bb4DfuUCaSjZjozKIwD0IQsH7FyMuFTW7aYVW-zelk2RNMAez3%3Ds0.png)\n",
        "\n",
        "## Why Use a Validation Set?\n",
        "- **Train Set:** Used to train the model.\n",
        "- **Test Set:** Used to test the model's performance after training. However, if we tweak our model and parameters to achieve the best performance on the test set, we risk overfitting to the test set itself.\n",
        "- **Validation Set:** An additional set used for tuning the model's hyperparameters (such as the polinomial degree we had up above) without using the test data. **It helps ensure that our model's performance improvements generalize well to unseen data.**\n",
        "\n",
        "Common to use 10 - 10, 15 - 15, or 20 - 20\n"
      ]
    }
  ],
  "metadata": {
    "colab": {
      "collapsed_sections": [
        "B3EjHNjgwJhJ",
        "NhiXhVXOqofh",
        "v29eCdYCFHO0",
        "X1e44RvcmVVj",
        "FQw67auSmrSo"
      ],
      "provenance": []
    },
    "kernelspec": {
      "display_name": "Python 3",
      "name": "python3"
    },
    "language_info": {
      "codemirror_mode": {
        "name": "ipython",
        "version": 3
      },
      "file_extension": ".py",
      "mimetype": "text/x-python",
      "name": "python",
      "nbconvert_exporter": "python",
      "pygments_lexer": "ipython3",
      "version": "3.10.12"
    },
    "widgets": {
      "application/vnd.jupyter.widget-state+json": {
        "012aade77cd84939ba0865c50d945697": {
          "model_module": "@jupyter-widgets/base",
          "model_module_version": "1.2.0",
          "model_name": "LayoutModel",
          "state": {
            "_model_module": "@jupyter-widgets/base",
            "_model_module_version": "1.2.0",
            "_model_name": "LayoutModel",
            "_view_count": null,
            "_view_module": "@jupyter-widgets/base",
            "_view_module_version": "1.2.0",
            "_view_name": "LayoutView",
            "align_content": null,
            "align_items": null,
            "align_self": null,
            "border": null,
            "bottom": null,
            "display": null,
            "flex": null,
            "flex_flow": null,
            "grid_area": null,
            "grid_auto_columns": null,
            "grid_auto_flow": null,
            "grid_auto_rows": null,
            "grid_column": null,
            "grid_gap": null,
            "grid_row": null,
            "grid_template_areas": null,
            "grid_template_columns": null,
            "grid_template_rows": null,
            "height": null,
            "justify_content": null,
            "justify_items": null,
            "left": null,
            "margin": null,
            "max_height": null,
            "max_width": null,
            "min_height": null,
            "min_width": null,
            "object_fit": null,
            "object_position": null,
            "order": null,
            "overflow": null,
            "overflow_x": null,
            "overflow_y": null,
            "padding": null,
            "right": null,
            "top": null,
            "visibility": null,
            "width": null
          }
        },
        "02f05936899c407eab2370ff71e2a321": {
          "model_module": "@jupyter-widgets/base",
          "model_module_version": "1.2.0",
          "model_name": "LayoutModel",
          "state": {
            "_model_module": "@jupyter-widgets/base",
            "_model_module_version": "1.2.0",
            "_model_name": "LayoutModel",
            "_view_count": null,
            "_view_module": "@jupyter-widgets/base",
            "_view_module_version": "1.2.0",
            "_view_name": "LayoutView",
            "align_content": null,
            "align_items": null,
            "align_self": null,
            "border": null,
            "bottom": null,
            "display": null,
            "flex": null,
            "flex_flow": null,
            "grid_area": null,
            "grid_auto_columns": null,
            "grid_auto_flow": null,
            "grid_auto_rows": null,
            "grid_column": null,
            "grid_gap": null,
            "grid_row": null,
            "grid_template_areas": null,
            "grid_template_columns": null,
            "grid_template_rows": null,
            "height": null,
            "justify_content": null,
            "justify_items": null,
            "left": null,
            "margin": null,
            "max_height": null,
            "max_width": null,
            "min_height": null,
            "min_width": null,
            "object_fit": null,
            "object_position": null,
            "order": null,
            "overflow": null,
            "overflow_x": null,
            "overflow_y": null,
            "padding": null,
            "right": null,
            "top": null,
            "visibility": null,
            "width": null
          }
        },
        "126d50afe7904a4cb805b17b1772f14d": {
          "model_module": "@jupyter-widgets/controls",
          "model_module_version": "1.5.0",
          "model_name": "SliderStyleModel",
          "state": {
            "_model_module": "@jupyter-widgets/controls",
            "_model_module_version": "1.5.0",
            "_model_name": "SliderStyleModel",
            "_view_count": null,
            "_view_module": "@jupyter-widgets/base",
            "_view_module_version": "1.2.0",
            "_view_name": "StyleView",
            "description_width": "",
            "handle_color": null
          }
        },
        "263e5931517a4234823ced73c4ccae51": {
          "model_module": "@jupyter-widgets/controls",
          "model_module_version": "1.5.0",
          "model_name": "IntSliderModel",
          "state": {
            "_dom_classes": [],
            "_model_module": "@jupyter-widgets/controls",
            "_model_module_version": "1.5.0",
            "_model_name": "IntSliderModel",
            "_view_count": null,
            "_view_module": "@jupyter-widgets/controls",
            "_view_module_version": "1.5.0",
            "_view_name": "IntSliderView",
            "continuous_update": true,
            "description": "Degree:",
            "description_tooltip": null,
            "disabled": false,
            "layout": "IPY_MODEL_ae65b87eb1bf4f1abae98c745e0207b7",
            "max": 30,
            "min": 1,
            "orientation": "horizontal",
            "readout": true,
            "readout_format": "d",
            "step": 1,
            "style": "IPY_MODEL_b9a29eb8d8da49fc97dcd826592562d2",
            "value": 1
          }
        },
        "34b8bf63b97047d19003437518445879": {
          "model_module": "@jupyter-widgets/controls",
          "model_module_version": "1.5.0",
          "model_name": "VBoxModel",
          "state": {
            "_dom_classes": [
              "widget-interact"
            ],
            "_model_module": "@jupyter-widgets/controls",
            "_model_module_version": "1.5.0",
            "_model_name": "VBoxModel",
            "_view_count": null,
            "_view_module": "@jupyter-widgets/controls",
            "_view_module_version": "1.5.0",
            "_view_name": "VBoxView",
            "box_style": "",
            "children": [
              "IPY_MODEL_c9233efe4f6b4559979a492252c2c081",
              "IPY_MODEL_7d0484ff4575498686fc580c03c1eaac",
              "IPY_MODEL_b8cd90e610ac4c3da9200c924bd909f5"
            ],
            "layout": "IPY_MODEL_a4ef2594775645dcb57c2980bd1568f6"
          }
        },
        "390bab8ed6eb46b6819a86f34a547a92": {
          "model_module": "@jupyter-widgets/base",
          "model_module_version": "1.2.0",
          "model_name": "LayoutModel",
          "state": {
            "_model_module": "@jupyter-widgets/base",
            "_model_module_version": "1.2.0",
            "_model_name": "LayoutModel",
            "_view_count": null,
            "_view_module": "@jupyter-widgets/base",
            "_view_module_version": "1.2.0",
            "_view_name": "LayoutView",
            "align_content": null,
            "align_items": null,
            "align_self": null,
            "border": null,
            "bottom": null,
            "display": null,
            "flex": null,
            "flex_flow": null,
            "grid_area": null,
            "grid_auto_columns": null,
            "grid_auto_flow": null,
            "grid_auto_rows": null,
            "grid_column": null,
            "grid_gap": null,
            "grid_row": null,
            "grid_template_areas": null,
            "grid_template_columns": null,
            "grid_template_rows": null,
            "height": null,
            "justify_content": null,
            "justify_items": null,
            "left": null,
            "margin": null,
            "max_height": null,
            "max_width": null,
            "min_height": null,
            "min_width": null,
            "object_fit": null,
            "object_position": null,
            "order": null,
            "overflow": null,
            "overflow_x": null,
            "overflow_y": null,
            "padding": null,
            "right": null,
            "top": null,
            "visibility": null,
            "width": null
          }
        },
        "6ffa466f40a544c783f6dc3df4b2cc55": {
          "model_module": "@jupyter-widgets/base",
          "model_module_version": "1.2.0",
          "model_name": "LayoutModel",
          "state": {
            "_model_module": "@jupyter-widgets/base",
            "_model_module_version": "1.2.0",
            "_model_name": "LayoutModel",
            "_view_count": null,
            "_view_module": "@jupyter-widgets/base",
            "_view_module_version": "1.2.0",
            "_view_name": "LayoutView",
            "align_content": null,
            "align_items": null,
            "align_self": null,
            "border": null,
            "bottom": null,
            "display": null,
            "flex": null,
            "flex_flow": null,
            "grid_area": null,
            "grid_auto_columns": null,
            "grid_auto_flow": null,
            "grid_auto_rows": null,
            "grid_column": null,
            "grid_gap": null,
            "grid_row": null,
            "grid_template_areas": null,
            "grid_template_columns": null,
            "grid_template_rows": null,
            "height": null,
            "justify_content": null,
            "justify_items": null,
            "left": null,
            "margin": null,
            "max_height": null,
            "max_width": null,
            "min_height": null,
            "min_width": null,
            "object_fit": null,
            "object_position": null,
            "order": null,
            "overflow": null,
            "overflow_x": null,
            "overflow_y": null,
            "padding": null,
            "right": null,
            "top": null,
            "visibility": null,
            "width": null
          }
        },
        "70c9705fea7047108d081822fbbb4727": {
          "model_module": "@jupyter-widgets/base",
          "model_module_version": "1.2.0",
          "model_name": "LayoutModel",
          "state": {
            "_model_module": "@jupyter-widgets/base",
            "_model_module_version": "1.2.0",
            "_model_name": "LayoutModel",
            "_view_count": null,
            "_view_module": "@jupyter-widgets/base",
            "_view_module_version": "1.2.0",
            "_view_name": "LayoutView",
            "align_content": null,
            "align_items": null,
            "align_self": null,
            "border": null,
            "bottom": null,
            "display": null,
            "flex": null,
            "flex_flow": null,
            "grid_area": null,
            "grid_auto_columns": null,
            "grid_auto_flow": null,
            "grid_auto_rows": null,
            "grid_column": null,
            "grid_gap": null,
            "grid_row": null,
            "grid_template_areas": null,
            "grid_template_columns": null,
            "grid_template_rows": null,
            "height": null,
            "justify_content": null,
            "justify_items": null,
            "left": null,
            "margin": null,
            "max_height": null,
            "max_width": null,
            "min_height": null,
            "min_width": null,
            "object_fit": null,
            "object_position": null,
            "order": null,
            "overflow": null,
            "overflow_x": null,
            "overflow_y": null,
            "padding": null,
            "right": null,
            "top": null,
            "visibility": null,
            "width": null
          }
        },
        "7d0484ff4575498686fc580c03c1eaac": {
          "model_module": "@jupyter-widgets/controls",
          "model_module_version": "1.5.0",
          "model_name": "FloatSliderModel",
          "state": {
            "_dom_classes": [],
            "_model_module": "@jupyter-widgets/controls",
            "_model_module_version": "1.5.0",
            "_model_name": "FloatSliderModel",
            "_view_count": null,
            "_view_module": "@jupyter-widgets/controls",
            "_view_module_version": "1.5.0",
            "_view_name": "FloatSliderView",
            "continuous_update": true,
            "description": "b",
            "description_tooltip": null,
            "disabled": false,
            "layout": "IPY_MODEL_012aade77cd84939ba0865c50d945697",
            "max": 10,
            "min": -10,
            "orientation": "horizontal",
            "readout": true,
            "readout_format": ".2f",
            "step": 0.5,
            "style": "IPY_MODEL_d96b8022b44d4900a53dc1d345435a10",
            "value": -5
          }
        },
        "93742e660d8c472cb21e8e2d67ad10f4": {
          "model_module": "@jupyter-widgets/controls",
          "model_module_version": "1.5.0",
          "model_name": "SliderStyleModel",
          "state": {
            "_model_module": "@jupyter-widgets/controls",
            "_model_module_version": "1.5.0",
            "_model_name": "SliderStyleModel",
            "_view_count": null,
            "_view_module": "@jupyter-widgets/base",
            "_view_module_version": "1.2.0",
            "_view_name": "StyleView",
            "description_width": "",
            "handle_color": null
          }
        },
        "95226830d54545d2a014b3673b3dbca9": {
          "model_module": "@jupyter-widgets/output",
          "model_module_version": "1.0.0",
          "model_name": "OutputModel",
          "state": {
            "_dom_classes": [],
            "_model_module": "@jupyter-widgets/output",
            "_model_module_version": "1.0.0",
            "_model_name": "OutputModel",
            "_view_count": null,
            "_view_module": "@jupyter-widgets/output",
            "_view_module_version": "1.0.0",
            "_view_name": "OutputView",
            "layout": "IPY_MODEL_02f05936899c407eab2370ff71e2a321",
            "msg_id": "",
            "outputs": [
              {
                "data": {
                  "image/png": "iVBORw0KGgoAAAANSUhEUgAAA1UAAAI4CAYAAACC4sP2AAAAOXRFWHRTb2Z0d2FyZQBNYXRwbG90bGliIHZlcnNpb24zLjcuMSwgaHR0cHM6Ly9tYXRwbG90bGliLm9yZy/bCgiHAAAACXBIWXMAAA9hAAAPYQGoP6dpAACxvElEQVR4nOzdeViU1d8G8HtYZGQbREAQFBdccEMU1zQ0c8ldM3fB3LWyUit9KzOzzEqzTc1yT3Ovn6VmZlq5lREuKS64gAguiAwCss7z/nFixoEBZ2B27s91cRFnnpk5zzjE851zzn1kkiRJICIiIiIionJxsHQHiIiIiIiIbBmLKiIiIiIiogpgUUVERERERFQBLKqIiIiIiIgqgEUVERERERFRBbCoIiIiIiIiqgAWVURERERERBXAooqIiIiIiKgCWFQRERERERFVAIsqIiIbJ5PJMG/ePIPvd+3aNchkMqxdu9bofbI2derUwdixY032+GvXroVMJsO1a9dM9hxERGS9WFQRERlB0UW1TCbD4cOHS9wuSRJq1aoFmUyGvn37WqCHFXfr1i3MmjULjRs3hqurK9zc3NC6dWssWLAA6enplu6e1Vm2bJnRC9aiQrjoy9nZGT4+PujYsSP+7//+D4mJiUZ9PluTkpKC2bNno2vXrvDw8IBMJsOhQ4cs3S0iqgRYVBERGZFcLsemTZtKtP/2229ISkqCi4uLBXpVcSdOnECzZs3wxRdfoHPnzliyZAkWL16M8PBwvP/++xg6dKilu2hRY8aMwYMHDxAcHKxuM0VRVWTEiBHYsGEDVq1ahTfffBP16tXD0qVLERoais2bN5vkOW3BhQsXsGjRIty4cQPNmze3dHeIqBJxsnQHiIjsSe/evbFt2zZ8+umncHLS/C9206ZNaN26NVJTUy3Yu/JJT0/HoEGD4OjoiNjYWDRu3Fjr9nfffRdfffWVhXpnHRwdHeHo6Gi252vVqhVGjx6t1ZaQkIAePXogOjoaoaGhCAsLM1t/ACArKwtubm5mfc7iWrdujbt378Lb2xvbt2/HM888Y9H+EFHlwZEqIiIjGjFiBO7evYv9+/er2/Ly8rB9+3aMHDlS532ysrIwc+ZM1KpVCy4uLmjUqBE++ugjSJKkdVxubi5efvll+Pr6wsPDA/3790dSUpLOx7xx4wbGjRuHGjVqwMXFBU2bNsXq1avLdU5ffvklbty4gSVLlpQoqACgRo0aeOONN7Tali1bhqZNm8LFxQU1a9bEc889V2KKYJcuXdCsWTOcPn0akZGRcHV1RUhICLZv3w5AjO61a9cOVatWRaNGjfDLL79o3X/evHmQyWQ4f/48hg4dCk9PT1SvXh0vvvgicnJyHnle6enpeOmll9Sve0hICBYtWgSVSgVATNns2rUrfH19cfv2bfX98vLy0Lx5c9SvXx9ZWVkASq6pqlOnDs6ePYvffvtNPVWvS5cuuHLlCmQyGT7++OMS/Tl69ChkMhm+/fbbR/Zdl+DgYKxduxZ5eXn44IMPDDrXInfv3sWYMWPg6ekJLy8vREdH49SpUyXW3o0dOxbu7u64fPkyevfuDQ8PD4waNQoAoFKpsHTpUjRt2hRyuRw1atTA5MmTce/evRJ93rt3Lzp37gw3Nzd4eHigT58+OHv2rNYx+fn5OH/+PFJSUh75Gnh4eMDb21vfl4yIyGhYVBERGVGdOnXQoUMHrQvjvXv3QqlUYvjw4SWOlyQJ/fv3x8cff4xevXphyZIlaNSoEV555RXMmDFD69gJEyZg6dKl6NGjB95//304OzujT58+JR7z1q1baN++PX755Rc8//zz+OSTTxASEoLx48dj6dKlBp/Trl27ULVqVQwZMkSv4+fNm4fnnnsONWvWxOLFi/H000/jyy+/RI8ePZCfn6917L1799C3b1+0a9cOH3zwAVxcXDB8+HBs2bIFw4cPR+/evfH+++8jKysLQ4YMwf3790s839ChQ5GTk4OFCxeid+/e+PTTTzFp0qQy+5idnY3IyEh88803iIqKwqefforHHnsMc+bMUb/uMpkMq1evRk5ODqZMmaK+71tvvYWzZ89izZo1pY7MLF26FEFBQWjcuDE2bNiADRs24PXXX0e9evXw2GOPYePGjSXus3HjRnh4eGDAgAGPfI1L06FDB9SvX1+rqNfnXAFRDPXr1w/ffvstoqOj8e677yIlJQXR0dE6n6ugoAA9e/aEn58fPvroIzz99NMAgMmTJ+OVV17BY489hk8++QTPPvssNm7ciJ49e2r9+2/YsAF9+vSBu7s7Fi1ahDfffBPnzp1Dp06dtAI/bty4gdDQUMyZM6fcrwsRkclJRERUYWvWrJEASCdOnJA+//xzycPDQ8rOzpYkSZKeeeYZqWvXrpIkSVJwcLDUp08f9f2+//57CYC0YMECrccbMmSIJJPJpPj4eEmSJOnkyZMSAGnatGlax40cOVICIL311lvqtvHjx0sBAQFSamqq1rHDhw+XFAqFul9Xr16VAEhr1qwp89yqVasmhYWF6fU63L59W6pSpYrUo0cPqbCwUN3++eefSwCk1atXq9siIyMlANKmTZvUbefPn5cASA4ODtLx48fV7fv27SvR17feeksCIPXv31+rD9OmTZMASKdOnVK3BQcHS9HR0eqf33nnHcnNzU26ePGi1n1nz54tOTo6SomJieq2L7/8UgIgffPNN9Lx48clR0dH6aWXXtK6X9G//9WrV9VtTZs2lSIjI0u8RkWPFxcXp27Ly8uTfHx8tPqoS9G/2YcffljqMQMGDJAASEql0qBz3bFjhwRAWrp0qfqYwsJC6Yknnijx2kdHR0sApNmzZ2s95h9//CEBkDZu3KjV/tNPP2m1379/X/Ly8pImTpyoddzNmzclhUKh1V50zo96bYrbtm2bBEA6ePCgQfcjIioPjlQRERnZ0KFD8eDBA/z444+4f/8+fvzxx1Kn/u3ZsweOjo6YPn26VvvMmTMhSRL27t2rPg5AieNeeuklrZ8lScKOHTvQr18/SJKE1NRU9VfPnj2hVCrxzz//GHQ+GRkZ8PDw0OvYX375BXl5eXjppZfg4KD5EzNx4kR4enpi9+7dWse7u7trjeA1atQIXl5eCA0NRbt27dTtRf995cqVEs/53HPPaf38wgsvANC8Zrps27YNnTt3RrVq1bReoyeffBKFhYX4/fff1cdOmjQJPXv2xAsvvIAxY8agfv36eO+99/R5OXQaOnQo5HK51mjVvn37kJqaWmKdVHm4u7sDgHpUT99z/emnn+Ds7IyJEyeqH8vBwaHE6/uwqVOnav28bds2KBQKdO/eXeu5WrduDXd3dxw8eBAAsH//fqSnp2PEiBFaxzk6OqJdu3bq4wAx+itJUqWI/ici28WgCiIiI/P19cWTTz6JTZs2ITs7G4WFhaVOnUtISEDNmjVLFC2hoaHq24u+Ozg4oH79+lrHNWrUSOvnO3fuID09HStXrsTKlSt1PufD64P04enpqXPanS5F/S3erypVqqBevXrq24sEBQVBJpNptSkUCtSqVatEGwCd63IaNGig9XP9+vXh4OBQ5p5Rly5dwunTp+Hr66vz9uKv0apVq1C/fn1cunQJR48eRdWqVUt97Efx8vJCv379sGnTJrzzzjsAxNS/wMBAPPHEE+V+3CKZmZkAoH5P6XuuCQkJCAgIgKurq9btISEhOu/n5OSEoKAgrbZLly5BqVTCz8+vzOe6dOkSAJR6vp6enjrbiYisFYsqIiITGDlyJCZOnIibN2/iqaeegpeXl1metyh4YPTo0aWuhWnRooVBj9m4cWOcPHkSeXl5qFKlSoX7+LDSEvNKa5eKhXfoUrxI00WlUqF79+549dVXdd7esGFDrZ8PHTqE3NxcAMCZM2fQoUOHRz5HWaKiorBt2zYcPXoUzZs3x65duzBt2jSt0b3y+vfff+Hn56cuTAw9V325uLiU6K9KpYKfn5/ONWMA1IVd0ft0w4YN8Pf3L3Hcw8mZRES2gP/XIiIygUGDBmHy5Mk4fvw4tmzZUupxwcHB+OWXX3D//n2t0arz58+rby/6rlKpcPnyZa1RoAsXLmg9XlEyYGFhIZ588kmjnEu/fv1w7Ngx7NixAyNGjCjz2KL+XrhwAfXq1VO35+Xl4erVq0br08MuXbqEunXrqn+Oj4+HSqVCnTp1Sr1P/fr1kZmZqVd/UlJS8MILL6BHjx6oUqUKZs2ahZ49e2rtSaVLWcVdr1694Ovri40bN6Jdu3bIzs7GmDFjHtmXRzl27BguX76sNY1Q33MNDg7GwYMHkZ2drTVaFR8fr/fz169fH7/88gsee+yxMkfzikZc/fz8TPKeICIyN66pIiIyAXd3dyxfvhzz5s1Dv379Sj2ud+/eKCwsxOeff67V/vHHH0Mmk+Gpp54CAPX3Tz/9VOu44ml+jo6OePrpp7Fjxw78+++/JZ7vzp07Bp/LlClTEBAQgJkzZ+LixYslbr99+zYWLFgAAHjyySdRpUoVfPrpp1qjSqtWrYJSqdSZVlhRX3zxhdbPn332GQDNa6bL0KFDcezYMezbt6/Ebenp6SgoKFD/PHHiRKhUKqxatQorV66Ek5MTxo8f/8hRMzc3txIx8kWcnJwwYsQIbN26FWvXrkXz5s0NHkEsLiEhAWPHjkWVKlXwyiuvqNv1PdeidL6H9xxTqVQlXt+yDB06FIWFheppjQ8rKChQvx49e/aEp6cn3nvvvRKJkID2+9SQSHUiIkvhSBURkYmUNv3uYf369UPXrl3x+uuv49q1awgLC8PPP/+M//3vf3jppZfUn+i3bNkSI0aMwLJly6BUKtGxY0ccOHBA5yjC+++/j4MHD6Jdu3aYOHEimjRpgrS0NPzzzz/45ZdfkJaWZtB5VKtWDd999x169+6Nli1bYvTo0WjdujUA4J9//sG3336rng7n6+uLOXPm4O2330avXr3Qv39/XLhwAcuWLUObNm2MEsRQ3NWrV9G/f3/06tULx44dwzfffIORI0eWufntK6+8gl27dqFv374YO3YsWrdujaysLJw5cwbbt2/HtWvX4OPjgzVr1mD37t1Yu3atev3QZ599htGjR2P58uWYNm1aqc/RunVrLF++HAsWLEBISAj8/Py01hAVxZsfPHgQixYtMuic//nnH3zzzTdQqVRIT0/HiRMnsGPHDshkMmzYsEGrQNP3XAcOHIi2bdti5syZiI+PR+PGjbFr1y71+0WfaZWRkZGYPHkyFi5ciJMnT6JHjx5wdnbGpUuXsG3bNnzyyScYMmQIPD09sXz5cowZMwatWrXC8OHD4evri8TEROzevRuPPfaY+oOGokj16OhovcIqigr8ov2uNmzYgMOHDwNAif3UiIiMxoLJg0REduPhSPWyFI9UlyQRL/3yyy9LNWvWlJydnaUGDRpIH374oaRSqbSOe/DggTR9+nSpevXqkpubm9SvXz/p+vXrJSLVJUmSbt26JT333HNSrVq1JGdnZ8nf31/q1q2btHLlSvUx+kaqF0lOTpZefvllqWHDhpJcLpdcXV2l1q1bS++++646vrvI559/LjVu3FhydnaWatSoIU2dOlW6d++e1jGRkZFS06ZN9XqNJEmSAEjPPfec+ueiSPVz585JQ4YMkTw8PKRq1apJzz//vPTgwYMSj1k8kvv+/fvSnDlzpJCQEKlKlSqSj4+P1LFjR+mjjz6S8vLypOvXr0sKhULq169fib4MGjRIcnNzk65cuSJJku5I9Zs3b0p9+vSRPDw8JAA649WbNm0qOTg4SElJSSVu06Xo36zoy8nJSfL29pbatWsnzZkzR0pISNB5v0eda5E7d+5II0eOlDw8PCSFQiGNHTtWOnLkiARA2rx5s/q46Ohoyc3NrdR+rly5UmrdurVUtWpVycPDQ2revLn06quvSsnJyVrHHTx4UOrZs6ekUCgkuVwu1a9fXxo7dqz0999/lzhnfSPVH359in8REZmKTJL0WPVLRERkZebNm4e3334bd+7cgY+Pj6W7Uy7h4eHw9vbGgQMHLN2VUn3//fcYNGgQDh8+jMcee8zS3SEiskpcU0VERGQBf//9N06ePImoqChLd0XtwYMHWj8XFhbis88+g6enJ1q1amWhXhERWT+uqSIiIjKjf//9FzExMVi8eDECAgIwbNgwS3dJ7YUXXsCDBw/QoUMH5ObmYufOnTh69Cjee++9Cu3NRURk71hUERERmdH27dsxf/58NGrUCN9++y3kcrmlu6T2xBNPYPHixfjxxx+Rk5ODkJAQfPbZZ3j++ect3TUiIqvGNVVEREREREQVwDVVREREREREFcCiioiIiIiIqAJYVBERGdHYsWNRp04dS3eDiIiIzIhFFRFVCjKZTK+vQ4cOWbqrWg4dOqTu2zfffKPzmMceewwymQzNmjXTas/Ly8Mnn3yC8PBweHp6wsvLC02bNsWkSZNw/vx59XFr164t8zU5fvx4ufq+ZcsWjB49Gg0aNIBMJkOXLl0eeY7lfe4bN25g6NCh8PLygqenJwYMGIArV66UOG758uV45plnULt2bchkMowdO7Zc5waIfbL0eU+Vdt6G2rNnD+bNm6f38V26dIFMJkODBg103r5//351H7dv365125kzZzBkyBAEBwdDLpcjMDAQ3bt3x2effaZ1XJ06dUo97169ehl8jgCQkpKC2bNno2vXrvDw8Cjz9zI/Px9vv/026tWrBxcXF9SrVw8LFixAQUGBXs+l7/uh6LXU9eXs7Fyu8yQi+8L0PyKqFDZs2KD18/r167F///4S7aGhoRV6nq+++goqlapCj6GLXC7Hpk2bMHr0aK32a9eu4ejRozoT5J5++mns3bsXI0aMwMSJE5Gfn4/z58/jxx9/RMeOHdG4cWOt4+fPn4+6deuWeJyQkJBy9Xn58uWIiYlBmzZtcPfu3UceP336dLRp08bg587MzETXrl2hVCrxf//3f3B2dsbHH3+MyMhInDx5EtWrV1cfu2jRIty/fx9t27ZFSkqK4Sf1kMGDB2v1LzMzE1OnTsWgQYMwePBgdXuNGjUq9DxF9uzZgy+++MKgwkoulyM+Ph5//fUX2rZtq3Xbxo0bIZfLkZOTo9V+9OhRdO3aFbVr18bEiRPh7++P69ev4/jx4/jkk0/wwgsvaB3fsmVLzJw5s8Rz16xZU/+Te8iFCxewaNEiNGjQAM2bN8exY8dKPXb06NHYtm0bxo0bh4iICBw/fhxvvvkmEhMTsXLlykc+l77vh9dffx0TJkzQasvKysKUKVPQo0cP/U+OiOyXRERUCT333HOSPv8LzMrKMkNvSnfw4EEJgDR48GDJyclJunPnjtbt7777rlSjRg2pU6dOUtOmTdXtf/31lwRAevfdd0s8ZkFBgZSamqr+ec2aNRIA6cSJE0bte2JiolRYWChJkiQ1bdpUioyM1Hlc0Tlu27atXM+zaNEiCYD0119/qdvi4uIkR0dHac6cOVrHXrt2TVKpVJIkSZKbm5sUHR1drufU5c6dOxIA6a233jLaYz5M3/dskcjISKlp06ZSo0aNpJdeeknrtgcPHkienp7S008/XeK17927t+Tr6yvdu3evxGPeunVL6+fg4GCpT58+hp3II2RkZEh3796VJEmStm3bJgGQDh48WOK4ovf4m2++qdU+c+ZMSSaTSadOnXrkc1Xk/bBhwwYJgLRx40a970NE9ovT/4iI/tOlSxc0a9YMMTExePzxx+Hq6or/+7//AwD873//Q58+fVCzZk24uLigfv36eOedd1BYWKj1GMXXVF27dg0ymQwfffQRVq5cifr168PFxQVt2rTBiRMn9O7bgAED4OLigm3btmm1b9q0CUOHDoWjo6NW++XLlwGIqYHFOTo6ao3eGCIlJQXnz59Hfn7+I4+tVasWHBwM+zNz//59vaduFdm+fTvatGmjNcrVuHFjdOvWDVu3btU6Njg4GDKZzKDHr6jz589jyJAh8Pb2hlwuR0REBHbt2qV1TNE0tgYNGkAul6N69ero1KkT9u/fD0C8r7744gsA2lNZ9TFixAhs2bJFawT1hx9+QHZ2NoYOHVri+MuXL6Np06bw8vIqcZufn5++p62laJRUn9FBDw8PeHt7P/K4P/74AwAwfPhwrfbhw4dDkiRs2bLlkY9RkffDpk2b4ObmhgEDBpTr/kRkX1hUERE95O7du3jqqafQsmVLLF26FF27dgUg1h25u7tjxowZ+OSTT9C6dWvMnTsXs2fP1utxN23ahA8//BCTJ0/GggULcO3aNQwePFiv4gQAXF1dMWDAAHz77bfqtlOnTuHs2bMYOXJkieODg4MBiCle+hYpSqUSqampWl/Fp+3NmTMHoaGhuHHjhl6PaYhnn30Wnp6ekMvl6Nq1K/7+++9H3kelUuH06dOIiIgocVvbtm1x+fJl3L9/3+h91dfZs2fRvn17xMXFYfbs2Vi8eDHc3NwwcOBAfPfdd+rj5s2bh7fffhtdu3bF559/jtdffx21a9fGP//8AwCYPHkyunfvDkBMZS360sfIkSORkpKitS5p06ZN6Natm84iKTg4GDExMfj333/1evz8/PwS75vU1FQ8ePBAfcyNGzcQGhqKOXPm6PWY+sjNzQUAVK1aVavd1dUVABATE2O05yruzp072L9/PwYOHAg3NzeTPQ8R2Q6uqSIiesjNmzexYsUKTJ48Wat906ZNWhdvU6ZMwZQpU7Bs2TIsWLAALi4uZT5uYmIiLl26hGrVqgEAGjVqhAEDBmDfvn3o27evXn0bOXIk+vXrh+vXr6NWrVrYuHEj6tWrh/bt25c4tn379oiMjMRXX32FXbt24YknnkCnTp3Qt29f1K5dW+fjP/nkkyXaXFxcSqy5MbYqVarg6aefRu/eveHj44Nz587ho48+QufOnXH06FGEh4eXet+0tDTk5uYiICCgxG1FbcnJyWjUqJHJ+l+WF198EbVr18aJEyfU75Fp06ahU6dOeO211zBo0CAAwO7du9G7d+9S1wF16NABDRs2xP79+0usq3uUBg0aICIiAps2bcITTzyB9PR07NmzB1999ZXO42fNmqX+YKFt27bo3LkzunXrhq5du+oMZfj555/h6+tbon3hwoV6f+hQHkX/pkeOHNFaC1g0gmWKwr/Ili1bUFBQgFGjRpnsOYjItnCkiojoIS4uLnj22WdLtD9cUN2/fx+pqano3LkzsrOztZL0SjNs2DB1QQUAnTt3BgCdCXWl6dGjB7y9vbF582ZIkoTNmzdjxIgROo+VyWTYt28fFixYgGrVquHbb7/Fc889h+DgYAwbNgzp6ekl7vPFF19g//79Wl979+7VOmbt2rWQJMmosfEdO3bE9u3bMW7cOPTv3x+zZ8/G8ePHIZPJHjmyUTQaoquoLQrveHjExJzS0tLw66+/YujQoer3TNHoX8+ePXHp0iX1hb+XlxfOnj2LS5cumaQvI0eOxM6dO5GXl4ft27fD0dFRXdAV1717dxw7dgz9+/fHqVOn8MEHH6Bnz54IDAwsMW0RANq1a1fifbN//36t92adOnUgSRLWrl1rtHPq3bs3goODMWvWLOzcuRMJCQnYunUrXn/9dTg5OZn0333Tpk3w9fVVjx4SEXGkiojoIYGBgahSpUqJ9rNnz+KNN97Ar7/+ioyMDK3blErlIx+3+OhQUYF17949vfvm7OyMZ555Bps2bULbtm1x/fp1nVP/iri4uOD111/H66+/jpSUFPz222/45JNPsHXrVjg7O5eIaG/btq3OaXSWEBISggEDBmDnzp0oLCwssWasSFGxWzQV7GFFI2zFp4eZS3x8PCRJwptvvok333xT5zG3b99GYGAg5s+fjwEDBqBhw4Zo1qwZevXqhTFjxqBFixZG6cvw4cMxa9Ys7N27Fxs3bkTfvn3h4eFR6vFt2rRRF2GnTp3Cd999h48//hhDhgzByZMn0aRJE/WxPj4+Okc5TU0ul2P37t0YOnQonn76aQDiPf/BBx/g3Xffhbu7u0me98qVKzh27Bief/55ODnxMoqIBI5UERE9RNcFeHp6OiIjI3Hq1CnMnz8fP/zwA/bv349FixYBgF4R6qUVBZIkGdS/kSNH4uTJk5g3bx7CwsK0Lm7LEhAQgOHDh+P3339HgwYNsHXrVoMDIcytVq1ayMvLQ1ZWVqnHeHt7w8XFRWcAQlFbeaO9K6rofTFr1iydIzn79+9XR7I//vjjuHz5MlavXo1mzZrh66+/RqtWrfD1118bpS8BAQHo0qULFi9ejN9//73MYvxhVapUQZs2bfDee+9h+fLlyM/PLxGWYklNmzbFv//+i3///Rd//PEHkpOTMXHiRKSmpqJhw4Ymec5NmzYBAKf+EZEWfsRCRPQIhw4dwt27d7Fz5048/vjj6varV6+avS+dOnVC7dq1cejQIXVRZwhnZ2e0aNECly5dQmpqKvz9/U3QS+O4cuUK5HJ5mSMODg4OaN68uc5Qiz///BP16tUrc0TGlOrVqwdAvOb6jOR4e3vj2WefxbPPPovMzEw8/vjjmDdvnnp/pIqmFo4cORITJkyAl5cXevfubfD9i0YxK7q/l7HJZDI0bdpU/fOePXugUqlMNnq2adMm1K9fX+daRiKqvDhSRUT0CEWjTA+PKuXl5WHZsmVm74tMJsOnn36Kt956C2PGjCn1uEuXLiExMbFEe3p6Oo4dO4Zq1arpDBd4FEMi1fV1586dEm2nTp3Crl270KNHD61Y9sTExBJr2IYMGYITJ05oFVYXLlzAr7/+imeeecZo/TSUn58funTpgi+//FJnIfLweRdPWXR3d0dISIjWtMailDld6+H0MWTIELz11ltYtmyZzimuRQ4ePKhzBHXPnj0AUK7QD0Mi1SviwYMHePPNNxEQEKC1pqto7WNqamqFHj82NhZxcXF6j/QRUeXBkSoiokfo2LEjqlWrhujoaEyfPh0ymQwbNmwweOqesQwYMOCRe+OcOnUKI0eOxFNPPYXOnTvD29sbN27cwLp165CcnIylS5eWmJK4d+9enaEbHTt2VI+6zJkzB+vWrcPVq1cfGVbx+++/4/fffwcgCoisrCwsWLAAgJjuVjTqN2zYMFStWhUdO3aEn58fzp07h5UrV8LV1RXvv/++1mNGRUXht99+03rtp02bhq+++gp9+vTBrFmz4OzsjCVLlqBGjRqYOXOm1v1/+OEHnDp1CoC40D99+rS6T/3791evYbp27Rrq1q2L6OjoCoUrfPHFF+jUqROaN2+OiRMnol69erh16xaOHTuGpKQkdV+aNGmCLl26oHXr1vD29sbff/+N7du34/nnn1c/VuvWrQEA06dPR8+ePeHo6Fhij6ayKBQKzJs375HHvfDCC8jOzsagQYPQuHFj5OXl4ejRo9iyZQvq1KlTIsjlxo0bJdbnAaIwHDhwoPqY0NBQvV/Pon+Ts2fPAhAx8ocPHwYAvPHGG+rjhg4dipo1a6JJkybIyMjA6tWrceXKFezevVtrhPKvv/5C165d8dZbb2m9Bvq+H4ps3LgRAKf+EZEOltp1mIjIkp577jmp+P8CIyMjpaZNm+o8/siRI1L79u2lqlWrSjVr1pReffVVad++fRIA6eDBg+rjoqOjpeDgYPXPV69elQBIH374YYnHBCC99dZbZfbz4MGDEgBp27ZtZR5XvO+3bt2S3n//fSkyMlIKCAiQnJycpGrVqklPPPGEtH37dq37rlmzRgJQ6teaNWu0zg+AdPXq1TL7I0mS9NZbb5X6mA+f9yeffCK1bdtW8vb2lpycnKSAgABp9OjR0qVLl3Sep64/XdevX5eGDBkieXp6Su7u7lLfvn113r+o/486zzNnzkgApNmzZz/yPIvcuXNH57/p5cuXpaioKMnf319ydnaWAgMDpb59+2r9OyxYsEBq27at5OXlJVWtWlVq3Lix9O6770p5eXnqYwoKCqQXXnhB8vX1lWQymc7X4WFlvZ+L6Hp/7d27Vxo3bpzUuHFjyd3dXapSpYoUEhIivfDCC9KtW7e07h8cHFzq66nr9yA6OrrM/hQp6/34sEWLFkmNGzeW5HK5VK1aNal///5SbGxsqedZ/N9G3/eDJElSYWGhFBgYKLVq1UqvcyCiykUmSRb6qJWIiMhKLVu2DK+++iouX76MGjVqWLo7RERk5bimioiIqJiDBw9i+vTpLKiIiEgvHKkiIiIiIiKqAI5UERERERERVQCLKiIiIiIiogpgUUVERERERFQBLKqIiIiIiIgqgJv/FqNSqZCcnAwPDw/IZDJLd4eIiIiIiCxEkiTcv38fNWvWhIND6eNRLKqKSU5ORq1atSzdDSIiIiIishLXr19HUFBQqbezqCrGw8MDgHjhPD09LdwbIiIiIiKylIyMDNSqVUtdI5SGRVUxRVP+PD09WVQREREREdEjlwUxqIKIiIiIiKgCWFQRERERERFVAIsqIiIiIiKiCuCaKgNJkoSCggIUFhZauitUCTg6OsLJyYnx/kRERERWjEWVAfLy8pCSkoLs7GxLd4UqEVdXVwQEBKBKlSqW7goRERER6cCiSk8qlQpXr16Fo6MjatasiSpVqnD0gExKkiTk5eXhzp07uHr1Kho0aFDmpnNEREREZBksqvSUl5cHlUqFWrVqwdXV1dLdoUqiatWqcHZ2RkJCAvLy8iCXyy3dJSIiIiIqhh97G4gjBWRufM8RERERWTderREREREREVUAiyoiIiIiIqIKYFFF5VKnTh0sXbpU7+MPHToEmUyG9PR0k/WpNGvXroWXl5fZn5eIiIiIKgcWVXZOJpOV+TVv3rxyPe6JEycwadIkvY/v2LEjUlJSoFAoyvV85mZo0UhERERElRfT/yxApQLi4wGlElAogJAQwFRZBCkpKer/3rJlC+bOnYsLFy6o29zd3dX/LUkSCgsL4eT06LeFr6+vQf2oUqUK/P39DboPEREREZEt4EiVmcXGAjNmAC+8AMyaJb7PmCHaTcHf31/9pVAoIJPJ1D+fP38eHh4e2Lt3L1q3bg0XFxccPnwYly9fxoABA1CjRg24u7ujTZs2+OWXX7Qet/hIjkwmw9dff41BgwbB1dUVDRo0wK5du9S3F5/+VzQlb9++fQgNDYW7uzt69eqlVQQWFBRg+vTp8PLyQvXq1fHaa68hOjoaAwcOLPOc165di9q1a8PV1RWDBg3C3bt3tW5/1Pl16dIFCQkJePnll9UjegBw9+5djBgxAoGBgXB1dUXz5s3x7bffGvLPQURERER2iEWVGcXGAvPnAzExgLc30KCB+B4TI9pNVVg9yuzZs/H+++8jLi4OLVq0QGZmJnr37o0DBw4gNjYWvXr1Qr9+/ZCYmFjm47z99tsYOnQoTp8+jd69e2PUqFFIS0sr9fjs7Gx89NFH2LBhA37//XckJiZi1qxZ6tsXLVqEjRs3Ys2aNThy5AgyMjLw/fffl9mHP//8E+PHj8fzzz+PkydPomvXrliwYIHWMY86v507dyIoKAjz589HSkqKutDLyclB69atsXv3bvz777+YNGkSxowZg7/++qvMPhERERGRfWNRZSYqFbBuHZCaCoSGAp6egKOj+B4aKtrXrxfHmdv8+fPRvXt31K9fH97e3ggLC8PkyZPRrFkzNGjQAO+88w7q16+vNfKky9ixYzFixAiEhITgvffeQ2ZmZpkFR35+PlasWIGIiAi0atUKzz//PA4cOKC+/bPPPsOcOXMwaNAgNG7cGJ9//vkjAyc++eQT9OrVC6+++ioaNmyI6dOno2fPnlrHPOr8vL294ejoCA8PD/WoHgAEBgZi1qxZaNmyJerVq4cXXngBvXr1wtatW8vsExERERHZNxZVZhIfD8TFAUFBwH+zydRkMtF+7pw4ztwiIiK0fs7MzMSsWbMQGhoKLy8vuLu7Iy4u7pEjVS1atFD/t5ubGzw9PXH79u1Sj3d1dUX9+vXVPwcEBKiPVyqVuHXrFtq2bau+3dHREa1bty6zD3FxcWjXrp1WW4cOHYxyfoWFhXjnnXfQvHlzeHt7w93dHfv27Xvk/YiIiIhITykpwKJFQF6epXtiEAZVmIlSCeTkAG5uum93dQWSk8Vx5uZWrFOzZs3C/v378dFHHyEkJARVq1bFkCFDkPeIN7ezs7PWzzKZDKoyht50HS9JkoG9N1x5z+/DDz/EJ598gqVLl6J58+Zwc3PDSy+99Mj7EREREVEZJAk4dAhYvhz47jugoACoWxcYOtTSPdMbiyozUSgAuRzIyhJT/orLzha3W0Pi+JEjRzB27FgMGjQIgBjZuXbtmln7oFAoUKNGDZw4cQKPP/44ADFS9M8//6Bly5al3i80NBR//vmnVtvx48e1ftbn/KpUqYLCwsIS9xswYABGjx4NAFCpVLh48SKaNGlSnlMkIiIiqtzS08X6mBUrgPPnNe2PPSaCB2wIp/+ZSUiIWDuVlCSK8YdJkmhv0kQcZ2kNGjTAzp07cfLkSZw6dQojR44sc8TJVF544QUsXLgQ//vf/3DhwgW8+OKLuHfvnjqNT5fp06fjp59+wkcffYRLly7h888/x08//aR1jD7nV6dOHfz++++4ceMGUlNT1ffbv38/jh49iri4OEyePBm3bt0y/okTERER2bOYGGDCBKBmTeCll0RB5e4OTJ0KnDoFHD4MPPmkpXtpEBZVZuLgAERHAz4+Ym1VRoYY2czIED/7+ABRUabbr8oQS5YsQbVq1dCxY0f069cPPXv2RKtWrczej9deew0jRoxAVFQUOnToAHd3d/Ts2RNyubzU+7Rv3x5fffUVPvnkE4SFheHnn3/GG2+8oXWMPuc3f/58XLt2DfXr11fvyfXGG2+gVatW6NmzJ7p06QJ/f/9HxrsTEREREcS0rDVrgLZtgYgIYNUq4MEDoHlzYNkysQ5m2TLgoTX6tkQmmWMRiw3JyMiAQqGAUqmE50Pz9HJycnD16lXUrVu3zIv6R4mNFaOccXFijZVcLkaooqKA8HBjnIH9UqlUCA0NxdChQ/HOO+9YujtmY6z3HhEREZE5qFQifE2pBHzSLqLOTysgW7cWuHdPHFClCjBkCDBtGtCxY8kUNytSWm1QHNdUmVl4OBAWpnmjKRRiyp81jFBZm4SEBPz888+IjIxEbm4uPv/8c1y9ehUjR460dNeIiIiISIfYWGDDmgJ4/b4LvROWo276L5ob69QBJk8Gxo0D/Pws1kdTYFFlAQ4OQMOGlu6F9XNwcMDatWsxa9YsSJKEZs2a4ZdffkFoaKilu0ZERERExZz5ORnnX/wKc66shG9eMgBABRmOV+uNXxtNRZ/PeiE8wtHCvTQNFlVktWrVqoUjR45YuhtEREREFvfwlDqrmukkScCvv0JathxNvvsezSWRnpwh98WRxhPwR+gkpLrXQVwccHcj0LwlcOWKFZ5HBbGoIiIiIiKyYrrW5IeGihA0S63JV929h9TF6+CxcTmqJl6EDIAjgDjfzjjSfCpi6w5GgaMLAEAGICgIOH4cGD8euHnTes7DWFhUERERERFZqdhYYP58IDVVFCZubmLf05gYICEBmDvXzAXJiRO4u2A5PPZshl/BAwBAlqMHDtcdg1XOU+HZsRkcdczwe/AAuHRJfA8NtYLzMDIWVUREREREVkilEiNUqamiECkKyfP0FD/HxQHr14sQNJNOocvOBjZvBpYvB/7+G9X/a07waoHfm0zFrwGjcOaaBxITgVZJQHCw9t0lSfS1sBBo1Ej0X9d5NG9uu1MDWVQREREREVmh+HhRcAQFlUwdl8lE+7lz4jiThKBduACsWAGsXQukpwMAChyr4ID3UMR2mIqrNToAMhmqAAivBqSkAGfOALVqaRdD6enA7dsi8E+h0H0etj41kEUVEREREZEVUipFgeHmpvt2V1exZ65SacQnzc8H/vc/MSr166+a9rp1cefpKXju72fh6O+L4ls2OTiIkaZ//hFTFhs0EP3LzgYuXgQcHbVH2x5mD1MDWVQREREREVkhhUKM2GRloUQRA4iCRS4vOfpTLklJwFdfia+UFNHm4AD06QNMnQr07IlrMQ649RfQoJQiLzAQuHNHFFRpaaLgk8uBli2BqlXFV3EPTw1s2LD0qYEmn+JYQSyqyOyuXbuGunXrIjY2Fi1btrR0d4iIiIisUkiIKCxiYkqO8kiSqIMiIsRx5aJSAb/8IkalfvhBVDYAUKMGMGECMGkSULu2+nB9ijwfH+Ctt0QBVLQ2ql49YNYs3eehVGqmBnp5aT+eWaY4GokV13tkDDKZrMyvefPmVeixv//+e6P1tSxjx47FwIEDzfJcRERERNbAwUGsKfLxESM2GRlAQYH4Hhcn2qOiyjGCc/cusHixSI3o2RP4/ntRUEVGikCKxERgwQKtggrQFHlJSaKoe1hRkdekiSh+GjYE2rQR352cSj+PCxfKnhro6iqmQBp1iqMJcKTKAlSSCvFp8VDmKKGQKxDiHQIHmWnq25Si4VsAW7Zswdy5c3HhwgV1m7u7u0mel4iIiMiYrHbzWxMLDxdrior2qSqaUhcRIQoqvdcaSRLw119iVGrLFlGpAGLIKSoKmDIFaNq0zIcoKvISEjQBGkXrppKSyi7ySjuPsqYGAkae4mhCLKrMLDYlFutOrUPcnTjkFORA7iRHqG8oosOiER5g/BV4/v7+6v9WKBSQyWRabV9//TUWL16Mq1evok6dOpg+fTqmTZsGAMjLy8OMGTOwY8cO3Lt3DzVq1MCUKVMwZ84c1KlTBwAwaNAgAEBwcDCuXbumsw9//fUXJk+ejLi4ODRr1gyvv/661u2FhYWYNGkSfv31V9y8eRO1a9fGtGnT8OKLLwIA5s2bh3Xr1gEQo2MAcPDgQXTp0gWvvfYavvvuOyQlJcHf3x+jRo3C3Llz4ezsXPEXj4iIiKyCNW5+a07h4WJNUbmKyqws4NtvgWXLxAtZpGVLYNo0YMQIwIAP2StS5Ok6j7KmBhpliqOZsKgyo9iUWMz/bT5Ss1MR5BkEN2c3ZOVnISY5BgnpCZgbOdckhVVpNm7ciLlz5+Lzzz9HeHg4YmNjMXHiRLi5uSE6Ohqffvopdu3aha1bt6J27dq4fv06rl+/DgA4ceIE/Pz8sGbNGvTq1QuOunZ5A5CZmYm+ffuie/fu+Oabb3D16lV1sVREpVIhKCgI27ZtQ/Xq1XH06FFMmjQJAQEBGDp0KGbNmoW4uDhkZGRgzZo1AABvb28AgIeHB9auXYuaNWvizJkzmDhxIjw8PPDqq6+a8JUjIiIic7G6zW8txMHBwDVFcXFiVGr9es3cORcXYNgwETzRrp3u+XZ6qEiRp+s8yjv6ZU1YVJmJSlJh3al1SM1ORahPqHrExdPFE6E+oYhLjcP60+sR5h9msqmAxb311ltYvHgxBg8eDACoW7cuzp07hy+//BLR0dFITExEgwYN0KlTJ8hkMgQ/tJObr68vAMDLy0tr5Ku4TZs2QaVSYdWqVZDL5WjatCmSkpIwdepU9THOzs54++231T/XrVsXx44dw9atWzF06FC4u7ujatWqyM3NLfFcb7zxhvq/69Spg1mzZmHz5s0sqoiIiOyA1Wx+ayvy8sT6qOXLgUOHNO3164vpfWPHiirFCAwu8spgtCmOFsSiykzi0+IRdycOQZ5B6oKqiEwmQ5BnEM7dPof4tHg0rG76aJOsrCxcvnwZ48ePx8SJE9XtBQUFUPw3aXXs2LHo3r07GjVqhF69eqFv377o0aOHQc8TFxeHFi1aQC6Xq9s6dOhQ4rgvvvgCq1evRmJiIh48eIC8vDy9kgG3bNmCTz/9FJcvX0ZmZiYKCgrgqSuOhoiIiGyOxTe/tRXXrwMrVwJffy12zwVE1dOvnxiV6t7d6qvOCk1xtAIsqsxEmaNETkEO3Jx1B/u7Orsi+X4ylDnmiTbJzMwEAHz11Vdo166d1m1FU/latWqFq1evYu/evfjll18wdOhQPPnkk9i+fbtR+7J582bMmjULixcvRocOHeDh4YEPP/wQf/75Z5n3O3bsGEaNGoW3334bPXv2hEKhwObNm7F48WKj9o+IiIgswyKb39qKojj0ZctEHLpKJdr9/TVx6LVqWbaPBjLm6Je5sagyE4VcAbmTHFn5WfB0KTmSkp2fDbmTHAq5eaJNatSogZo1a+LKlSsYNWpUqcd5enpi2LBhGDZsGIYMGYJevXohLS0N3t7ecHZ2RmHRfgalCA0NxYYNG5CTk6MerTp+/LjWMUeOHEHHjh3VARkAcPnyZa1jqlSpUuK5jh49iuDgYK3gi4SEhLJPnIiIiGyGWTe/tRV37wJr1gArVgAPXy916SJGpQYOBKpUsVTvKi0bGVCzfSHeIQj1DUVSRhKkYsH+kiQhKSMJTfyaIMTbfNEmb7/9NhYuXIhPP/0UFy9exJkzZ7BmzRosWbIEALBkyRJ8++23OH/+PC5evIht27bB398fXv/tzFanTh0cOHAAN2/exL1793Q+x8iRIyGTyTBx4kScO3cOe/bswUcffaR1TIMGDfD3339j3759uHjxIt58802cOHFC65g6derg9OnTuHDhAlJTU5Gfn48GDRogMTERmzdvxuXLl/Hpp5/iu+++M/4LRURERBah775I1p4MV2GSBBw/LhIdAgOBV14RBZWnJzB9upgDefAgMHQoCyoLYVFlJg4yB0SHRcPH1QdxqXHIyM1AgaoAGbkZiEuNg4+bD6JaRJktpAIAJkyYgK+//hpr1qxB8+bNERkZibVr16Ju3boARLLeBx98gIiICLRp0wbXrl3Dnj174PDf5NbFixdj//79qFWrFsJLWUHo7u6OH374AWfOnEF4eDhef/11LFq0SOuYyZMnY/DgwRg2bBjatWuHu3fvao1aAcDEiRPRqFEjREREwNfXF0eOHEH//v3x8ssv4/nnn0fLli1x9OhRvPnmmyZ4pYiIiMgSTLb5ra3IygK++gpo1Qro0EGkcuTmigVIX30l5j5+8omoPMmiZFLxYZNKLiMjAwqFAkqlUivwICcnB1evXkXdunW1QhcMpWufqiZ+TRDVIsqscepkO4z13iMiIrJVuvapatLEdpLhDHbunJjet26dqCABcdJFceht25Y7Dp0MU1ptUBzXVJlZeEA4wvzDEJ8WD2WOEgq5AiHeIWYdoSIiIiLbo5JUlfb6wdaT4fSSlwd8952IQ//tN017SIiIQ3/2WeC/fTrJ+rCosgAHmYNZYtOJiIjIPuia6RLqG4rosOhKM9PFEslwKpUZCrnERE0c+q1bos3BARgwQIxKdetmZ9WjfWJRRURERGTFYlNiMf+3+UjNTkWQZxDcnN2QlZ+FmOQYJKQnYG7k3EpTWJmTrimHoaFijVeFpxyqVMDPP4s49N27NXHoAQHAxIniKyiowudA5sOiioiIiMiMDBn9UEkqrDu1DqnZqQj1CYXsv3U0ni6eCPUJRVxqHNafXo8w/7BKMxXQHGJjgfnzgdRUUdu4uYnMiJgYICEBmDu3nIVVaiqwejXw5ZfAlSua9ieeAKZNA/r3B5ydjXYeZD4sqoiIiIjMxNDRj/i0eMTdiUOQZ5C6oCoik8kQ5BmEc7fPIT4tnksLjESlEv9Gqani36boZff0FD/HxYkQvrAwPWflSRJw7JhYK7Vtm0jvA0RFPXasWC/VuLGpTofMhEUVERERkRmUZ/RDmaNETkEO3JzddD6mq7Mrku8nQ5mjNMMZVA7x8aJwCgoqGbAnk4n2c+fEcWWu8crMBDZuFMXUqVOa9tatxajU8OGAq6tJzoHMj0UVERERkYmVd/RDIVdA7iRHVn4WPF1Kxjln52dD7iSHQq4w05nYP6VSjCK66a5j4eoqtodSllbH/vuvKKQ2bADu3xdtcjkwYgQwdSpUrduI6Z9n7TTFsJJiUUVERERkYuUd/QjxDkGobyhikmO01lQBgCRJSMpIQkRgBEK8Q8x0JvZPoRA1UFaWKHqLy84WtysermNzc4GdO0Ux9ccfmvYGDUSCX3Q04O0tpn/OMFH4BVmUXdXF8+bNg0wm0/pqzDmqREREZGH6jH7k5JQc/XCQOSA6LBo+rj6IS41DRm4GClQFyMjNQFxqHHzcfBDVIoohFUYUEiIKnaQksRzqYZIk2ps0Ecfh2jXg//4PqF0bGDlSFFSOjsCgQcD+/cD588DLL6sLqvnzxXRPb29Rb3l7i5/nzxfTQ8l22d1vYNOmTZGSkqL+Onz4sKW7VCkcOnQIMpkM6enpet+nTp06WLp0qUHPM3bsWAwcONCg+xAREVnaw6Mfuugc/fhPeEA45kbOReuarZH2IA3xafFIe5CGiMAIzH2ccerG5uAgRo58fMSIUkYGUFAgvsfFAX7VC/F8vT1w6N8XqFcPWLgQuH0bqFkTeOstsUBu507gySfV8/qKT//09BS1V9H0z9RUMf2zKFmdbI/dFVVOTk7w9/dXf/n4+Fi6SxY3duxYyGQyTJkypcRtzz33HGQyGcaOHWv+jlVCKSkpGDlyJBo2bAgHBwe89NJLlu4SERGZgUGjHzqEB4RjSc8l+Kz3Z/iox0f4rPdnWNxjMQsqEwkPF8EhrVsDaWliWmZhym28Jr2PTSdCUH96H7G/lCSJ4mnHDjFqNW8eEBhY4vEMmf5Jtsnu1lRdunQJNWvWhFwuR4cOHbBw4ULUrl271ONzc3ORWxRtCSAjI8Mc3TS7WrVqYfPmzfj4449RtWpVAEBOTg42bdpU5utTGRUWFkImk8HBBKtGc3Nz4evrizfeeAMff/yx0R+fiIisU9HoR0KC5uLa1VWMUCUliVGRqKiyAwscZA6MTTej8HAgrIWEpC1H4LZ+Oar9uh0O+XnixmrVNHHoZUYAChUOvyCrZ1cjVe3atcPatWvx008/Yfny5bh69So6d+6M+0XJKzosXLgQCoVC/VWrVi39n1CSxDi+Jb6Kf8z1CK1atUKtWrWwc+dOddvOnTtRu3ZthBdbGZmbm4vp06fDz88PcrkcnTp1wokTJ7SO2bNnDxo2bIiqVauia9euuHbtWonnPHz4MDp37oyqVauiVq1amD59OrJKm/egQ2FhIWbMmAEvLy9Ur14dr776KqRi561SqbBw4ULUrVsXVatWRVhYGLZv3651zK5du9CgQQPI5XJ07doV69at05qquHbtWnh5eWHXrl1o0qQJXFxckJiYiNzcXMyaNQuBgYFwc3NDu3btcOjQoQqdY506dfDJJ58gKioKCl1zPIiIyG7pGv1ISwMiIiqwmSyZRkYGsGwZHFq2QO1RnVF93yZRULVtC6xZA9y4ASxZoldBBVRs+ifZBrsqqp566ik888wzaNGiBXr27Ik9e/YgPT0dW7duLfU+c+bMgVKpVH9dv35d/yfMzgbc3S3zlZ1t8Oszbtw4rFmzRv3z6tWr8eyzz5Y47tVXX8WOHTuwbt06/PPPPwgJCUHPnj2RlpYGALh+/ToGDx6Mfv364eTJk5gwYQJmz56t9RiXL19Gr1698PTTT+P06dPYsmULDh8+jOeff17v/i5evBhr167F6tWrcfjwYaSlpeG7777TOmbhwoVYv349VqxYgbNnz+Lll1/G6NGj8dtvvwEArl69iiFDhmDgwIE4deoUJk+ejNdff73Ec2VnZ2PRokX4+uuvcfbsWfj5+eH555/HsWPHsHnzZpw+fRrPPPMMevXqhUuXLhntHImIyDhUKuDiReDECfHdWtemhIeLa/HPPgM++kh8X7yYBZXVOH1apPUFBgLPPSfi0atWBcaPB/7+G/jzTzFC9d+sH31VdPon2QDJzkVEREizZ8/W+3ilUikBkJRKpVb7gwcPpHPnzkkPHjzQNGZmSpL4XTD/V2am3ucUHR0tDRgwQLp9+7bk4uIiXbt2Tbp27Zokl8ulO3fuSAMGDJCio6P/O6VMydnZWdq4caP6/nl5eVLNmjWlDz74QJIkSZozZ47UpEkTred47bXXJADSvXv3JEmSpPHjx0uTJk3SOuaPP/6QHBwc1K9hcHCw9PHHH5fa74CAAPVzSpIk5efnS0FBQdKAAQMkSZKknJwcydXVVTp69KjW/caPHy+NGDFC3a9mzZpp3f76669r9XXNmjUSAOnkyZPqYxISEiRHR0fpxo0bWvft1q2bNGfOHL3PsSyRkZHSiy+++MjjdL73iIhI7Z9/JOnFFyWpRw9Jevxx8f3FF0U70SPl5EjSN99I0mOPaV9rNWokSUuXStJ/1wsV9c8/kjRwoCR16iRJw4dL0rhx4nunTqKd71frVFptUJzdral6WGZmJi5fvowxY8aY5glcXcVu2ZZQjh24fX190adPH6xduxaSJKFPnz4lgjwuX76M/Px8PPbYY+o2Z2dntG3bFnFxcQCAuLg4tGvXTut+HTp00Pr51KlTOH36NDZu3KhukyQJKpUKV69eRWhoaJl9VSqVSElJ0XoeJycnREREqKcAxsfHIzs7G927d9e6b15ennpK44ULF9CmTRut29u2bVvi+apUqYIWLVqofz5z5gwKCwvRsNiwfm5uLqpXr26UcyQioooriqlOTRXrlNzcxBSrmBixfonT6qhUV68CX34JrFol3kAA4OQEDBwITJsGdOlSMlWiAoqmf65bJ9bVJSeLKX8REWI9Hd+nts2uiqpZs2ahX79+CA4ORnJyMt566y04OjpixIgRpnlCmaz0FYdWaty4cerpaV988YXJniczMxOTJ0/G9OnTS9xmrGCMzP8K2t27dyOwWNKOi4uLQY9VtWpVrQ0VMzMz4ejoiJiYGDg6Omod6+7urj7G1OdIRESlKx5TXfS/8aKY6rg4EVMdFlZ2AARVIoWFwN69YpPevXs1c/ECA4HJk4EJE4CAAJM9fXi4eD/Gx4tQCoVCTPnj+9P22VVRlZSUhBEjRuDu3bvw9fVFp06dcPz4cfj6+lq6a1ajV69eyMvLg0wmQ8+ePUvcXr9+fVSpUgVHjhxBcHAwACA/Px8nTpxQx3+HhoZi165dWvc7fvy41s+tWrXCuXPnEFLOycEKhQIBAQH4888/8fjjjwMACgoKEBMTg1atWgGAVqhEZGSkzsdp1KgR9uzZo9VWPHRDl/DwcBQWFuL27dvo3LmzzmMqeo5ERFQxhsRU65knQPbq9m0xIvXll2IIs0iPHmINVd++YpTKDBwc+H60R3ZVVG3evNnSXbB6jo6O6ml8xUdgAMDNzQ1Tp07FK6+8Am9vb9SuXRsffPABsrOzMX78eADAlClTsHjxYrzyyiuYMGECYmJisHbtWq3Hee2119C+fXs8//zzmDBhAtzc3HDu3Dns378fn3/+uV59ffHFF/H++++jQYMGaNy4MZYsWaK1ubCHhwdmzZqFl19+GSqVCp06dYJSqcSRI0fg6emJ6OhoTJ48GUuWLMFrr72G8ePH4+TJk+q+ysoY0m/YsCFGjRqFqKgoLF68GOHh4bhz5w4OHDiAFi1aoE+fPuU+x5MnTwIQI1137tzByZMnUaVKFTRp0kSv14WIiATGVFOZJAn44w8xKrVjB5CfL9qrVQPGjRMjUw0aWLaPZDfsqqgi/Xh6epZ5+/vvvw+VSoUxY8bg/v37iIiIwL59+1CtWjUAYmrbjh078PLLL+Ozzz5D27Zt8d5772HcuHHqx2jRogV+++03vP766+jcuTMkSUL9+vUxbNgwvfs5c+ZMpKSkIDo6Gg4ODhg3bhwGDRoE5UN/Hd955x34+vpi4cKFuHLlCry8vNCqVSv83//9HwCgbt262L59O2bOnIlPPvkEHTp0wOuvv46pU6c+corgmjVrsGDBAsycORM3btyAj48P2rdvj759+1boHB+OsI+JicGmTZsQHBysM5aeiIhK93BMta4/bYyprqQyMoANG0Qxdfaspr1dOzEqNXSowel95qKSVIhPi4cyRwmFXIEQ7xA4yEw7N1Cl4nREY5BJRav+CYDY/FehUECpVGoVHzk5Obh69Srq1q0LuVxuwR5SRb377rtYsWKFYfH5FsT3HhGRbioVMGOGCKV4eE0VIAYp4uJECMDixbxIrBROnRKF1DffaDaEcnUFRo4UxdR/ywesVWxKLNadWoe4O3HIKciB3EmOUN9QRIdFIzzANCkWsbGa4IycHPEhRGio2KiawRlCabVBcRypIru3bNkytGnTBtWrV8eRI0fw4Ycfci8pIiI74OAgLv4SEjRrq1xdxQhVUhLg4yNS1VhQ2bGcHGD7dmDZMuDYMU1748YiwW/MGMDLyyRPbcwRntiUWMz/bT5Ss1MR5BkEN2c3ZOVnISY5BgnpCZgbOdfohRWTM42LRRXZvUuXLmHBggVIS0tD7dq1MXPmTMyZM8fS3SIiIiNgTHUldeWKJg797l3R5uQEDB4sRqUiI40ah16cMUd4VJIK606tQ2p2KkJ9QtVrvj1dPBHqE4q41DisP70eYf5h5Z4KWLwArFePyZnGxqKK7N7HH3+Mjz/+2NLdICIiE2FMdSVRWAjs3i2m+O3bp4lDDwoSoRPjx5s0Dr2IsUd44tPiEXcnDkGeQSVCtGQyGYI8g3Du9jnEp8WjYXXDYwN1FYD+/sDFi0CdOkzONBYWVURERGTzGFNtx27eFCNSK1cCiYma9p49xahUnz5mi0M3xd5oyhwlcgpy4OasO8bS1dkVyfeTocwxPMaytALw1CkxRbZGDd0hL0zONByLKgMx14PMje85IiKqdCQJ+P13TRx6QYFor14dePZZYMoUoH59s3fLFHujKeQKyJ3kyMrPgqdLyQonOz8bcic5FHLDYizLKgAbNtSsRfTzK3kuTM40HIsqPTk7OwMAsrOzUdVKYzjJPmVnZwPQvAeJiMi4GCltRZRKTRz6uXOa9g4dxKjUM8+Iq30Lds/Ye6OFeIcg1DcUMckxWmuqAPHBalJGEiICIxDiHWJQX8sqAL28RDF1+7bo68NZHpIkRrEiIsTvAumHRZWeHB0d4eXlhdu3bwMAXF1dy9w8lqiiJElCdnY2bt++DS8vL52bNRMRUcVUlkhpqy8cY2NFIbVpkyYO3c0NGDVKFFMtW1q0e0VMsTeag8wB0WHRSEhPQFyqWFvl6uyK7PxsJGUkwcfNB1EtogwOqSirAJTJxPv87l3gwgXx30zOrBgWVQbw9/cHAHVhRWQOXl5e6vceEREZT2WJlLbawjEnB9i6VRRTx49r2ps0EXHoo0db3fyzkBDx2pW2N1p5R3jCA8IxN3Kuep+q5PvJkDvJEREYgagWUeWKU39UAVi1KtCggZgKePMmkzMrikWVAWQyGQICAuDn54f8/HxLd4cqAWdnZ45QEVUyVj+iYCdMEThgjayycIyPF3Hoa9Zo4tCdnYGnnxajUp07mzQOvSJMuTdaeEA4wvzDEJ8WD2WOEgq5AiHeIeWOUdenAGzfHvjwQ5FQz//nVAyLqnJwdHTkhS4RERmdNY4o2GuRZ4rAAWtjVYVjQQHw449iVOrnnzXttWtr4tBr1DBxJ4zDlHujOcgcyhWbrvOx9CwAnZxs9z1uTVhUERERWQFrHFGwxiLPWEwROGBtrKJwTEkBvv5axKEnJWmevFcvMSrVuzdggx9U28reaNwc23xYVBEREVmYVY0o/McaizxjMkXggLWxWOEoScChQ2JU6rvvNHHoPj5iRGrSJKBePSM/qfnZyt5otlIA2joWVUREZBdseZqaviMKFy+KczL1OVpjkWdspgocsCZmLxzT08UbY/ly4Px5Tftjj4lRqSFDABcXIz0ZGcJWCkBbxqKKiIhsnq1PU9NnROHiRWDePODePdOfo1VMG9PBmIWzKQMHrIXZCsd//tHEof+3tyLc3UV639SpQIsWFXwCIuvHooqIiGyaPUxTe9SIwo0bwPXr4qK4QQPTn6M1rjcyReFs7+tNTFo4PnigiUP/809Ne7Nmmjh0Dw+DH9aWR5ypcmNRRURENstepqmVNaKgUgFnzojE6fBwzXmY8hytbb2RKQtne19vYvTC8dIlYMUKEYd+755oc3YGnnlGjEo99li549BtfcSZKjcWVUREZLOsdZqaocoaUbh0CcjPB1q1Knmhb6pztKb1RuYonO19vUmFC8eCAuCHH8So1P79mvbgYGDKFGDcOMDPr0J9tIcRZ6rcWFQREZHNssZpauVV2ohCw4aikAkK0n0/U5yjNa03spfC2dLKVTgmJ2vi0G/cEG0ymYhBnzpVxKIbIQ7dXkacqXJjUUVERDbL2qapVZSuEQWVCnjxRfOfo7WsN7KnwtkmSBJw8CCwbBnw/fdAYaFo9/XVxKHXrWvUp2ThTPaARRURVXoqSYX4tHgoc5RQyBUI8Q6Bg4wfh9oCa5qmZizFRxRUKsudozWsN7K3wtlq3bsnKugVK4ALFzTtnTqJ4InBg00Wh87CmewBiyoiqtRiU2Kx7tQ6xN2JQ05BDuROcoT6hiI6LBrhAZzAb+2saZqaqVj6HC293sgeC2er8vffYq3Ut9+KRD9AxKFHRYn1Us2bm7wLLJwrjqmJlseiiogqrdiUWMz/bT5Ss1MR5BkEN2c3ZOVnISY5BgnpCZgbOZeFlQ2wlmlqplQZzrE0li4q7VJ2NrBli5ji9/ffmvbmzcWo1KhR5YpDLy8WzhXD1ETrIJMkSbJ0J6xJRkYGFAoFlEolPHV9XEJEdkElqTBj3wzEJMcg1CcUsof+ikuShLjUOEQERmBxj8WcCmgjKsMntZXhHEuj68KxSRP7LyqN6sIFMb1v7VogPV20VamiiUPv2LHccegVVTz9r3jhzPQ/3UpLTeTrZjz61gYcqSKiSik+LR5xd+IQ5BmkVVABgEwmQ5BnEM7dPof4tHg0rM6V0bbA0tPUzKEynGNprGF9l03Kzwd27RJT/A4c0LTXrQtMnizi0H19Lde//1Tm0djyYmqidWFRRUSVkjJHiZyCHLg5614Z7ersiuT7yVDmcGU0kbWozEWlwZKSgK++El8pKaJNJgP69hWjUj17Wt2VNgtnwzA10bqwqCKiSkkhV0DuJEdWfhY8XUoO52fnZ0PuJIdCzpXRZHxMnCSTUKnEaNTy5WJ0qigO3c8PmDBBxKEHB1u2j4/Awll/TE20LiyqiKhSCvEOQahvaKlrqpIykhARGIEQb66MJuNi4iQZXVqaWCe1fLkYlijy+ONiVGrwYLF2iuwKUxOtC4sqIqqUHGQOiA6LRkJ6AuJSxdoqV2dXZOdnIykjCT5uPohqEcXRAzIqJk6S0UgScOKEKKQ2bxZDFoBI7SuKQ2/WzLJ9JJNiaqJ1YVFFRJVWeEA45kbOVY8aJN9PhtxJjojACES1iOLFLRmVSlJh3al1SM1O1Rod9XTxRKhPKOJS47D+9HqE+YexmLcDJpvimZ0t9pRavlxcTRcJCxOjUqNGiX2myO5xuwHrwqKKiCq18IBwhPmHcX0LmRwTJ21TeWLsTTLF8/x5UUitW6dZJOPiAgwdKoqp9u0tFodOJZlr+wOmJloPFlVEVOk5yBx4EUsmx8RJ21OeTVWNOsUzPx/4/ntRTB08qGmvV09M73v2WTEcYSGVed+0sph7M16mJloHFlVERERmwMRJ21LapqoxMWK6la5NVY02xfP6dU0c+s2bos3BQcShT5sGdO9u8StmcxcOtqI87xtjYGqi5bGGJSIiMoOixMmkjCRIkqR1W1HiZBO/JkyctALFN1X19AQcHTWbqqamik1VVSrt+xkyxVPnk/78MzBwIFCnDvDOO6KgqlEDeP114OpV4H//s4r9pYoKh5gYwNsbaNBAfI+JEe2xsRbtnsWU931D9oEjVURERGbAxEnbUd5NVcs1xfPuXU0c+uXLmvbISDEqNXCgyePQDQnVKF44FL0+RYVDXJwoHMLCLF77mR03463cWFQRERGZibUmTnJtjLbybqqq9xRPF0/gzz81cei5ueIAT08xf27KFKBJEyOflW6GhmqwcCgdN+Ot3FhUERFVcrygNi9rS5zk2piSyrup6qM2FU+9k4AJF1zR4OMR2nPkwsNFgt/IkaVfkZtAeUI1WDiUzh434+XfB/2xqCIiqsR4QW0Z1pI4aalF9dauvJuqljbFs9qVFLTffRJPHb0DtwcF4mAXF2DYMDHFr21bs8ehlzdUwx4LB2Oxt814+ffBMCyqiIgqKV5QV25cG1O6imyqWjTF85u/V8N73+/o/UsCwi88NGwTEiKm940dC1SvbrZzKq68+6bZW+FgTPa0GS//PhiORRURUSXEC2r92ev0F66NKVu5N1VNTET4yh1o+fU2yG7dAgBIDg5A/36QTXsO6NbNKt5A5d03zZ4KhyLG/B23h814+fehfFhUERFVQpXtgrq8F032PP2Fa2MeTe9NVYvi0JcvB378EVCpIAMAf39g4kTIJk0Sv1RWpCL7plW0cDAkbdDUTPE7buub8Va2vw/GwqKKiKgSqkwX1OW9aLL36S9cG6OfMjdVTU0F1qwBvvxSOw69a1exVmrAAMDZ2Sz9NNSjQjWSMpIQERhR6r5p5S0cDE0bNCVT/o7b8ma8lenvgzGxqCIiqoQqywV1eS+aKsP0F66NKSdJAo4fF6NSW7dq4tAVCrFOasoUoHFji3ZRH8bYN83QwqE8aYOmUhl+x8ursvx9MLZK9jYhIiJAc0GdlCSuER9WdEHdpIltX1AXv2jy9AQcHTUXTamp4qJJpSp5X0Omv9iqorUxPj7iXDMygIIC8T0uzjbXxphUZqYYkQoPBzp2BDZsEAVV69bA118DN24AS5dWuKBSqYCLF4ETJ8R3Xe9PYykK1WhdszXSHqQhPi0eaQ/SEBEYgbmPG7fAKZ426OniCUcHR3XaYGp2KtafXg+VZMITfkhl+B0vr8rw98EUOFJFRFQJ2eNi8+Iqsi6gskx/sYdF9SZ39qwYlVq/Hrh/X7TJ5cDw4WKKX5s2RnsqS6zhM9e+aeVNGzSVyvI7Xh6V4e+DKbCoIiKqpOz9groiF02VafqLrS+qN4m8PGDnTlFM/f67pr1BA7FJb3Q04O1t1Ke05Bo+c+ybVt60QX0ZGn5RmX7Hy8Pe/z6YAosqIqJKzJ4vqCty0VTZ1hvZ8qJ6o0pIAFauFNP5bt8WbY6OInBi6lTgiSdM8stRGdb3VCRt8FHKE35R2X7Hy8Oe/z6YAosqIqJKzl4vqCty0cTpL5WISgXs2ydGpXbv1ixiqlkTmDhRfAUGmrQLlSHCuqJpg6Upb/gFf8f1Y69/H0yBRRUREdmlil40cfqL/dC5T9ndO8Dq1SJ84upVzcHduolRqf79zRaHbs3re4y1p5Qx0gZ19e3h8IuiQq0o/CIuNQ7rT69HmH+Yzsfl7zgZE4sqIiITKe+Gs2Q8Fb1o4vQX26cV/vBAQqucoxiVsRytrmyDQ36eOMjLSxOH3qiR2ftoret7jL2nVFHaYNFjJt9PhtxJjojACES1iDL4MY0RfsHfcTIWFlVERCZgiRQv0q2iF02c/mK7isIfsm7ex7D8b9Dj6grUSjutvj2raRu4zZwKDBsmhoMsxBrX95hqTyljpg0aK/yCv+NkDCyqiIiMzJIpXqQbL5oqH5UK+HnxGUQdX46n7m6APD8TAJDnWBV/1R+BtVWnwqNrBBZHW35UwtrW91R0Wt2jGCtt0JThF0SGYlFFRGRElSHFi8iq5eYCO3Ygd/EyvPbPEXXzTUUj/N5kCo41jEa2SzVkZQDXrSj8wZrW91jbnlKlMVX4BVF52GVR9cUXX+DDDz/EzZs3ERYWhs8++wxt27a1dLeIqBKoDCleRFbp6lUROrF6NXDnDqoCKIAjTtYZhN+bTsWFml21fimtcXNXa1nfY+o9pYzFkPALrnElU7O7omrLli2YMWMGVqxYgXbt2mHp0qXo2bMnLly4AD8/P0t3j4jsnDWneBGZk1kuYgsLgb17RRz63r1iARIABAYidfAkvHBqAlCzplWFPzyKNUxVtaVpdfqEX3CNK5mD3RVVS5YswcSJE/Hss88CAFasWIHdu3dj9erVmD17toV7R0T2zlpTvIjMyeQXsbdvA6tWiZGphARNe/fuIg69Xz94OzihxgzrCn+wFbY2ra6s8AuucSVzsauiKi8vDzExMZgzZ466zcHBAU8++SSOHTum8z65ubnIzc1V/5yRkWHyfhKR/bLGFK+K4rQZMoTJLmIlCTh8WIxKbd8O5OeL9mrVgGefFXHoDRqoD3eAdYU/2BJT7CllarrCL7jGlczJroqq1NRUFBYWokaNGlrtNWrUwPnz53XeZ+HChXj77bfN0T0iqgSsLcWrojhthgxhkovYjAzgm29EMfXvv5r2du3EqNTQoUDVqjrvak3hD7bG2HtKWQLXuJI52VVRVR5z5szBjBkz1D9nZGSgVq1aFuwREdk6e7mQ47QZMpRRL2JPnRKF1MaNQKaIQ4erKzBypCimWrXSq0/WEv5gi4y5p5QlcI0rmZNdFVU+Pj5wdHTErVu3tNpv3boFf39/nfdxcXGBi4uLObpHRJWItV3IqSSVQRdGnDZD5VHhi9icHDG1b/ly4OhRTXvjxqKQiooCvLwM7pc1hD/YKmPtKWUJXONK5mRXRVWVKlXQunVrHDhwAAMHDgQAqFQqHDhwAM8//7xlO0dElY61XMjFpsSqp/DkFORA7iRHqG8oosOiS53Cw2kz9sVc6+LKfRF75YomDj01VbQ5OQGDBoliqkuXkm9EokewxzWuZL3sqqgCgBkzZiA6OhoRERFo27Ytli5diqysLHUaIBFRZRKbEov5v81HanYqgjyD4Obshqz8LMQkxyAhPQFzI+fqLKw4bcZ+mHNdnEEXsYWFwJ49YlTqp580cehBQcCkScCECUBAgHE7SJWKva1xJetmd0XVsGHDcOfOHcydOxc3b95Ey5Yt8dNPP5UIryAisncqSYV1p9YhNTtVKxbZ08UToT6hiEuNw/rT6xHmH1ZiKiCnzdgHc6+L0+cidlyfW3B4/7849MREzZ179ACmTQP69BGjVERGYC9rXMn6ySSp6KMhAkRQhUKhgFKphKeuKwkiIhtx8e5FvLDnBXhX9da5gWdGbgbSHqThs96f6YwinlHGHj9xceKiZPFifsprrSz5b1hidMxFQj/F7xiVsRzVDu7UxKF7ewPjxgGTJ3MOFpkUt4ag8tK3NuBHQUREdkqZo0ROQQ7cnHXP4XN1dkXy/WQoc0rO4eO0GdtnyXVxRUEtV2KVcN68Af7fL4dL/DnNAe3bi7VSzzxTahw6kTFZyxpXsl8sqoiI7JRCroDcSY6s/CydI1XZ+dmQO8mhkOuew6fPtJnK/umvNZ+/OdbFlXr+J0/CYflyhGzcKOYbFj3hqFGimOKcKyKyMyyqiIisjLEu1EO8QxDqG4qY5BitNVUAIEkSkjKSEBEYgRDv0qddlRUNX9k3Brb28zf1urji5+/hnIPhjtswKGUZ3M4c1xwYGqqJQ+ciPCKyUyyqiIisiDEv1B1kDogOi0ZCegLiUuMQ5BkEV2dXZOdnIykjCT5uPohqEfXIjTx1TZup7BsD28L5mzJO+uHzb6W4jKdSvsRjF1bDI++ueHwnJ8iefloUU48/zjh0IrJ7LKqIiKyEKS7UwwPCMTdyrnqfquT7yZA7yRERGIGoFlGl7lNVlsq+MbCtnL+p1sWpVMCGNQVofGE3Rt1fjmZJ+9S3pbnVwnafyUjqMR7zVvjb5b8/EZEuLKqIiKyAKS/UwwPCEeYfhvi0eChzlFDIFQjxDnnkCFVpKvvGwLZ0/kaPk755E2nvf405K7+Eb24SAEAFGc7V6onfQqfiTO0+UGY6Ii3BOs7f1Kx5TR0RmReLKiIiK2DqC3UHmUOJ2PTyquwbA9va+Ze1Lk4vkgT89huwbBnw3XfwKSgAANyX++Boo3H4PXQyUj3rqQ+3tvM3FWtfU0dE5sWiiojICtjShbq+AQgeHsDFi/b3Kb4tboxcrjjp9HQxPLpihagc/vMgvCM+zZ+Ks6FDULWavMTdrPH8jc0W1tQRkXmxqCIisgK2dKGuTwBC7drA8uXA+fP29ym+KQMgrMI//4h/vE2bxBsPEFXD6NHAtGlwadYCKTOAqzFAqJcdnv8j2MqaOiIyLxZVRERWwJYu1B8VgODkJEbVEhON/ym+NaxhscuNkR88ALZuFcXUn39q2ps1Ewl+o0erq30H2OH5G8CW1tQRkfmwqCIisgK2dqFeWgBC69bA7dvA9evG/xTfmtawGD0AwlLi48X0vjVrgLQ00ebsDAwZIoqpTp10xqHbzfmXgy1N1SUi82FRRURkJWztQlVXAIJKBbz4ovE/xbfGNSwVDoCwlIIC4IcfxKjU/v2a9uBgYPJkYNw4oEaNRz6MzZ5/BdnSVF0iMh8WVUREVsTWLlSLByCcOGH8T/GteQ1LWQEQ1jBVUUtyMvD118DKlcCNG6JNJgOeekqMSj31FODoaNBDlisAw8bZ0lRdIjIfFlVERFbGli9UTfEpvi2uYbGaqYqSBBw8KEalvv9ejFIBgK8vMH48MGkSULeuGTtk+2xtqi4RmQeLKiIiMhpTfIpva2tYrGKqYnq6qOpWrBARjEU6dRKjUk8/Dbi4mLgT9svWpuoSkemxqCIiIqMxxaf4trSGxeJTFWNiNHHoDx6INnd3YMwYUUw1b26CJ62cbG2qLhGZFosqIiIyKmN/im9La1gsMlUxOxvYskUUUydOaNqbN9fEoXt4GOnJ6GG2PFWXiIyLRRURERmdMT/Ft6U1LGadqnjxopjet3YtcO8eAEDlXAX3nhiCrKipCBr2GBwcS8ahExGR8bGoIiIikzDmp/i2sobF5FMVCwqAXbvEqNQvv6ibc2vWwc91p2CD07O49cAP8nVA6F+W2cOLiKgyYlFFREQ2wRbWsJhsquKNG8BXX4mv5GTRJpMBffrgco+pePVAT9y+64igAKCBFezhRURU2bCoIiIiq6KSVIhPi4cyRwmFXIEQ7xA4yETlZO1rWIw6VVGlAn79VYxK/e9/QGGhaPfzU8ehq2rXwWczgNt3rW8PLyKiyoRFFRERWY3YlFisO7UOcXfikFOQA7mTHKG+oYgOi0Z4gG0Mt1R4qmJamrjz8uXApUua9s6dgWnTgMGDgSpVAADxF21vDy8iInvEooqIiKxCbEos5v82H6nZqQjyDIKbsxuy8rMQkxyDhPQEzI2ca1OFlcFTFU+cAJYtAzZvFmkXgEjti4oCpkwBmjUrcRdb28OLiMhesagiIiKLU0kqrDu1DqnZqQj1CYXsv2EXTxdPhPqEIi41DutPr0eYf5h6KqC102uqYnY28O23YlQqJkbT3qKFiEMfNarMOHRb2sOLiMiesagiIiqDSmXdwQj2Ij4tHnF34hDkGaQuqIrIZDIEeQbh3O1ziE+LR8PqdjCP7fx5EYe+bh2Qni7aqlQBhg4VxVSHDiXn8+lgS3t4ERHZMxZVRESliI3VrIvJyRGf+IeGMqbaFJQ5SuQU5MDNWfc8NldnVyTfT4Yyx4bnseXni8CJZcuAgwc17fXqiel9zz4rkiwMYEt7eD2MH1YQkb1hUUVEpENsLDB/PpCaKi5U3RhTbVIKuQJyJzmy8rPg6VJyHlt2fjbkTnIo5DY4jy0pCVi5Evj6ayAlRbQ5OAB9+4pRqR49KlRR2MoeXkX4YQUR2SMWVURExahU4qIvNZUx1eYS4h2CUN9QxCTHaK2pAgBJkpCUkYSIwAiEeNvIPDaVSmzOu3y52KxXpRLtNWoAEyYAkyYBtWsb7elsYQ8vgB9WEJH9YlFFRFRMfDxjqs3NQeaA6LBoJKQnIC5VrK1ydXZFdn42kjKS4OPmg6gWUdYfUnH3LrB2rVgvFR+vaY+MFKNSgwap49CNzdr38NL3w4rmzYErV6y7OCQiKo5FFRFRMYyptozwgHDMjZyr3qcq+X4y5E5yRARGIKpFlPXGqUsS8NdfYq3Uli1Abq5o9/TUxKE3bWrZPloBfT6sOH5c7Gt88yanBhKRbWFRRURUDGOqLSc8IBxh/mGIT4uHMkcJhVyBEO8Q6xyhysrSxKH/84+mvWVLsUnviBGAu7vFumdtHvVhxYMHYq/jBw9EIcWpgURkS1hUEZHVsXQyGGOqLctB5mDdselxcaKQWr9eM1zp4gIMGyam+LVrp1ccemVT1ocVkiRe1sJCoFEjze1cx0hEtoJFFZEdsXQxYgzWkAxmqzHVZEJ5ecD334ti6tAhTXv9+po49OrVLdU7m1DWhxXp6cDt24CfX8kRYK5jJCJbwKKKyE5YQzFSUdaUDGZrMdVkIteva+LQb94UbQ4OQP/+YlTqySdZXeuprA8rLl4EHB1LFltFuI6RiKwdiyoiO2BNxUh5WWOMua3EVJORqVTA/v0ieOLHHzVx6P7+wMSJ4qtWLcv20UaV9mFFy5ZA1ariSxeuYyQia8eiisjGWWMxUh7WGmNu7THVZER37wJr1og49MuXNe1du4pRqYEDAWdni3XPXuj6sKJePWDWLK5jJCLbxaKKyMZZazFiKMaYk0VIEvDnn2JUautWTRy6QgGMHSvWSzVubNEu2iNdH1ZwHSMR2TIWVUQ2zl6KEcaYk1llZgKbNongiZMnNe2tWok49OHDS/+lIpPgOkYismUsqohsnL0UI4wxJ7M4e1YUUhs2ABkZok0u18Sht23LOHQL4jpGIrJVLKqIbJy9FCOMMSeTycsDdu4UxdTvv2vaGzQQ0/vGjgW8vS3WPdLGdYxEZItYVBHZOHsqRjj9h4wqMRH48ksRh377tmhzdNTEoXfrZhu/GEREZPVkkiRJlu6ENcnIyIBCoYBSqYSnrrlURFZK1z5VTZrYZjFiD5sYk4WoVMDPP4vgid27NXHoAQHApEkiDj0w0LJ9JCIim6FvbcCRKiI7YU9rETj9hwyWmgqsXi1Gpq5c0bR36yZGpfr3Zxw6ERGZDIsqIjvCYoQqFUkCjh0To1Lbtom1UwDg5aWJQ2/UyJI9JCKiSoJFFRER2Zb794GNG0XwxOnTmvaICDEqNXy4WFhIRERkJiyqiIjINvz7ryYO/f590SaXAyNGiGKqTRvL9o+IiCotFlVERGS9cnOBHTtEMXX4sKa9YUNRSEVHA9WqWa5/RKQTA4eosmFRRUR2g3/E7ci1ayJ0YtUq4M4d0eboCAwcCEybBnTtyk16iayUrjTa0FDxGYitpdES6YtFFRHZBf4RtwOFhcBPP4ngib17RRAFANSsKeLQJ0xgHDqRlYuNBebPF4GcQUGAmxuQlSU2qE9IEHsR8v/JZI9YVBGRzeMfcRt3+7aIQ1+xQvyDFXnySTHFr18/xqET2QCVSny4lZoqPtQqGkz29BQ/x8UB69eL7T84i4DsDYsqIrJp/CNuoyQJOHJErJXatg3Izxft1aoBzz4LTJ7M/QGIbEx8vPh/blBQydm5MploP3dOHMdfb7I3LKqIyKbxj7iNycgAvvkG0vLlkP37r7pZatsWsqlTgWHDgKpVLdhBIiovpVJMv3Zz0327qyuQnCyOI7I3LKqIyGTMERzBP+I24vRpMSr1zTdAZiZkAHKqOOCXdn7Y+2QdOLdth+iwMISzoCKyWQqFWM+alSVmCxSXnS1uVyjM3zciU7OroqpOnTpIeHg+PoCFCxdi9uzZFuoRUeVlruAI/hG3Yrm5wPbtopg6ckTdnFTTHTse98XpXuGQeVVDVn4WkpJjkJCegLmRcxEewAVwRLYoJET8fz4mRns6NiBm/CYliT26Q0Is10ciU7GrogoA5s+fj4kTJ6p/9vDwsGBviConcwZH8I+4Fbp6VROHnpoq2pycIA0cgC8iJGzxuYVQ3yZw+u8fy9PFE6E+oYhLjcP60+sR5h8GBxkXwBHZGgcH8cFZQoJmWrarq/hwKykJ8PEBoqK4vpXsk90VVR4eHvD397d0N4gqLXMHR+j7RxwyFS7ejYcyRwmFXIEQ7xBeuBtTYaGIQV++XDsOPTBQHYd+ySUTP+x5AUFVa0FWbAGcTCZDkGcQzt0+h/i0eDSszgVwRLYoPFx8cFY0UyE5WcwWiIgQ/y9mEivZK7srqt5//3288847qF27NkaOHImXX34ZTk6ln2Zubi5yc3PVP2dkZJijm0R2yxLBEY/6Iw7/WMzYtw5xd+KQU5ADuZMcob6hiA6LtqupZhbZ/PjWLRGH/uWX2nHoPXqIOPS+fYH//h+svHECOQU5cHPWvQDO1dkVyfeTocwx7wI4bhpNZFzh4eKDM/5eUWViV0XV9OnT0apVK3h7e+Po0aOYM2cOUlJSsGTJklLvs3DhQrz99ttm7CWRfbNUcERpf8RP3YrF/N/mIzU7FUGeQXBzdkNWfhZi7GwNj1k3P5Yk4I8/xKjUjh2aOHRvb00ceoMGJe6mkCsgd5IjKz8Lni4lF8Bl52dD7iSHQm6+BXDcNJrINBwcmLhKlYtMkormaFin2bNnY9GiRWUeExcXh8aNG5doX716NSZPnozMzEy4uLjovK+ukapatWpBqVTCU9eqdyIq08WLwAsviOtrXb9CGRlAWhrw2Wem/4OrklSYsW8GYpJjEOoTqjXlTJIkxKXGISIwAot7LLbpqYClrWErmv5otDVsGRnAhg2imDp7VtPerp0YlRo6tMw4dGv79zDb60ZERDYrIyMDCoXikbVBhUaqcnJyIJfLK/IQjzRz5kyMHTu2zGPq1auns71du3YoKCjAtWvX0KhRI53HuLi4lFpwEZHhrCk4Ij4tHnF34hDkGWS3a3jMsobt5ElRSG3cKKoOQAw5jholiik9Kw8HmQOiw6KRkJ6AuFTx7+Lq7Irs/GwkZSTBx80HUS2izFJQcdNoIiIyJoOLKpVKhXfffRcrVqzArVu3cPHiRdSrVw9vvvkm6tSpg/Hjxxu1g76+vvD19S3XfU+ePAkHBwf4+fkZtU9EVDprSn9S5iitcg0PYLx1PCZbw5aTA2zbJoqpY8c07aGhwLRpwJgx5cqpDw8Ix9zIuVh3SqxxS76fDLmTHBGBEYhqEWW2qZjcNJqIiIzJ4KJqwYIFWLduHT744AOt6PJmzZph6dKlRi+q9HXs2DH8+eef6Nq1Kzw8PHDs2DG8/PLLGD16NKpVq2aRPhFVVtaS/mSONTwqSYX4NMNSBY25jsfoa9guXxahE6tXA3fvijYnJ2DwYFFMPf54ySrEQOEB4QjzDzP4dTMmbhpNRETGZHBRtX79eqxcuRLdunXDlClT1O1hYWE4f/68UTtnCBcXF2zevBnz5s1Dbm4u6tati5dffhkzZsywWJ+IKjNrSH8K8Q5BqG9oqWt4kjKSEBEYgRDv8s1FjE2JVY+46JsqaOw9vIyy+XFhIbB7txiV2rdPE4deq5YInRg/HjDyVhUOMgeLTrnkptFERGRMBhdVN27cQIiOxRAqlQr5RQlQFtCqVSscP37cYs9PRCVZOv3JlGt4YlMMTxU0xTqeCq1hu3lTbND75ZfA9eua9l69xFqpPn0AR0fDXhgbYU1r/4iIyPYZfCXRpEkT/PHHHyXat2/fjnDGJBGRialUImHwxAnxXaUq+/iiNTyta7ZG2oM0xKfFI+1BGiICIzD38fLFqaskFdadWofU7FSE+oTC08UTjg6O8HTxRKhPKFKzU7H+9HqoJO3OGbKOR19Fa9h8fMRjZ2QABQXie1ycjjVskgQcOgQMGyZGot54QxRU1asDr7winnzvXqB/f7stqIByvG5ERERlMHikau7cuYiOjsaNGzegUqmwc+dOXLhwAevXr8ePP/5oij4SEQEo/1okY6/hKW+qoKnW8ei1hk2pFMNgy5eLg4p06CDWSg0ZIu5UiVjL2j8iIrJ9BhdVAwYMwA8//ID58+fDzc0Nc+fORatWrfDDDz+ge/fupugjEVGF1yIZcw1PeVMFTbmOp9Q1bKdigUn/xaFnZ4uD3dyA0aPFFL+wMMOfzI5Yw9o/IiKyfeXap6pz587Yv3+/sftCRKSTte0pVN5UQVOv41GvYcvJAbZuBaKWAX/+qTmgaVNRSI0Zo7uqq6QsvfaPiIhsHz+LIyKrZ4q1SBVRlCqYlJEEqSgp7z9FqYJN/JqUSBU0+Tqe+Hhg1iwgMFA80Z9/As7OwPDhwG+/AWfOAM89x4KKiIjIyAweqXJwcCixhuBhhYWFFeoQEVFx1ranUEVSBY2+jqegAPjxR7FW6uefNe21a2vi0GvUqNgJExERUZkMLqq+++47rZ/z8/MRGxuLdevW4e233zZax4iIiljjnkJFqYJF+1Ql30+G3EmOiMAIRLWIKjNV0CjreFJSgK+/BlauFPMGATFsVxSH3ru3Xaf3ERERWROZVHzuSjlt2rQJW7Zswf/+9z9jPJzFZGRkQKFQQKlUwpNTZIisgkoFzJhR+lqkuDgx0rN4sfkDBlSSymipgo8kScDBg2JU6vvvxSgVIOYNjh8vRqbq1jXNcxMREVVC+tYG5Qqq0KV9+/aYNGmSsR6OiMzIrIVBORStRUpI0KytcnUVI1RJSZbdU8iYqYKlSk8X8wVXrADOn9e0P/aYiEN/+mnAxcW0fSAiIqJSGaWoevDgAT799FMEBgYa4+GIyIxiU2LVU9hyCnIgd5Ij1DcU0WHR5doY11Qq5Z5CMTFiVGrTJuDBA9Hm7i7S+6ZMAVq0sGz/iIiICEA5iqpq1appBVVIkoT79+/D1dUV33zzjVE7R0SmFZsSi/m/zUdqdiqCPIPg5uyGrPwsxCTHICE9AXMj51pdYWX3ewo9eABs2QIsWwacOKFpb9ZMjEqNHg14eFiuf0RERFSCwUXVxx9/rFVUOTg4wNfXF+3atUO1atWM2jkiMh2VpMK6U+uQmp2KUJ9Q9e+1p4snQn1CEZcah/Wn1yPMP8zqpgLa5Z5CFy+K6X1r1wL37ok2Z2fgmWdE8MRjj5XMkyciIiKrYHBRNXbsWBN0g4jMLT4tHnF3RBx48W0SZDIZgjyDcO72OcSnxZt+zVBlVVAA/PCDGJX65RdNe3CwmN43bhzg52e5/hEREZFe9CqqTp8+rfcDtuAcfyKboMxRIqcgB27Oujd/cnV2RfL9ZChzzLT5U2WSnAx89ZX4unFDtMlkIgZ96lQRi844dCIygEpl51OjiaycXkVVy5YtIZPJ8Kj0dZlMxs1/iWyEQq6A3EmOrPwseLqUjAjNzs+G3EkOhdyMmz/ZM0kCfv1VjEr9739A0f8rfX2BCROASZOAOnUs2kUisk2xsZoQn5wcEeITGipSU+0yxIfICulVVF29etXU/SAiMwvxDkGobyhikmO01lQBIoAmKSMJEYERCPEOsWAv7cC9e2Kd1IoVYt1UkU6dRPDE4MGMQyeicouNBebPB1JTxXYTbm5io/SYGLENxdy5LKyIzEGvoio4ONjU/SAiM3OQOSA6LBoJ6QmISxVrq1ydXZGdn42kjCT4uPkgqkWUVYVU2JQTJ0Qc+ubN2nHoUVFivVTz5pbtHxHZPJVKjFClpmpvjO7pKX6OiwPWrxepqZwKSGRa5d6n6ty5c0hMTEReXp5We//+/SvcKSIyj/CAcMyNnKvepyr5fjLkTnJEBEYgqkWUVcWp24TsbFFELV8O/P23pr15czEqNWoU49CJyGji4zUbohcPB5XJRPu5c+I4u0xNJbIiBhdVV65cwaBBg3DmzBmtdVZFU4e4porItoQHhCPMPwzxafFQ5iihkCsQ4h3CESpDXLigiUNPTxdtVapo4tA7dmQcOhEZnVIp1lC56c4bgquryMVRMm+IyOQMLqpefPFF1K1bFwcOHEDdunXx119/4e7du5g5cyY++ugjU/SRiEzMQeZQ7tj0Sps4lZ8P7Nolgid+/VXTXreumN737LMihMLIKu3rTUQlKBQilCIrS0z5Ky47W9yuYN4QkckZXFQdO3YMv/76K3x8fODg4AAHBwd06tQJCxcuxPTp0xEbG2uKfhKRFaqUiVNJSZo49JQU0SaTAX37ilGpnj1NVuVUytebiEoVEiL+HxATo72mChCBo0lJQESEOI6ITMvgoqqwsBAe/60J8PHxQXJyMho1aoTg4GBcuHDB6B0kIutUqRKnVCrgwAGxVmrXLk0cup+fJg7dxIE+ler1JiK9ODiID1USEjRrq1xdxQhVUhLg4yOycTiaTWR6BhdVzZo1w6lTp1C3bl20a9cOH3zwAapUqYKVK1eiXr16pugjEVmZSpM4lZYm1kktXy7m3BWJjBSjUoMGibVTJlZpXm8iMlh4uPhQpWgUOzlZjGJHRIiCih+2EJmHwUXVG2+8gaysLADA/Pnz0bdvX3Tu3BnVq1fHli1bjN5BIrI+dp04JUkiDn3ZMmDLFjHPDhAVTFEcetOmZu2SXb/eRFRh4eHiQxWutySyHL2LqoiICEyYMAEjR46E53+rIUNCQnD+/HmkpaWhWrVqWpuHEpH9ssvEqawsEYe+bBnwzz+a9pYtRRz6iBFinykLsMvXm4iMysGBH6oQWZLen2GEhYXh1VdfRUBAAKKionDo0CH1bd7e3iyoiCqRhxOndLGpxKm4OODFF4HAQLE+6p9/ABcXYMwY4Ngx8fPEiRYrqAA7e72JiIjskN5F1apVq3Dz5k188cUXSExMRLdu3RASEoL33nsPN27cMGUficgIVCrg4kUxs+3iRfFzeRUlTiUlidlyDytKnGrSxIoTp/LygK1bga5dRUc//VQM89SrB3z4oTiB9euB9u2tYn8pm3+9iYiI7JxMkor/idbP5cuXsWbNGmzYsAHJycno0aMHxo8fj8GDBxu7j2aVkZEBhUIBpVKpnuZIZOtMEcVdPI2ueOKUVabRXb8OrFwJfP01cPOmaHNwAPr1E8ET3btb7SIEm3y9iYiIbJy+tUG5i6oikiRhx44dmDx5MtLT01FYFDVso1hUkb0pLYrbGBfjuoq1Jk2sLHFKpQL27xcJfj/8oBmi8/fXxKHXqmXZPurJJl5vIiIiO6JvbWBw+t/DDh06hDVr1mDHjh1wcnLCxIkTK/JwRGRkpo7iturEqbt3gTVrgBUrgMuXNe1duojgiYEDAWdnS/WuXKz69SYiIqrEDC6qkpKSsHbtWqxduxZXrlxB586dsWzZMjzzzDOoWrWqKfpIROVkjihuq0qckiTgzz/FqNSWLUBurmhXKMRcxylTRDVpw6zq9SYiIiIABhRVW7duxerVq3HgwAH4+fkhOjoa48aNQwhXRhNZLWuO4lapjDjikpUFbNokiqnYWE17eLgmDr20F4GIiIiogvQuqkaPHo0+ffrgu+++Q+/eveHA+SZEVu/hKG5d04AtFcVttOCMc+dEIbV+PZCRIdpcXIBhw0Qx1batVaT3ERERkX3Tu6hKSkqCn5+fKftCREZWFMUdE6O9pgrQRHFHRJg3iru04IyYGCAhQY/gjLw84LvvRDH122+a9pAQMb1v7FigenVTnwYRERGRmt5FFQsqItvj4CBGfxISNGurikdxR0WZL+igQsEZiYmaOPRbtzQn2L+/GJXq1o2JDURERGQRFUr/IyLrFx4uRn+KptslJ4vpdhER5o/iNjg4Q6UC9u0To1K7d2vi0AMCgIkTxVdQkPlOgIiIiEgHFlVEFmLUoIZHsJYobn2DM7ISUoHvVwNffglcuaI54IknxCa9AwbYXBw6ERER2S8WVUQWYLSgBgNYQxR3mcEZkoTAxGMYcWk5wvpsBfLzNHcaO1asl2rc2NxdJiIiInokg4uqevXq4cSJE6hebCF4eno6WrVqhSsPf6pMRCVUOKjBhukKznDJz0TbSxsReW4ZaqWd1hzcurUYlRo+nHHoREREZNUMLqquXbuGwsLCEu25ubm4ceOGUTpFZK8qFNRgBx4Oznjw91mMzlyOx6+tR9X8+wCAXAc5MvsMR/U3pwFt2li4t0RERET60buo2rVrl/q/9+3bB8VDG9sUFhbiwIEDqFOnjlE7R2RvDA5qsDe5uQg/vxMbEpbDPfYPdfN114aIiZiCem9Ho0UXbwt2kIiIiMhwehdVAwcOBADIZDJER0dr3ebs7Iw6depg8eLFRu0ckb3RN6hBqTRvv0zu2jVNHPqdO3AHIDk6IrPbACT3nwrZk93Qv4HMLkfniIiIyP7pXVSp/osyrlu3Lk6cOAEfHx+TdYrIXpUZ1ACxf5RcLo6zeYWFIg592TJgzx6x2zAA1KwJTJoE2YQJ8AgMRCPL9pKIiIiowgxeU3X16lX1f+fk5EAulxu1Q0T2TFdQQxFJEhvyRkSI42zW7dvA6v/i0K9d07Q/+aQInujXj3HoREREZFcMnmyjUqnwzjvvIDAwEO7u7uq0vzfffBOrVq0yegeJ7ElRUIOPj1hblZEBFBSI73Fxoj0qygZDKiQJOHwYGDUKqFULmDNHFFReXsDLLwPnzwP79wODB7OgIiIiIrtj8KXbggULsHbtWnzwwQeoUqWKur1Zs2b4+uuvjdo5InsUHi5i01u3BtLSRChFWpoYobK5OPX794Hly0VcYefOwKZNQF6eSO5bvRq4cQNYsgRoxEl+REREZL8Mnv63fv16rFy5Et26dcOUKVPU7WFhYTh//rxRO0dkr8LDRR0SHy9CKRQKMeXPZkaozpwRxdSGDUBmpmirWhUYOVJM8Wvd2rL9IyIiIjIjg4uqGzduIETHgg+VSoX8/HyjdIqoMnBwsLHY9NxcYPt2UUwdOaJpb9RIFFJRUUC1apbrHxEREZGFGFxUNWnSBH/88QeCg4O12rdv345wm5q3RER6uXpVhE6sXg3cuSPanJyAgQNFMdW1a8lNt4iIiIgqEYOLqrlz5yI6Oho3btyASqXCzp07ceHCBaxfvx4//vijKfpIROZWWAjs3StGpfbu1cShBwYCkyYBEyaIaHQiIiIigkySiq6W9PfHH39g/vz5OHXqFDIzM9GqVSvMnTsXPXr0MEUfzSojIwMKhQJKpRKeujYSIrJnt28Dq1aJkamEBE179+6aOHQngz+LISIiIrJJ+tYG5Sqq7BmLKqp0iuLQly8Xa6aK1kZWqwY8+ywwZQrQoIFl+0hERERkAfrWBvzImaiyysgQ6X0rVgD//qtpb9dOjEoNHSoS/YiIiIioTAYHOFerVg3e3t4lvqpXr47AwEBERkZizZo1Ru/ou+++i44dO8LV1RVeXl46j0lMTESfPn3g6uoKPz8/vPLKKygoKDB6X4hs2qlTYvSpZk3g+edFQeXqKtZJxcQAx4+LHYpZUBERERHppVxBFe+++y6eeuoptG3bFgDw119/4aeffsJzzz2Hq1evYurUqSgoKMDEiRON1tG8vDw888wz6NChA1atWlXi9sLCQvTp0wf+/v44evQoUlJSEBUVBWdnZ7z33ntG6weRTcrJ0cShHz2qaW/cGJg2DRgzBijlwwoiIiIiKpvBa6qefvppdO/eXWvjXwD48ssv8fPPP2PHjh347LPPsHLlSpw5c8aonQWAtWvX4qWXXkJ6erpW+969e9G3b18kJyejRo0aAIAVK1bgtddew507d1ClShW9Hp9rqsiuXLkiQidWrQLu3hVtTk7A4MFiil9kJOPQiYiIiEqhb21g8PS/ffv24cknnyzR3q1bN+zbtw8A0Lt3b1y5csXQh66QY8eOoXnz5uqCCgB69uyJjIwMnD17ttT75ebmIiMjQ+uLyKYVFgI//AA89RQQEgJ88IEoqGrVAt55B0hMBLZsAbp0YUFFREREZAQGF1Xe3t744YcfSrT/8MMP8Pb2BgBkZWXBw8Oj4r0zwM2bN7UKKgDqn2/evFnq/RYuXAiFQqH+qlWrlkn7SWQyt24B774L1KsH9O8P/PSTSPbr2RP43//EqNUbbwABAZbuKREREZFdMXhN1ZtvvompU6fi4MGD6jVVJ06cwJ49e7BixQoAwP79+xEZGfnIx5o9ezYWLVpU5jFxcXFo3Lixod3U25w5czBjxgz1zxkZGSysyHZIEvD772Kt1M6dmjh0b29g3Dhg8mQxWkVEREREJmNwUTVx4kQ0adIEn3/+OXbu3AkAaNSoEX777Td07NgRADBz5ky9HmvmzJkYO3ZsmcfUq1dPr8fy9/fHX3/9pdV269Yt9W2lcXFxgYuLi17PQWQ1lEoRh758OXDunKa9QwexVuqZZwC53ChPpVIB8fHiKRUKUaM5GDzGTURERGS/DCqq8vPzMXnyZLz55pv49ttvK/zkvr6+8PX1rfDjAECHDh3w7rvv4vbt2/Dz8wMgRsw8PT3RpEkTozwHkcXFxopCauNGIDtbtLm5AaNGiWKqZUujP926dUBcnAgQlMuB0FCRuB4ebtSnIiIiIrJZBhVVzs7O2LFjB958801T9adUiYmJSEtLQ2JiIgoLC3Hy5EkAQEhICNzd3dGjRw80adIEY8aMwQcffICbN2/ijTfewHPPPceRKLJtOTnA1q2imDp+XNPepIkopMaMEUNIRhYbC8yfD6SmAkFBonbLyhJbWSUkAHPnsrAiIiIiAsoRVDFw4EB8//33JuhK2ebOnYvw8HC89dZbyMzMRHh4OMLDw/H3338DABwdHfHjjz/C0dERHTp0wOjRoxEVFYX58+ebva9ERnH5MvDKK6KiiY4WBZWzMzB8OPDbb2LT3uefN0lBpVKJEarUVDEy5ekJODqK76Ghon39enEcERERUWVn8D5VCxYswOLFi9GtWze0bt0abm5uWrdPnz7dqB00N+5TRRZVUADs3i1Gpf7bogAAULu2CJ0YPx4olnJpChcvAi+8IPIudP0aZGQAaWnAZ58BDRuavDtEREREFqFvbWBwUMWqVavg5eWFmJgYxMTEaN0mk8lsvqgisoiUFODrr4GVK4GkJNEmk4k49GnTgN69xVCRmSiVYtZhsc9M1FxdgeRkcRwRERFRZWdwUXX16lVT9IOo8pEk4NAhMSr13XdilAoAfHw0ceh6pl8am0IhQimysnSPVGVni9tNMPOQiIiIyOYYXFQRUQWlp4sFScuXA+fPa9o7dhSjUkOGABYOVwkJEWunYmLEd5lMc5skicG0iAhugUVEREQElLOoSkpKwq5du5CYmIi8vDyt25YsWWKUjhHZnZgYUUh9+60mDt3dHRg9WqT4tWhh2f49xMFBZGMkJIg49aAgMeUvO1sUVD4+QFQU96siIiIiAspRVB04cAD9+/dHvXr1cP78eTRr1gzXrl2DJElo1aqVKfpIZLsePAC2bBHF1MObUzdrJgqp0aN1z6+zAuHhIja9aJ+q5GQx5S8iQhRUjFMnIiIiEgwuqubMmYNZs2bh7bffhoeHB3bs2AE/Pz+MGjUKvXr1MkUfiWzPpUvAihXAmjXAvXuizdlZTO2bNg147DHtOXVWKjwcCAsD4uNFKIVCIab8cYSKiIiISMPgSHUPDw+cPHkS9evXR7Vq1XD48GE0bdoUp06dwoABA3Dt2jUTddU8GKlO5VZQAPzwgxiV2r9f0x4crIlD9/OzXP+IiIiIyCAmi1R3c3NTr6MKCAjA5cuX0bRpUwBAampqObtLZMOSkzVx6DduiDaZDHjqKTEq1auXWePQiYiIiMi89C6q5s+fj5kzZ6J9+/Y4fPgwQkND0bt3b8ycORNnzpzBzp070b59e1P2lch6SBLw669iVOr774HCQtHu6ytGpCZNAurWtWgXiYiIiMg89J7+5+joiJSUFGRmZiIzMxMtWrRAVlYWZs6ciaNHj6JBgwZYsmQJgoODTd1nk+L0PyrTvXsiuWHFCuDCBU17p04ieOLppy0eh05ERERExmH06X9FtVe9hzYjdXNzw4oVKyrQTSIb8fffmjj0Bw9Em7s7MGaMKKaaN7ds/4iIiIjIYgxaUyWzgbQyIqPJzgY2bxbF1N9/a9qbNxdrpUaNAjw8TPLUKkmF+LR4KHOUUMgVCPEOgYOMkXtERERE1sigoqphw4aPLKzS0tIq1CEii7twQUzvW7sWSE8XbVWqaOLQO3Y0aRx6bEos1p1ah7g7ccgpyIHcSY5Q31BEh0UjPICbQxERERFZG4OKqrfffhsKhcJUfSGynPx8YNcuMSp14ICmvW5dEYc+bpwIoTCx2JRYzP9tPlKzUxHkGQQ3Zzdk5WchJjkGCekJmBs5l4UVERERkZUxqKgaPnw4/LjPDtmTGzeAr74SX8nJok0mA/r0EaNSPXuabadblaTCulPrkJqdilCfUPWosKeLJ0J9QhGXGof1p9cjzD+MUwGJiIiIrIjeRRXXU5HdUKlEHPqyZWJ0qigO3c9PE4dep47ZuxWfFo+4O3EI8gwq8fsmk8kQ5BmEc7fPIT4tHg2rNzR7/4iIiIhIN4PT/4hsVlqaWCe1YgVw6ZKm/fHHRYLf4MFi7ZSFKHOUyCnIgZuzm87bXZ1dkXw/GcocpZl7RkRERERl0buoUqlUpuwHkWlIEnDihFgrtXkzkJMj2j08gOhoYMoUoGlTy/bxPwq5AnInObLys+DpUnIfhOz8bMid5FDIua6RiIiIyJoYtKaKyGZkZ4s9pZYtA/75R9PesqUYlRo5UuwzZUVCvEMQ6huKmOQYrTVVgBgpTspIQkRgBEK8QyzYSyIiIiIqjkUV2Zfz58Wo1Lp1gPK/aXIuLsDQoaKYat/epHHoFeEgc0B0WDQS0hMQlyrWVrk6uyI7PxtJGUnwcfNBVIsohlQQERERWRmZxMVSWjIyMqBQKKBUKuHpWXIKFlmh/Hzg++9FMXXwoKa9Xj0xve/ZZwEfH4t1z1C69qlq4tcEUS2iGKdOREREZEb61gYcqSLblZQErFwJfP01kJIi2hwcgL59RRx69+5mi0M3pvCAcIT5hyE+LR7KHCUUcgVCvEM4QkVERERkpVhUkW1RqYBffhGjUrt2iZ8BoEYNYMIEEYdeu7buu0oqmylUHGQOjE0nIiIishEsqsg23L2riUOPj9e0R0aKtVKDBpUZh65rSl2obyiiw6IrPKVOpRJdUioBhQIICTHtAJm5n4+IiIiIysaiiqyXJAF//aWJQ8/NFe2enpo49CZNHvkwsSmxmP/bfKRmpyLIMwhuzm7Iys9CTHIMEtITMDdybrkLq9hYkYkRFyfS2uVyIDRUdC/cBMufzP18RERERPRoLKrI+mRliTj05cu149DDw8Wo1IgResehqyQV1p1ah9TsVK2Yck8XT4T6hCIuNQ7rT69HmH+YwVMBY2OB+fOB1FQgKAhwcxNdj4kBEhKAuXONW+iY+/mIiIiISD+cNETWIy4OmD4dCAwEJk4UBZWLCxAVBRw/LqqHiRMN2l8qPi0ecXdEPLmsWJS6TCZDkGcQzt0+h/i0+FIeQTeVSowYpaaKkSJPT8DRUXwPDRXt69drlnxVlLmfj4iIiIj0x5Eqsqy8PE0c+qFDmvb69cWo1NixQPXq5X54ZY4SOQU5cHN203m7q7Mrku8nQ5mjNOhx4+NFDRgUVHLbK5lMtJ87J45raIS8CXM/HxERERHpj0UVWUZioohDX7UKuHlTtDk4AP37i2LqySeNkr6gkCsgd5IjKz8Lni4l9xbIzs+G3EkOhVxh0OMqlWJNk5vuWg2urkBysmb/4Yoy9/MRERERkf5YVJH5qFTAzz+LUakff9TMVfP3F9P6Jk4EatUy6lOGeIcg1DcUMckxWmuqAECSJCRlJCEiMAIh3iEGPa5CIUIisrLEFLzisrPF7QrDajWreT4iIiIi0h/XVJHppaYCH3wANGgAPPWUZn+prl2BrVvFqNX8+UYvqACx31N0WDR8XH0QlxqHjNwMFKgKkJGbgbjUOPi4+SCqRZTBIRUhIWItU1KSCCl8mCSJ9iZNxHHGYO7nIyIiIiL9caSKTEOSgGPHxKjUtm2aOHSFQqyTmjIFaNzYLF0JDwjH3Mi56n2qku8nQ+4kR0RgBKJaRJUrTt3BQcSYJyRo1jq5uooRo6QkwMdH5GsYa/8ocz8fEREREelPJknFP/eu3DIyMqBQKKBUKuGpa54VlS0zE9i4URRTp05p2lu1AqZNA4YPL31hkImpJBXi0+KhzFFCIVcgxDvE4BGq4nTtG9WkiShwwsONv1Hvo56PiIiIiIxH39qARVUxLKrK6exZUUitXw/cvy/a5HJRRE2dCrRpUzK2zk6UVjiZaqNeYxdqRERERKSbvrUBp/9R+eXlATt3imLq99817Q0aiOl9Y8cC3t4W6565ODiUjDE35Ua9up6PiIiIiCyHRRUZLiFBxKF//TVw+7Zoc3QUcejTpgFPPFGph06Kb9RbNEBXtFFvXJwY0AsLq9QvExEREZHdYFFF+lGpgH37xKjU7t2aOPSAAGDSJBGHHhho2T5aCW7US0RERFS5sKiist25A6xZA3z5JXDliqa9WzexVqp/f8DZ2XL9s0LcqJeIiIiocmFRRSUVxaEvWybi0PPyRLuXlyYOvVEjS/bQqnGjXiIiIqLKhUUVady/r4lDP31a0x4RIdZKDRsmhlmoTEUb9cbEaK+pAjQb9UZEcKNeIiIiInvBooqAM2dEIfXNN5o49KpVgREjxBS/iIhS78p475K4US8RERFR5cKiqrLKzQV27BDF1OHDmvaGDUUhFR0NVKtW5kOYah8mexAeLmLTi16f5GTx+kREcKNeIiIiInvDoqqyuXZNhE6sWiVCKAARhz5okCimunbVa5NeU+7DZC/Cw0VsOkfyiIiIiOwbi6rKoLAQ+OknETyxd69Y2AOICPRJk4AJE4CaNfV+OHPsw2Qv0wq5US8RERGR/WNRZc9u3xYjUl9+KYaPinTvLoIn+vYFnAx/C5h6HyZOKyQiIiIiW8Kiyt5IEnDkiBiV2r4dyM8X7dWqAePGAZMnAw0aVOgpTLkPE6cVEhEREZGtYVFlLzIyRHrfihUiza9I27ZiVGroUJHoZwSm2ofJHNMKiYiIiIiMjUWVrTt9WhOHnpkp2lxdgZEjxSa9rVsb/SlNtQ+TqacVEhERERGZAosqW5SbK6b2LVsGHD2qaW/cWCT4RUUBXl4me3pT7cNkymmFRERERESmwqLKlly5IkInVq8Wc+QAETQxaJCY4hcZqVccujGYYh8mU00rJCIiIiIyJRZV1q6wENizR0zx++knTRx6rVoiDn38eCAgwCJdM/Y+TKaaVkhEREREZEosqqzVrVuaOPTERE17z55iil+fPuWKQzc2Y+7DZKpphUREREREpmT5q3LSbdcu4PXXxX97e2vi0O18mMYU0wqJiIiIiExJJklF88kIADIyMqBQKKBUKuGpa2GPuWRlAQMHikrimWdEZVGJqFTGm1ZIRERERFQe+tYGNnOZ+u6776Jjx45wdXWFVynJdjKZrMTX5s2bzdtRY3FzA/bvB8aMqXQFFaCZVtimjfjOgoqIiIiIrJXNTP/Ly8vDM888gw4dOmDVqlWlHrdmzRr06tVL/XNpBRgREREREZEx2ExR9fbbbwMA1q5dW+ZxXl5e8Pf3N0OPiIiIiIiIbGj6n76ee+45+Pj4oG3btli9ejUetWQsNzcXGRkZWl9ERERERET6spmRKn3Mnz8fTzzxBFxdXfHzzz9j2rRpyMzMxPTp00u9z8KFC9WjYERERERERIayaPrf7NmzsWjRojKPiYuLQ+PGjdU/r127Fi+99BLS09Mf+fhz587FmjVrcP369VKPyc3NRW5urvrnjIwM1KpVy/Lpf3aCKX5EREREZKv0Tf+z6EjVzJkzMXbs2DKPqVevXrkfv127dnjnnXeQm5sLFxcXnce4uLiUehtVTGysZr+pnBwRYhgaKjb4NdV+UyziiIiIiMjcLFpU+fr6wtfX12SPf/LkSVSrVo1FkwXExgLz5wOpqUBQkEiIz8oCYmKAhASxwa+xCytLFHFERERERDazpioxMRFpaWlITExEYWEhTp48CQAICQmBu7s7fvjhB9y6dQvt27eHXC7H/v378d5772HWrFmW7XglpFKJ4iY1VRQ1Mplo9/QUP8fFAevXA2FhxhtFskQRR0REREQE2FBRNXfuXKxbt079c/h/V8gHDx5Ely5d4OzsjC+++AIvv/wyJElCSEgIlixZgokTJ1qqy5VWfLwonIKC/r+9uw+OqjzfOH7tBsiSwC6GhDc3KLAiSZU0BItQlcRSSacqjIM6viXYFJWihVGrWBUqFqmCiqJFrGMSHKiIFXHqdBSpKMX3NKDAgl0UNAkoMboLm9/mhT2/P05JCSQhZJM92eT7mdlZ9jwnmzscGXPteZ77+V+gOspmM4/v3GmeN3Jk5N/PihAHAAAAHBUzoaqoqKjFPapyc3MbbfoL6/j95vS7xMSmxxMSpIoK87z2EO0QBwAAAByLz+3R7lwucz1TMNj0eHW1Oe5ytc/3a02IC4XaL8QBAAAAxyJUod15POa0u7Iy6fiG/YZhHk9PN89rD9EOcQAAAMCxCFVod3a72XEvOdmclhcISPX15rPXax7Py2u/9U3RDnEAAADAsQhV6BCZmWbHvawsqarKXM9UVSWNHdv+nfiiHeIAAACAY9kM4/jP9ru31u6ajNaJ5ma8Te1TlZ5uBiraqQMAAOBUtTYbxEz3P8Qmuz16HfcyM8226dEKcQAAAIBEqEIMChth+ap88of8cjlc8iR5ZLeZySmaIQ4AAACQCFWIMaX7S1W8rVjeg16F6kNy9HAoLSVN+Rn5yhzMHD8AAABEH6EKMaN0f6kWvLNAldWVcjvdSuyZqGBdUCUVJdr3wz7NmziPYAUAAICoY7UJYkLYCKt4W7EqqyuVlpwmZ7xTcfY4OeOdSktOU2V1pVZ+ulJhI2x1qQAAAOhmCFWICb4qn7wHvXI73bLZbI3GbDab3E63dn67U74qn0UVAgAAoLsiVCEm+EN+hepDSuyZ2OR4Qs8EhepD8of8Ua4MAAAA3R2hCjHB5XDJ0cOhYF2wyfHqumo5ejjkcriiXBkAAAC6O0IVYoInyaO0lDSVBcp0/H7VhmGoLFCm9AHp8iR52v17h8PS559LH39sPodZtgUAAIBj0P0PMcFusys/I1/7ftgnb6W5tiqhZ4Kq66pVFihTcmKy8kbnNexX1V5KS6XiYsnrlUIhyeGQ0tKk/Hxzs2EAAADAZhz/sX83FwgE5HK55Pf75XQ6rS4Hx2lqn6r0AenKG53X7u3US0ulBQukykrJ7ZYSE6VgUCork5KTpXnzCFYAAABdWWuzAXeqEFMyB2cqY1CGfFU++UN+uRwueZI87X6HKhw271BVVpp3po42HHQ6zdder7RypZSRIdmZRAsAANCtEaoQc+w2u0b2H9mh38PnM4OT2/2/QHWUzWYe37nTPG9kx5YCAACATo7P2IEm+P3mGqrEpju4KyHBHPfTwR0AAKDb405VNxIOm3dW/H7J5ZI8HqauNcflMptSBIPmlL/jVVeb4y46uAMAAHR7hKpugi52p8bjMf9+Skoar6mSJMMwm1WMHWueBwAAgO6NUNUNNNfFrqRE2rePLnZNsdvNwLlv3//WViUkmHeojnb/y8vjTh8AAABYU9XlHd/FzumU4uL+18WustLsYseGtifKzDQDZ1aWVFVlTp2sqjLvUBFEAQAAcBR3qro4uthFJjPTbJvOWjQAAAA0h1DVxbWmi11FBV3sWmK3EzgBAADQPD5v7+KO7WLXFLrYAQAAAJEhVHVxR7vYlZWZXeuOdbSLXXo6XewAAACAtiJUdXFHu9glJ5trqwIBqb7efPZ66WIHAAAARIpfpbsButgBAAAAHYdGFd1EZ+xiFw53rnoAAACAtiBUdSOdqYtdaam5f5bXa3YndDjMtV/5+dbcOSPgAQAAoK0IVYi60lJpwQJz42G322z3HgxKJSXSvn3Rn5LY2QIeAAAAYgufxSOqwmEzwFRWmsHF6ZTi4szntDTz+MqV5nnRcDTglZRISUnSWWeZzyUl5vHS0ujUAQAAgNhFqEJU+XzmHSG3W7LZGo/ZbObxnTvN8zpaZwt4AAAAiE2EKkSV329OsUtMbHo8IcEc9/s7vpbOFPAAAAAQuwhViCqXy1yzFAw2PV5dbY67XB1fS2cKeAAAAIhdhCpElcdjTq0rK5MMo/GYYZjH09PN8zpaZwp4AAAAiF2EKkSV3W521UtONqfeBQJSfb357PWax/PyotPOvDMFPAAAAMQuQhWiLjPTbJuelSVVVZlrlqqqpLFjo9tOvTMFPAAAAMQum2Ec/xl99xYIBORyueT3++V0Oq0up0vrLBvuNrVPVXq6GajYpwoAAKD7am02YPNfWMZul0aOtLoKMzhlZHSOgAcAAIDYQ6gC1HkCHgAAAGIPn8UDAAAAQAQIVQAAAAAQAUIVAAAAAESAUAUAAAAAESBUAQAAAEAECFUAAAAAEAFCFQAAAABEgFAFAAAAABEgVAEAAABABAhVAAAAABABQhUAAAAARCAmQtXevXtVUFCgYcOGqXfv3hoxYoTmz5+v2traRud9+umnuvDCC+VwOJSamqpHHnnEoooBAAAAdBc9rC6gNXbt2qVwOKwVK1bI4/Fo+/btmjFjhoLBoJYsWSJJCgQCuuSSSzRp0iQ988wz+uyzz/SrX/1K/fr100033WTxTwAAAACgq7IZhmFYXURbLF68WMuXL9cXX3whSVq+fLnuvfdeHThwQL169ZIkzZ07V6+++qp27drV6vcNBAJyuVzy+/1yOp0dUjsAAACAzq+12SAmpv81xe/3KykpqeH1+++/r4suuqghUEnS5MmTtXv3bn3//ffNvk9NTY0CgUCjBwAAAAC0VkyGKp/Pp2XLlunmm29uOHbgwAENHDiw0XlHXx84cKDZ91q0aJFcLlfDIzU1tWOKBgAAANAlWRqq5s6dK5vN1uLj+Kl75eXlys3N1ZVXXqkZM2ZEXMM999wjv9/f8Pj6668jfs+uJhyWPv9c+vhj8zkctroiAAAAoPOwtFHFHXfcoenTp7d4zvDhwxv+XFFRoZycHE2YMEHPPvtso/MGDRqkb775ptGxo68HDRrU7PvHx8crPj7+FCvvPkpLpeJiyeuVQiHJ4ZDS0qT8fCkz0+rqAAAAAOtZGqpSUlKUkpLSqnPLy8uVk5OjrKwsFRYWym5vfJNt/Pjxuvfee1VXV6eePXtKkjZs2KCzzz5bp512WrvX3h2UlkoLFkiVlZLbLSUmSsGgVFIi7dsnzZtHsAIAAABiYk1VeXm5srOzNXToUC1ZskQHDx7UgQMHGq2Vuvbaa9WrVy8VFBRox44dWrNmjZ544gndfvvtFlYeu8Jh8w5VZaV5Z8rplOLizOe0NPP4ypVMBQQAAABiYp+qDRs2yOfzyefzye12Nxo72hHe5XLpzTff1KxZs5SVlaXk5GTNmzePParayOczp/y53ZLN1njMZjOP79xpnjdypDU1AgAAAJ1BTISq6dOnn3TtlSSNHj1amzdv7viCugG/31xDlZjY9HhCglRRYZ4HAAAAdGcxMf0P0edymU0pgsGmx6urzXGXK7p1AQAAAJ0NoQpN8njMtVNlZdJ/Z1g2MAzzeHq6eR4AAADQnRGq0CS73Wybnpxsrq0KBKT6evPZ6zWP5+WZ5wEAAADdWUysqULrhcNm8wi/35ya5/G0PfhkZppt04/uU1VRYU75GzvWDFS0UwcAAAAIVV1KR2zUm5kpZWS0X1ADAAAAuhpCVRfRkRv12u20TQcAAACaw/2GLoCNegEAAADrEKq6gFPZqBcAAABA+2L6XxfQHhv1ho2wfFU++UN+uRwueZI8stvI3AAAAMDJEKq6gGM36nU6Txw/2Ua9pftLVbytWN6DXoXqQ3L0cCgtJU35GfnKHEyLPwAAAKAl3IroAiLZqLd0f6kWvLNAJRUlSuqdpLOSzlJS7ySVVJRowTsLVLq/NDo/BAAAABCjCFVdQFs36g0bYRVvK1ZldaXSktPkjHcqzh4nZ7xTaclpqqyu1MpPVyps0OECAAAAaA6hqos4ulFvVpZUVWU2paiqMjfqba6duq/KJ+9Br9xOt2zHdbiw2WxyO93a+e1O+arocAEAAAA0hzVVXcipbtTrD/kVqg8psWfTHS4Seiao4lCF/KEWOlwAAAAA3Ryhqos5lY16XQ6XHD0cCtYF5Yw/scNFdV21HD0ccjma6XABAAAAgOl/3ZknyaO0lDSVBcpkHNfhwjAMlQXKlD4gXZ6kJjpcAAAAAJBEqOrW7Da78jPylZyQLG+lV4GagOrD9QrUBOSt9Co5MVl5o/PYrwoAAABoAb8td3OZgzM1b+I8ZQ3JUtX/VclX5VPV/1Vp7OljNe+ieexTBQAAAJwEa6qgzMGZyhiUIV+VT/6QXy6HS54kD3eoAAAAgFYgVEGSORVwZP9WdrgAAAAA0IBbEQAAAAAQAUIVAAAAAESAUAUAAAAAESBUAQAAAEAECFUAAAAAEAFCFQAAAABEgFAFAAAAABEgVAEAAABABAhVAAAAABABQhUAAAAARIBQBQAAAAARIFQBAAAAQAQIVQAAAAAQAUIVAAAAAESAUAUAAAAAESBUAQAAAEAECFUAAAAAEAFCFQAAAABEgFAFAAAAABEgVAEAAABABHpYXQCaFjbC8lX55A/55XK45EnyyG4jAwMAAACdDaGqEyrdX6ribcXyHvQqVB+So4dDaSlpys/IV+bgTKvLAwAAAHAMQlUnU7q/VAveWaDK6kq5nW4l9kxUsC6okooS7fthn+ZNnEewAgAAADoR5pN1ImEjrOJtxaqsrlRacpqc8U7F2ePkjHcqLTlNldWVWvnpSoWNsNWlAgAAAPgvQlUn4qvyyXvQK7fTLZvN1mjMZrPJ7XRr57c75avyWVQhAAAAgOMRqjoRf8ivUH1IiT0TmxxP6JmgUH1I/pA/ypUBAAAAaA6hqhNxOVxy9HAoWBdscry6rlqOHg65HK4oVwYAAACgOYSqTsST5FFaSprKAmUyDKPRmGEYKguUKX1AujxJHosqBAAAAHA8QlUnYrfZlZ+Rr+SEZHkrvQrUBFQfrlegJiBvpVfJicnKG53HflUAAABAJ2Izjr8l0s0FAgG5XC75/X45nU5Lamhqn6r0AenKG52nzMGZCocln0/y+yWXS/J4JDs5CwAAAGhXrc0G7FPVCWUOzlTGoAz5qnzyh/xyOVzyJHlkt9lVWioVF0terxQKSQ6HlJYm5edLmWxfBQAAAEQdoaqTstvsGtl/ZKNjpaXSggVSZaXkdkuJiVIwKJWUSPv2SfPmEawAAACAaGPSWIwIh807VJWV5p0pp1OKizOf09LM4ytXmucBAAAAiB5CVYzw+cwpf263dNy+wLLZzOM7d5rnAQAAAIiemAhVe/fuVUFBgYYNG6bevXtrxIgRmj9/vmpraxudY7PZTnh88MEHFlbefvx+cw1VYtP7AishwRz3sy8wAAAAEFUxsaZq165dCofDWrFihTwej7Zv364ZM2YoGAxqyZIljc5966239KMf/ajhdf/+/aNdbodwucymFMGgOeXveNXV5riLfYEBAACAqIqJUJWbm6vc3NyG18OHD9fu3bu1fPnyE0JV//79NWjQoGiX2OE8HnPtVEmJ+XzsFEDDkMrKpLFjzfMAAAAARE9MTP9rit/vV1JS0gnHL7/8cg0YMEAXXHCBXnvttZO+T01NjQKBQKNHZ2S3m23Tk5PNtVWBgFRfbz57vebxvDz2qwIAAACiLSZ/Bff5fFq2bJluvvnmhmN9+vTRo48+qrVr1+r111/XBRdcoKlTp540WC1atEgul6vhkZqa2tHlt1lmptk2PStLqqoym1JUVZl3qGinDgAAAFjDZhiGYdU3nzt3rh5++OEWz/F6vRo1alTD6/Lyck2cOFHZ2dl67rnnWvzavLw8ffnll9q8eXOz59TU1KimpqbhdSAQUGpq6kl3TbZSOGwGKr/fXEPl8XCHCgAAAGhvgUBALpfrpNnA0jVVd9xxh6ZPn97iOcOHD2/4c0VFhXJycjRhwgQ9++yzJ33/cePGacOGDS2eEx8fr/j4+FbV21nY7dLIkSc/DwAAAEDHszRUpaSkKCUlpVXnlpeXKycnR1lZWSosLJS9Fbdmtm7dqsGDB0daJgAAAAA0Kya6/5WXlys7O1tnnHGGlixZooMHDzaMHe30V1xcrF69einzvwuLXnnlFT3//PMnnSIIAAAAAJGIiVC1YcMG+Xw++Xw+ud3uRmPHLgl78MEHtW/fPvXo0UOjRo3SmjVrNG3atGiXCwAAAKAbsbRRRWfU2sVoAAAAALq21mYDesYBAAAAQAQIVQAAAAAQAUIVAAAAAESAUAUAAAAAESBUAQAAAEAECFUAAAAAEAFCFQAAAABEgFAFAAAAABEgVAEAAABABHpYXUBnYxiGJHP3ZAAAAADd19FMcDQjNIdQdZxDhw5JklJTUy2uBAAAAEBncOjQIblcrmbHbcbJYlc3Ew6HVVFRob59+8pms1laSyAQUGpqqr7++ms5nU5La0H74Jp2TVzXrodr2vVwTbsmrmvX09muqWEYOnTokIYMGSK7vfmVU9ypOo7dbpfb7ba6jEacTmen+I8K7Ydr2jVxXbsermnXwzXtmriuXU9nuqYt3aE6ikYVAAAAABABQhUAAAAARIBQ1YnFx8dr/vz5io+Pt7oUtBOuadfEde16uKZdD9e0a+K6dj2xek1pVAEAAAAAEeBOFQAAAABEgFAFAAAAABEgVAEAAABABAhVAAAAABABQlWMuPzyyzV06FA5HA4NHjxYN9xwgyoqKqwuC220d+9eFRQUaNiwYerdu7dGjBih+fPnq7a21urSEKGFCxdqwoQJSkhIUL9+/awuB2309NNP68wzz5TD4dC4ceP00UcfWV0SIvDuu+/qsssu05AhQ2Sz2fTqq69aXRIitGjRIp133nnq27evBgwYoKlTp2r37t1Wl4UILF++XKNHj27Y9Hf8+PH6xz/+YXVZrUaoihE5OTl66aWXtHv3bv3tb3/Tnj17NG3aNKvLQhvt2rVL4XBYK1as0I4dO/T444/rmWee0e9//3urS0OEamtrdeWVV2rmzJlWl4I2WrNmjW6//XbNnz9f//73v5WRkaHJkyfr22+/tbo0tFEwGFRGRoaefvppq0tBO3nnnXc0a9YsffDBB9qwYYPq6up0ySWXKBgMWl0a2sjtdutPf/qTSkpK9Mknn+jiiy/WlClTtGPHDqtLaxVaqseo1157TVOnTlVNTY169uxpdTloB4sXL9by5cv1xRdfWF0K2kFRUZHmzJmjH374wepScIrGjRun8847T0899ZQkKRwOKzU1Vbfddpvmzp1rcXWIlM1m07p16zR16lSrS0E7OnjwoAYMGKB33nlHF110kdXloJ0kJSVp8eLFKigosLqUk+JOVQyqqqrSqlWrNGHCBAJVF+L3+5WUlGR1GUC3Vltbq5KSEk2aNKnhmN1u16RJk/T+++9bWBmAlvj9fkni/6NdxJEjR/Tiiy8qGAxq/PjxVpfTKoSqGHL33XcrMTFR/fv311dffaX169dbXRLaic/n07Jly3TzzTdbXQrQrVVWVurIkSMaOHBgo+MDBw7UgQMHLKoKQEvC4bDmzJmjn/70pzrnnHOsLgcR+Oyzz9SnTx/Fx8frlltu0bp165Senm51Wa1CqLLQ3LlzZbPZWnzs2rWr4fzf/e53Ki0t1Ztvvqm4uDjl5eWJ2Zudy6leU0kqLy9Xbm6urrzySs2YMcOiytGStlxXAEB0zJo1S9u3b9eLL75odSmI0Nlnn62tW7fqww8/1MyZM5Wfn6+dO3daXVarsKbKQgcPHtR3333X4jnDhw9Xr169TjheVlam1NRUvffeezFzW7Q7ONVrWlFRoezsbJ1//vkqKiqS3c7nHJ1RW/6tsqYqNtXW1iohIUEvv/xyozU3+fn5+uGHH5gh0AWwpqprufXWW7V+/Xq9++67GjZsmNXloJ1NmjRJI0aM0IoVK6wu5aR6WF1Ad5aSkqKUlJQ2fW04HJYk1dTUtGdJiNCpXNPy8nLl5OQoKytLhYWFBKpOLJJ/q4gtvXr1UlZWljZu3NjwS3c4HNbGjRt16623WlscgAaGYei2227TunXrtGnTJgJVFxUOh2Pmd11CVQz48MMP9fHHH+uCCy7Qaaedpj179uj+++/XiBEjuEsVo8rLy5Wdna0zzjhDS5Ys0cGDBxvGBg0aZGFliNRXX32lqqoqffXVVzpy5Ii2bt0qSfJ4POrTp4+1xaFVbr/9duXn52vs2LH6yU9+oqVLlyoYDOrGG2+0ujS00eHDh+Xz+Rpef/nll9q6dauSkpI0dOhQCytDW82aNUurV6/W+vXr1bdv34Y1jy6XS71797a4OrTFPffco1/84hcaOnSoDh06pNWrV2vTpk164403rC6tVZj+FwM+++wzzZ49W9u2bVMwGNTgwYOVm5ur++67T6effrrV5aENioqKmv0FjX+SsW369OkqLi4+4fjbb7+t7Ozs6BeENnnqqae0ePFiHThwQD/+8Y/15JNPaty4cVaXhTbatGmTcnJyTjien5+voqKi6BeEiNlstiaPFxYWavr06dEtBu2ioKBAGzdu1P79++VyuTR69Gjdfffd+vnPf251aa1CqAIAAACACLCIAwAAAAAiQKgCAAAAgAgQqgAAAAAgAoQqAAAAAIgAoQoAAAAAIkCoAgAAAIAIEKoAAAAAIAKEKgAALJadna05c+ZYXQYAoI0IVQCADjN9+nTZbLYTHj6fr13ev6ioSP369WuX92qLyy67TLm5uU2Obd68WTabTZ9++mmUqwIARBuhCgDQoXJzc7V///5Gj2HDhlld1gnq6upO+WsKCgq0YcMGlZWVnTBWWFiosWPHavTo0e1RHgCgEyNUAQA6VHx8vAYNGtToERcXJ0lav369xowZI4fDoeHDh+uBBx5QfX19w9c+9thjOvfcc5WYmKjU1FT95je/0eHDhyVJmzZt0o033ii/399wB+wPf/iDJMlms+nVV19tVEe/fv1UVFQkSdq7d69sNpvWrFmjiRMnyuFwaNWqVZKk5557TmlpaXI4HBo1apT+/Oc/N/uzXXrppUpJSWl436MOHz6stWvXqqCgQN99952uueYanX766UpISNC5556rv/71ry3+nZ2sfkn6+uuvddVVV6lfv35KSkrSlClTtHfv3hbfFwDQMQhVAABLbN68WXl5eZo9e7Z27typFStWqKioSAsXLmw4x26368knn9SOHTtUXFysf/7zn7rrrrskSRMmTNDSpUvldDob7oDdeeedp1TD3LlzNXv2bHm9Xk2ePFmrVq3SvHnztHDhQnm9Xj300EO6//77VVxc3OTX9+jRQ3l5eSoqKpJhGA3H165dqyNHjuiaa65RKBRSVlaWXn/9dW3fvl033XSTbrjhBn300Udt+Fsz1dXVafLkyerbt682b96sLVu2qE+fPsrNzVVtbW2b3xcA0EYGAAAdJD8/34iLizMSExMbHtOmTTMMwzB+9rOfGQ899FCj81944QVj8ODBzb7f2rVrjf79+ze8LiwsNFwu1wnnSTLWrVvX6JjL5TIKCwsNwzCML7/80pBkLF26tNE5I0aMMFavXt3o2IMPPmiMHz++2Zq8Xq8hyXj77bcbjl144YXG9ddf3+zX/PKXvzTuuOOOhtcTJ040Zs+e3er6X3jhBePss882wuFww3hNTY3Ru3dv44033mj2+wIAOkYPayMdAKCry8nJ0fLlyxteJyYmSpK2bdumLVu2NLozdeTIEYVCIVVXVyshIUFvvfWWFi1apF27dikQCKi+vr7ReKTGjh3b8OdgMKg9e/aooKBAM2bMaDheX18vl8vV7HuMGjVKEyZM0PPPP6/s7Gz5fD5t3rxZCxYsaPiZHnroIb300ksqLy9XbW2tampqIqp/27Zt8vl86tu3b6PjoVBIe/bsafP7AgDahlAFAOhQiYmJ8ng8Jxw/fPiwHnjgAV1xxRUnjDkcDu3du1eXXnqpZs6cqYULFyopKUn/+te/VFBQoNra2hZDic1mazQdT2q6EcXRgHe0Hkn6y1/+onHjxjU67+gasOYUFBTotttu09NPP63CwkKNGDFCEydOlCQtXrxYTzzxhJYuXdqwPmzOnDktTtM7Wf2HDx9WVlZWwzqwY6WkpLRYKwCg/RGqAACWGDNmjHbv3t1k4JKkkpIShcNhPfroo7LbzSXAL730UqNzevXqpSNHjpzwtSkpKdq/f3/D6//85z+qrq5usZ6BAwdqyJAh+uKLL3Tddded0s9y1VVXafbs2Vq9erVWrlypmTNnymazSZK2bNmiKVOm6Prrr5ckhcNhff7550pPT2/2/U5W/5gxY7RmzRoNGDBATqfzlGoFALQ/QhUAwBLz5s3TpZdeqqFDh2ratGmy2+3atm2btm/frj/+8Y/yeDyqq6vTsmXLdNlll2nLli165plnGr3HmWeeqcOHD2vjxo3KyMhQQkKCEhISdPHFF+upp57S+PHjdeTIEd19993q2bPnSWt64IEH9Nvf/lYul0u5ubmqqanRJ598ou+//1633357s1/Xp08fXX311brnnnsUCAQ0ffr0hrGzzjpLL7/8st577z2ddtppeuyxx/TNN9+0GKpOVv91112nxYsXa8qUKVqwYIHcbrf27dunV155RXfddZfcbvdJf1YAQPuh+x8AwBKTJ0/W3//+d7355ps677zzdP755+vxxx/XGWecIUnKyMjQY489pocffljnnHOOVq1apUWLFjV6jwkTJuiWW27R1VdfrZSUFD3yyCOSpEcffVSpqam68MILde211+rOO+9s1RqmX//613ruuedUWFioc889VxMnTlRRUVGr9tUqKCjQ999/r8mTJ2vIkCENx++77z6NGTNGkydPVnZ2tgYNGqSpU6e2+F4nqz8hIUHvvvuuhg4dqiuuuEJpaWkqKChQKBTizhUAWMBmHD9pGwAAAADQatypAgAAAIAIEKoAAAAAIAKEKgAAAACIAKEKAAAAACJAqAIAAACACBCqAAAAACAChCoAAAAAiAChCgAAAAAiQKgCAAAAgAgQqgAAAAAgAoQqAAAAAIgAoQoAAAAAIvD/tJyQ7Nh/hmQAAAAASUVORK5CYII=\n",
                  "text/plain": "<Figure size 1000x600 with 1 Axes>"
                },
                "metadata": {},
                "output_type": "display_data"
              }
            ]
          }
        },
        "957624ef6da1467f8f5137371bdddd2a": {
          "model_module": "@jupyter-widgets/controls",
          "model_module_version": "1.5.0",
          "model_name": "SliderStyleModel",
          "state": {
            "_model_module": "@jupyter-widgets/controls",
            "_model_module_version": "1.5.0",
            "_model_name": "SliderStyleModel",
            "_view_count": null,
            "_view_module": "@jupyter-widgets/base",
            "_view_module_version": "1.2.0",
            "_view_name": "StyleView",
            "description_width": "",
            "handle_color": null
          }
        },
        "a4ef2594775645dcb57c2980bd1568f6": {
          "model_module": "@jupyter-widgets/base",
          "model_module_version": "1.2.0",
          "model_name": "LayoutModel",
          "state": {
            "_model_module": "@jupyter-widgets/base",
            "_model_module_version": "1.2.0",
            "_model_name": "LayoutModel",
            "_view_count": null,
            "_view_module": "@jupyter-widgets/base",
            "_view_module_version": "1.2.0",
            "_view_name": "LayoutView",
            "align_content": null,
            "align_items": null,
            "align_self": null,
            "border": null,
            "bottom": null,
            "display": null,
            "flex": null,
            "flex_flow": null,
            "grid_area": null,
            "grid_auto_columns": null,
            "grid_auto_flow": null,
            "grid_auto_rows": null,
            "grid_column": null,
            "grid_gap": null,
            "grid_row": null,
            "grid_template_areas": null,
            "grid_template_columns": null,
            "grid_template_rows": null,
            "height": null,
            "justify_content": null,
            "justify_items": null,
            "left": null,
            "margin": null,
            "max_height": null,
            "max_width": null,
            "min_height": null,
            "min_width": null,
            "object_fit": null,
            "object_position": null,
            "order": null,
            "overflow": null,
            "overflow_x": null,
            "overflow_y": null,
            "padding": null,
            "right": null,
            "top": null,
            "visibility": null,
            "width": null
          }
        },
        "a57f47b4bbed42c690ee5d495f4c58eb": {
          "model_module": "@jupyter-widgets/controls",
          "model_module_version": "1.5.0",
          "model_name": "FloatSliderModel",
          "state": {
            "_dom_classes": [],
            "_model_module": "@jupyter-widgets/controls",
            "_model_module_version": "1.5.0",
            "_model_name": "FloatSliderModel",
            "_view_count": null,
            "_view_module": "@jupyter-widgets/controls",
            "_view_module_version": "1.5.0",
            "_view_name": "FloatSliderView",
            "continuous_update": true,
            "description": "m",
            "description_tooltip": null,
            "disabled": false,
            "layout": "IPY_MODEL_390bab8ed6eb46b6819a86f34a547a92",
            "max": 30,
            "min": -10,
            "orientation": "horizontal",
            "readout": true,
            "readout_format": ".2f",
            "step": 0.1,
            "style": "IPY_MODEL_126d50afe7904a4cb805b17b1772f14d",
            "value": 10
          }
        },
        "ae65b87eb1bf4f1abae98c745e0207b7": {
          "model_module": "@jupyter-widgets/base",
          "model_module_version": "1.2.0",
          "model_name": "LayoutModel",
          "state": {
            "_model_module": "@jupyter-widgets/base",
            "_model_module_version": "1.2.0",
            "_model_name": "LayoutModel",
            "_view_count": null,
            "_view_module": "@jupyter-widgets/base",
            "_view_module_version": "1.2.0",
            "_view_name": "LayoutView",
            "align_content": null,
            "align_items": null,
            "align_self": null,
            "border": null,
            "bottom": null,
            "display": null,
            "flex": null,
            "flex_flow": null,
            "grid_area": null,
            "grid_auto_columns": null,
            "grid_auto_flow": null,
            "grid_auto_rows": null,
            "grid_column": null,
            "grid_gap": null,
            "grid_row": null,
            "grid_template_areas": null,
            "grid_template_columns": null,
            "grid_template_rows": null,
            "height": null,
            "justify_content": null,
            "justify_items": null,
            "left": null,
            "margin": null,
            "max_height": null,
            "max_width": null,
            "min_height": null,
            "min_width": null,
            "object_fit": null,
            "object_position": null,
            "order": null,
            "overflow": null,
            "overflow_x": null,
            "overflow_y": null,
            "padding": null,
            "right": null,
            "top": null,
            "visibility": null,
            "width": null
          }
        },
        "b3125d0498e24692b661ece5ffe81d0b": {
          "model_module": "@jupyter-widgets/base",
          "model_module_version": "1.2.0",
          "model_name": "LayoutModel",
          "state": {
            "_model_module": "@jupyter-widgets/base",
            "_model_module_version": "1.2.0",
            "_model_name": "LayoutModel",
            "_view_count": null,
            "_view_module": "@jupyter-widgets/base",
            "_view_module_version": "1.2.0",
            "_view_name": "LayoutView",
            "align_content": null,
            "align_items": null,
            "align_self": null,
            "border": null,
            "bottom": null,
            "display": null,
            "flex": null,
            "flex_flow": null,
            "grid_area": null,
            "grid_auto_columns": null,
            "grid_auto_flow": null,
            "grid_auto_rows": null,
            "grid_column": null,
            "grid_gap": null,
            "grid_row": null,
            "grid_template_areas": null,
            "grid_template_columns": null,
            "grid_template_rows": null,
            "height": "400px",
            "justify_content": null,
            "justify_items": null,
            "left": null,
            "margin": null,
            "max_height": null,
            "max_width": null,
            "min_height": null,
            "min_width": null,
            "object_fit": null,
            "object_position": null,
            "order": null,
            "overflow": null,
            "overflow_x": null,
            "overflow_y": null,
            "padding": null,
            "right": null,
            "top": null,
            "visibility": null,
            "width": null
          }
        },
        "b8cd90e610ac4c3da9200c924bd909f5": {
          "model_module": "@jupyter-widgets/output",
          "model_module_version": "1.0.0",
          "model_name": "OutputModel",
          "state": {
            "_dom_classes": [],
            "_model_module": "@jupyter-widgets/output",
            "_model_module_version": "1.0.0",
            "_model_name": "OutputModel",
            "_view_count": null,
            "_view_module": "@jupyter-widgets/output",
            "_view_module_version": "1.0.0",
            "_view_name": "OutputView",
            "layout": "IPY_MODEL_b3125d0498e24692b661ece5ffe81d0b",
            "msg_id": "",
            "outputs": [
              {
                "data": {
                  "image/png": "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\n",
                  "text/plain": "<Figure size 600x400 with 1 Axes>"
                },
                "metadata": {},
                "output_type": "display_data"
              }
            ]
          }
        },
        "b9a29eb8d8da49fc97dcd826592562d2": {
          "model_module": "@jupyter-widgets/controls",
          "model_module_version": "1.5.0",
          "model_name": "SliderStyleModel",
          "state": {
            "_model_module": "@jupyter-widgets/controls",
            "_model_module_version": "1.5.0",
            "_model_name": "SliderStyleModel",
            "_view_count": null,
            "_view_module": "@jupyter-widgets/base",
            "_view_module_version": "1.2.0",
            "_view_name": "StyleView",
            "description_width": "",
            "handle_color": null
          }
        },
        "c65264261a3d448984a70e63e8d6a653": {
          "model_module": "@jupyter-widgets/base",
          "model_module_version": "1.2.0",
          "model_name": "LayoutModel",
          "state": {
            "_model_module": "@jupyter-widgets/base",
            "_model_module_version": "1.2.0",
            "_model_name": "LayoutModel",
            "_view_count": null,
            "_view_module": "@jupyter-widgets/base",
            "_view_module_version": "1.2.0",
            "_view_name": "LayoutView",
            "align_content": null,
            "align_items": null,
            "align_self": null,
            "border": null,
            "bottom": null,
            "display": null,
            "flex": null,
            "flex_flow": null,
            "grid_area": null,
            "grid_auto_columns": null,
            "grid_auto_flow": null,
            "grid_auto_rows": null,
            "grid_column": null,
            "grid_gap": null,
            "grid_row": null,
            "grid_template_areas": null,
            "grid_template_columns": null,
            "grid_template_rows": null,
            "height": "600px",
            "justify_content": null,
            "justify_items": null,
            "left": null,
            "margin": null,
            "max_height": null,
            "max_width": null,
            "min_height": null,
            "min_width": null,
            "object_fit": null,
            "object_position": null,
            "order": null,
            "overflow": null,
            "overflow_x": null,
            "overflow_y": null,
            "padding": null,
            "right": null,
            "top": null,
            "visibility": null,
            "width": null
          }
        },
        "c9233efe4f6b4559979a492252c2c081": {
          "model_module": "@jupyter-widgets/controls",
          "model_module_version": "1.5.0",
          "model_name": "FloatSliderModel",
          "state": {
            "_dom_classes": [],
            "_model_module": "@jupyter-widgets/controls",
            "_model_module_version": "1.5.0",
            "_model_name": "FloatSliderModel",
            "_view_count": null,
            "_view_module": "@jupyter-widgets/controls",
            "_view_module_version": "1.5.0",
            "_view_name": "FloatSliderView",
            "continuous_update": true,
            "description": "m",
            "description_tooltip": null,
            "disabled": false,
            "layout": "IPY_MODEL_6ffa466f40a544c783f6dc3df4b2cc55",
            "max": 5,
            "min": -5,
            "orientation": "horizontal",
            "readout": true,
            "readout_format": ".2f",
            "step": 0.1,
            "style": "IPY_MODEL_93742e660d8c472cb21e8e2d67ad10f4",
            "value": 2
          }
        },
        "d01b39d103c34c5c86311aca2c8799d1": {
          "model_module": "@jupyter-widgets/controls",
          "model_module_version": "1.5.0",
          "model_name": "VBoxModel",
          "state": {
            "_dom_classes": [
              "widget-interact"
            ],
            "_model_module": "@jupyter-widgets/controls",
            "_model_module_version": "1.5.0",
            "_model_name": "VBoxModel",
            "_view_count": null,
            "_view_module": "@jupyter-widgets/controls",
            "_view_module_version": "1.5.0",
            "_view_name": "VBoxView",
            "box_style": "",
            "children": [
              "IPY_MODEL_263e5931517a4234823ced73c4ccae51",
              "IPY_MODEL_95226830d54545d2a014b3673b3dbca9"
            ],
            "layout": "IPY_MODEL_70c9705fea7047108d081822fbbb4727"
          }
        },
        "d26fce2106844c9191ad01d4b7abf542": {
          "model_module": "@jupyter-widgets/base",
          "model_module_version": "1.2.0",
          "model_name": "LayoutModel",
          "state": {
            "_model_module": "@jupyter-widgets/base",
            "_model_module_version": "1.2.0",
            "_model_name": "LayoutModel",
            "_view_count": null,
            "_view_module": "@jupyter-widgets/base",
            "_view_module_version": "1.2.0",
            "_view_name": "LayoutView",
            "align_content": null,
            "align_items": null,
            "align_self": null,
            "border": null,
            "bottom": null,
            "display": null,
            "flex": null,
            "flex_flow": null,
            "grid_area": null,
            "grid_auto_columns": null,
            "grid_auto_flow": null,
            "grid_auto_rows": null,
            "grid_column": null,
            "grid_gap": null,
            "grid_row": null,
            "grid_template_areas": null,
            "grid_template_columns": null,
            "grid_template_rows": null,
            "height": null,
            "justify_content": null,
            "justify_items": null,
            "left": null,
            "margin": null,
            "max_height": null,
            "max_width": null,
            "min_height": null,
            "min_width": null,
            "object_fit": null,
            "object_position": null,
            "order": null,
            "overflow": null,
            "overflow_x": null,
            "overflow_y": null,
            "padding": null,
            "right": null,
            "top": null,
            "visibility": null,
            "width": null
          }
        },
        "d8a2e8397b5643299375d072187938d4": {
          "model_module": "@jupyter-widgets/base",
          "model_module_version": "1.2.0",
          "model_name": "LayoutModel",
          "state": {
            "_model_module": "@jupyter-widgets/base",
            "_model_module_version": "1.2.0",
            "_model_name": "LayoutModel",
            "_view_count": null,
            "_view_module": "@jupyter-widgets/base",
            "_view_module_version": "1.2.0",
            "_view_name": "LayoutView",
            "align_content": null,
            "align_items": null,
            "align_self": null,
            "border": null,
            "bottom": null,
            "display": null,
            "flex": null,
            "flex_flow": null,
            "grid_area": null,
            "grid_auto_columns": null,
            "grid_auto_flow": null,
            "grid_auto_rows": null,
            "grid_column": null,
            "grid_gap": null,
            "grid_row": null,
            "grid_template_areas": null,
            "grid_template_columns": null,
            "grid_template_rows": null,
            "height": null,
            "justify_content": null,
            "justify_items": null,
            "left": null,
            "margin": null,
            "max_height": null,
            "max_width": null,
            "min_height": null,
            "min_width": null,
            "object_fit": null,
            "object_position": null,
            "order": null,
            "overflow": null,
            "overflow_x": null,
            "overflow_y": null,
            "padding": null,
            "right": null,
            "top": null,
            "visibility": null,
            "width": null
          }
        },
        "d96b8022b44d4900a53dc1d345435a10": {
          "model_module": "@jupyter-widgets/controls",
          "model_module_version": "1.5.0",
          "model_name": "SliderStyleModel",
          "state": {
            "_model_module": "@jupyter-widgets/controls",
            "_model_module_version": "1.5.0",
            "_model_name": "SliderStyleModel",
            "_view_count": null,
            "_view_module": "@jupyter-widgets/base",
            "_view_module_version": "1.2.0",
            "_view_name": "StyleView",
            "description_width": "",
            "handle_color": null
          }
        },
        "dfd0460376644af585b38a49fe56bebc": {
          "model_module": "@jupyter-widgets/controls",
          "model_module_version": "1.5.0",
          "model_name": "IntSliderModel",
          "state": {
            "_dom_classes": [],
            "_model_module": "@jupyter-widgets/controls",
            "_model_module_version": "1.5.0",
            "_model_name": "IntSliderModel",
            "_view_count": null,
            "_view_module": "@jupyter-widgets/controls",
            "_view_module_version": "1.5.0",
            "_view_name": "IntSliderView",
            "continuous_update": true,
            "description": "b",
            "description_tooltip": null,
            "disabled": false,
            "layout": "IPY_MODEL_d26fce2106844c9191ad01d4b7abf542",
            "max": 100,
            "min": -100,
            "orientation": "horizontal",
            "readout": true,
            "readout_format": "d",
            "step": 1,
            "style": "IPY_MODEL_957624ef6da1467f8f5137371bdddd2a",
            "value": 0
          }
        },
        "eda0c3df002a4ee78509f86153627f2c": {
          "model_module": "@jupyter-widgets/controls",
          "model_module_version": "1.5.0",
          "model_name": "VBoxModel",
          "state": {
            "_dom_classes": [
              "widget-interact"
            ],
            "_model_module": "@jupyter-widgets/controls",
            "_model_module_version": "1.5.0",
            "_model_name": "VBoxModel",
            "_view_count": null,
            "_view_module": "@jupyter-widgets/controls",
            "_view_module_version": "1.5.0",
            "_view_name": "VBoxView",
            "box_style": "",
            "children": [
              "IPY_MODEL_a57f47b4bbed42c690ee5d495f4c58eb",
              "IPY_MODEL_dfd0460376644af585b38a49fe56bebc",
              "IPY_MODEL_f4fb986b49534627a66f3fe1803ee7ed"
            ],
            "layout": "IPY_MODEL_d8a2e8397b5643299375d072187938d4"
          }
        },
        "f4fb986b49534627a66f3fe1803ee7ed": {
          "model_module": "@jupyter-widgets/output",
          "model_module_version": "1.0.0",
          "model_name": "OutputModel",
          "state": {
            "_dom_classes": [],
            "_model_module": "@jupyter-widgets/output",
            "_model_module_version": "1.0.0",
            "_model_name": "OutputModel",
            "_view_count": null,
            "_view_module": "@jupyter-widgets/output",
            "_view_module_version": "1.0.0",
            "_view_name": "OutputView",
            "layout": "IPY_MODEL_c65264261a3d448984a70e63e8d6a653",
            "msg_id": "",
            "outputs": [
              {
                "data": {
                  "image/png": "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\n",
                  "text/plain": "<Figure size 800x600 with 1 Axes>"
                },
                "metadata": {},
                "output_type": "display_data"
              }
            ]
          }
        }
      }
    }
  },
  "nbformat": 4,
  "nbformat_minor": 0
}
